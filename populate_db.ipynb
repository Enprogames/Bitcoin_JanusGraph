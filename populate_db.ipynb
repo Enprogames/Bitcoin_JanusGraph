{
 "cells": [
  {
   "cell_type": "markdown",
   "metadata": {},
   "source": [
    "### Initialize Environment and Populate Blockchain Database"
   ]
  },
  {
   "cell_type": "code",
   "execution_count": 2,
   "metadata": {},
   "outputs": [
    {
     "data": {
      "text/plain": [
       "False"
      ]
     },
     "execution_count": 2,
     "metadata": {},
     "output_type": "execute_result"
    }
   ],
   "source": [
    "import os\n",
    "import sys\n",
    "from pathlib import Path\n",
    "\n",
    "container_src_path = Path('/app/src/')\n",
    "local_src_path = Path(Path.cwd(), 'src/')\n",
    "\n",
    "# see if this src path exists.\n",
    "# if it does, we are in a container.\n",
    "# if not, we are in local.\n",
    "if not container_src_path.exists():\n",
    "    src_path = local_src_path\n",
    "    in_container = False\n",
    "else:\n",
    "    src_path = container_src_path\n",
    "    in_container = True\n",
    "\n",
    "src_path_str = str(src_path)\n",
    "if src_path_str not in sys.path:\n",
    "    sys.path.insert(0, src_path_str)\n",
    "\n",
    "from dotenv import load_dotenv\n",
    "\n",
    "from blockchain_data_provider import (\n",
    "    PersistentBlockchainAPIData,\n",
    "    BlockchainAPIJSON\n",
    ")\n",
    "\n",
    "from models.base import SessionLocal\n",
    "from models.bitcoin_data import Block\n",
    "\n",
    "# see if database tables exist. if not, create them\n",
    "from models import base\n",
    "from sqlalchemy import inspect\n",
    "from sqlalchemy.sql import text\n",
    "\n",
    "# block_data_url = \"https://blockchain.info/rawblock/{height}?format=json\"\n",
    "block_data_url = \"http://localhost:8500/block/{height}\"\n",
    "\n",
    "DELETE_DB = False\n",
    "# DELETE_DB = True\n",
    "\n",
    "inspector = inspect(base.engine)\n",
    "\n",
    "if DELETE_DB:\n",
    "# wipe the database\n",
    "    with SessionLocal() as session:\n",
    "        if inspector.has_table(\"inputs\"):\n",
    "            session.execute(text('DELETE FROM inputs'))\n",
    "        if inspector.has_table(\"outputs\"):\n",
    "            session.execute(text('DELETE FROM outputs'))\n",
    "        if inspector.has_table(\"transactions\"):\n",
    "            session.execute(text('DELETE FROM transactions'))\n",
    "        if inspector.has_table(\"blocks\"):\n",
    "            session.execute(text('DELETE FROM blocks'))\n",
    "        if inspector.has_table(\"addresses\"):\n",
    "            session.execute(text('DELETE FROM addresses'))\n",
    "        session.commit()\n",
    "\n",
    "    # if Path(Path.cwd(), DATABASE_URL).exists():\n",
    "    #     os.remove(Path(Path.cwd(), DATABASE_URL))\n",
    "\n",
    "    print(\"Database wiped.\")\n",
    "\n",
    "if not inspector.has_table(\"blocks\"):\n",
    "    print(\"No data found. Database created.\")\n",
    "\n",
    "load_dotenv()\n"
   ]
  },
  {
   "cell_type": "code",
   "execution_count": 3,
   "metadata": {},
   "outputs": [
    {
     "name": "stdout",
     "output_type": "stream",
     "text": [
      "Deleting block 200002\n"
     ]
    }
   ],
   "source": [
    "from models.base import SessionLocal\n",
    "from models.bitcoin_data import Block, Tx, Input, Output, Address\n",
    "\n",
    "def delete_block_and_related_entities(session, block_height):\n",
    "    # Select IDs of inputs related to this block and delete them\n",
    "    input_ids = session.query(Input.id).join(Tx, Tx.id == Input.tx_id).filter(Tx.block_height == block_height).all()\n",
    "    input_ids = [id[0] for id in input_ids]\n",
    "    if input_ids:\n",
    "        session.query(Input).filter(Input.id.in_(input_ids)).delete(synchronize_session=False)\n",
    "\n",
    "    # Select IDs of outputs related to this block and delete them\n",
    "    output_ids = session.query(Output.id).join(Tx, Tx.id == Output.tx_id).filter(Tx.block_height == block_height).all()\n",
    "    output_ids = [id[0] for id in output_ids]\n",
    "    if output_ids:\n",
    "        session.query(Output).filter(Output.id.in_(output_ids)).delete(synchronize_session=False)\n",
    "\n",
    "    # Delete all transactions related to this block\n",
    "    session.query(Tx).filter(Tx.block_height == block_height).delete(synchronize_session=False)\n",
    "\n",
    "    # Finally, delete the block itself\n",
    "    session.query(Block).filter_by(height=block_height).delete(synchronize_session=False)\n",
    "\n",
    "    # Commit once after deleting all related entities and the block\n",
    "    session.commit()\n",
    "    print(f\"Deleted block and related entities for block height {block_height}\")\n",
    "\n",
    "\n",
    "def delete_blocks_in_batches(session, starting_height, batch_size=100):\n",
    "    while True:\n",
    "        # Get a batch of block heights to delete\n",
    "        block_heights = session.query(Block.height).filter(Block.height > starting_height).limit(batch_size).all()\n",
    "\n",
    "        if not block_heights:\n",
    "            break  # Exit if no more blocks to delete\n",
    "\n",
    "        # Convert list of tuples to list of heights\n",
    "        block_heights = [height[0] for height in block_heights]\n",
    "\n",
    "        for block_height in block_heights:\n",
    "            print(f\"Deleting block {block_height}\")\n",
    "            delete_block_and_related_entities(session, block_height)\n",
    "\n",
    "\n",
    "with SessionLocal() as session:\n",
    "    delete_blocks_in_batches(session, 200000)"
   ]
  },
  {
   "cell_type": "code",
   "execution_count": 2,
   "metadata": {},
   "outputs": [],
   "source": [
    "from models.base import SessionLocal\n",
    "from models.bitcoin_data import Block\n",
    "\n",
    "def delete_blocks_in_batches(session, batch_size=2):\n",
    "    while True:\n",
    "        # Start a transaction\n",
    "        session.begin()\n",
    "        \n",
    "        # Get a batch of block heights to delete\n",
    "        block_heights = session.query(Block.height).filter(Block.height > 200000).limit(batch_size).all()\n",
    "\n",
    "        if not block_heights:\n",
    "            break  # Exit if no more blocks to delete\n",
    "\n",
    "        # Convert list of tuples to list of heights\n",
    "        block_heights = [height[0] for height in block_heights]\n",
    "\n",
    "        # Delete blocks in the batch\n",
    "        session.query(Block).filter(Block.height.in_(block_heights)).delete(synchronize_session=False)\n",
    "        session.commit()\n",
    "        print(f\"Deleted blocks {block_heights[0]} to {block_heights[-1]}\")\n",
    "\n",
    "with SessionLocal() as session:\n",
    "    delete_blocks_in_batches(session)"
   ]
  },
  {
   "cell_type": "code",
   "execution_count": null,
   "metadata": {},
   "outputs": [],
   "source": [
    "# max_height = 100_000\n",
    "max_height = 100_000\n",
    "\n",
    "with SessionLocal() as session:\n",
    "    highest_block = session.query(Block).order_by(Block.height.desc()).first()\n",
    "\n",
    "if highest_block is not None:\n",
    "    print(f\"highest block: {highest_block.height}\")\n",
    "\n",
    "slow_provider = BlockchainAPIJSON(block_endpoint=block_data_url)\n",
    "provider = PersistentBlockchainAPIData(data_provider=slow_provider)\n",
    "with SessionLocal() as session:\n",
    "    provider.populate_blocks(session, range(0,max_height+1), show_progressbar=True)\n",
    "\n",
    "with SessionLocal() as session:\n",
    "    # ensure we can get block 170\n",
    "    assert len(provider.get_block(session, 170).transactions) == 2\n",
    "    assert len(provider.get_block(session, 546).transactions) == 4"
   ]
  },
  {
   "cell_type": "markdown",
   "metadata": {},
   "source": [
    "### Get some Data"
   ]
  },
  {
   "cell_type": "code",
   "execution_count": 2,
   "metadata": {},
   "outputs": [
    {
     "name": "stdout",
     "output_type": "stream",
     "text": [
      "transaction count: 2\n",
      "address of first output: 1Q2TWHE3GMdB6BZKafqwxXtWAWgFt5Jvm3\n",
      "Tx(id=2519048, hash=8153b1fc28117ccf84997e8acfd349d9c209698c0fa1d812f253d0becc9c46c1, index=6800288721132042)\n",
      "Inputs:\n",
      "\t0: 1KKn (584.72)\n",
      "Outputs:\n",
      "\t0: 1LQD (434.705)\n",
      "\t1: 1AMn (150.0)\n",
      "Input sum: 58472000000\n"
     ]
    }
   ],
   "source": [
    "from blockchain_data_provider import PersistentBlockchainAPIData\n",
    "\n",
    "slow_provider = BlockchainAPIJSON(block_endpoint=block_data_url)\n",
    "provider = PersistentBlockchainAPIData(data_provider=slow_provider)\n",
    "\n",
    "# provider.latest_parsed_block = 2811\n",
    "# with SessionLocal() as session:\n",
    "#     provider.populate_block(session, 2812)\n",
    "\n",
    "data_provider = PersistentBlockchainAPIData()\n",
    "with SessionLocal() as session:\n",
    "    block_170 = data_provider.get_block(session, 170)\n",
    "\n",
    "print(f\"transaction count: {len(block_170.transactions)}\")\n",
    "\n",
    "tx_12cb = block_170.transactions[1]\n",
    "print(f\"address of first output: {tx_12cb.outputs[0].address.addr}\")\n",
    "assert provider.get_output(session, 170).value == 5000000000\n",
    "\n",
    "with SessionLocal() as session:\n",
    "    block_170 = data_provider.get_block(session, 0)\n",
    "\n",
    "assert block_170.height == 0\n",
    "assert block_170.transactions[0].outputs[0].id == 0, block_170.transactions[0].outputs[0].id\n",
    "\n",
    "tx_id = 2_519_048\n",
    "\n",
    "with SessionLocal() as session:\n",
    "    tx = data_provider.get_tx(session, tx_id)\n",
    "\n",
    "tx.pretty_print()\n",
    "print(f\"Input sum: {tx.total_input_value()}\")"
   ]
  },
  {
   "cell_type": "code",
   "execution_count": 7,
   "metadata": {},
   "outputs": [
    {
     "name": "stdout",
     "output_type": "stream",
     "text": [
      "1DZT\n",
      "1DCb\n"
     ]
    }
   ],
   "source": [
    "from sqlalchemy.orm import joinedload\n",
    "\n",
    "from models.bitcoin_data import Tx, Input, Output\n",
    "\n",
    "tx_index = 3003916113328251\n",
    "\n",
    "with SessionLocal() as session:\n",
    "    tx_obj = session.query(Tx).options(\n",
    "            joinedload(Tx.inputs)\n",
    "            .joinedload(Input.prev_out),\n",
    "            joinedload(Tx.outputs)\n",
    "            .joinedload(Output.address)    \n",
    "        ).filter_by(index=tx_index).first()\n",
    "\n",
    "for out in tx_obj.outputs:\n",
    "    print(out.address.addr[:4])"
   ]
  },
  {
   "cell_type": "markdown",
   "metadata": {},
   "source": [
    "### Count Transactions"
   ]
  },
  {
   "cell_type": "code",
   "execution_count": null,
   "metadata": {},
   "outputs": [],
   "source": [
    "from sqlalchemy import func\n",
    "from sqlalchemy.orm import joinedload\n",
    "\n",
    "from models.bitcoin_data import Tx, Input, Output\n",
    "\n",
    "tx_index = 3003916113328251\n",
    "\n",
    "with SessionLocal() as session:\n",
    "    tx_count = session.query(func.count(Tx.id)).scalar()\n",
    "\n",
    "print(tx_count)\n",
    "# this takes up 292MB of memory\n",
    "# so 500M transactions would take up the following\n",
    "mb_per_tx = 292 / tx_count\n",
    "print(f\"memory usage: {mb_per_tx * 500_000_000}MB\")\n",
    "# So, approximately 659 GB of storage space would be required for 500 million transactions."
   ]
  },
  {
   "cell_type": "markdown",
   "metadata": {},
   "source": [
    "#### Iterate over Transactions"
   ]
  },
  {
   "cell_type": "code",
   "execution_count": 3,
   "metadata": {},
   "outputs": [
    {
     "name": "stdout",
     "output_type": "stream",
     "text": [
      "tx count: 10093\n"
     ]
    },
    {
     "name": "stderr",
     "output_type": "stream",
     "text": [
      "  0%|          | 0/10093 [01:56<?, ?it/s]\n",
      "100%|██████████| 10093/10093 [01:25<00:00, 117.81it/s]\n"
     ]
    }
   ],
   "source": [
    "from sqlalchemy import func\n",
    "from sqlalchemy.orm import joinedload\n",
    "from models.bitcoin_data import Tx, Input, Output\n",
    "import models.base\n",
    "\n",
    "from tqdm import tqdm\n",
    "from blockchain_data_provider import PersistentBlockchainAPIData\n",
    "\n",
    "provider = PersistentBlockchainAPIData()\n",
    "\n",
    "max_height = 10_000\n",
    "\n",
    "with base.SessionLocal() as session:\n",
    "    tx_count = session.query(Tx)\\\n",
    "                      .filter(Tx.block_height <= max_height).count()\n",
    "\n",
    "print(f\"tx count: {tx_count}\")\n",
    "progressbar = tqdm(total=tx_count)\n",
    "last_height = 0\n",
    "\n",
    "with base.SessionLocal() as session:\n",
    "    for tx in provider.get_txs_for_blocks(\n",
    "        session,\n",
    "        min_height=0,\n",
    "        max_height=max_height,\n",
    "        buffer=10_000\n",
    "    ):\n",
    "        string = f\"{tx.block_height}: {tx.index_in_block}\"\n",
    "        [f\"{output.address.addr}: {output.value}\" for output in tx.outputs]\n",
    "        assert tx.block_height >= last_height and tx.block_height-1 <= last_height, f\"Error: last height: {last_height}, current height: {tx.block_height}\"\n",
    "        last_height = tx.block_height\n",
    "        progressbar.update(1)\n",
    "\n",
    "progressbar.close()\n"
   ]
  },
  {
   "cell_type": "markdown",
   "metadata": {},
   "source": [
    "### Iterate Over Outputs"
   ]
  },
  {
   "cell_type": "code",
   "execution_count": 3,
   "metadata": {},
   "outputs": [
    {
     "name": "stdout",
     "output_type": "stream",
     "text": [
      "output count: 20181\n"
     ]
    },
    {
     "name": "stderr",
     "output_type": "stream",
     "text": [
      "100%|██████████| 20181/20181 [00:16<00:00, 1245.10it/s]\n"
     ]
    }
   ],
   "source": [
    "from sqlalchemy import func\n",
    "from sqlalchemy.orm import joinedload\n",
    "from models.bitcoin_data import Tx, Input, Output\n",
    "import models.base\n",
    "\n",
    "from tqdm import tqdm\n",
    "from blockchain_data_provider import PersistentBlockchainAPIData\n",
    "\n",
    "provider = PersistentBlockchainAPIData()\n",
    "\n",
    "max_height = 20_000\n",
    "\n",
    "with base.SessionLocal() as session:\n",
    "    output_count = session.query(Output)\\\n",
    "                          .join(Tx)\\\n",
    "                          .filter(Tx.block_height <= max_height).count()\n",
    "    \n",
    "print(f\"output count: {output_count}\")\n",
    "progressbar = tqdm(total=output_count)\n",
    "\n",
    "with base.SessionLocal() as session:\n",
    "    for output in provider.get_outputs_for_blocks(\n",
    "        session,\n",
    "        min_height=0,\n",
    "        max_height=max_height,\n",
    "        buffer=20_000\n",
    "    ):\n",
    "        string = f\"{output.address.addr}: {output.value}\"\n",
    "        progressbar.update(1)\n",
    "\n",
    "progressbar.close()\n",
    "\n",
    "\n"
   ]
  },
  {
   "cell_type": "code",
   "execution_count": null,
   "metadata": {},
   "outputs": [],
   "source": []
  },
  {
   "cell_type": "code",
   "execution_count": 5,
   "metadata": {},
   "outputs": [
    {
     "name": "stdout",
     "output_type": "stream",
     "text": [
      "............................................................................................................................................................................................................"
     ]
    },
    {
     "ename": "KeyboardInterrupt",
     "evalue": "",
     "output_type": "error",
     "traceback": [
      "\u001b[0;31m---------------------------------------------------------------------------\u001b[0m",
      "\u001b[0;31mKeyboardInterrupt\u001b[0m                         Traceback (most recent call last)",
      "Cell \u001b[0;32mIn[5], line 63\u001b[0m\n\u001b[1;32m     61\u001b[0m keys \u001b[38;5;241m=\u001b[39m {}\n\u001b[1;32m     62\u001b[0m \u001b[38;5;28;01mfor\u001b[39;00m _ \u001b[38;5;129;01min\u001b[39;00m \u001b[38;5;28mrange\u001b[39m(\u001b[38;5;241m10_000\u001b[39m):\n\u001b[0;32m---> 63\u001b[0m     private_key_hex, public_key, bitcoin_address \u001b[38;5;241m=\u001b[39m \u001b[43mgenerate_keys\u001b[49m\u001b[43m(\u001b[49m\u001b[43m)\u001b[49m\n\u001b[1;32m     64\u001b[0m     keys[bitcoin_address] \u001b[38;5;241m=\u001b[39m (private_key_hex, public_key)\n\u001b[1;32m     66\u001b[0m \u001b[38;5;28;01mwith\u001b[39;00m SessionLocal() \u001b[38;5;28;01mas\u001b[39;00m session:\n",
      "Cell \u001b[0;32mIn[5], line 18\u001b[0m, in \u001b[0;36mgenerate_keys\u001b[0;34m()\u001b[0m\n\u001b[1;32m     14\u001b[0m \u001b[38;5;28;01mdef\u001b[39;00m \u001b[38;5;21mgenerate_keys\u001b[39m():\n\u001b[1;32m     15\u001b[0m     \n\u001b[1;32m     16\u001b[0m \n\u001b[1;32m     17\u001b[0m     \u001b[38;5;66;03m# Generate a private key\u001b[39;00m\n\u001b[0;32m---> 18\u001b[0m     private_key \u001b[38;5;241m=\u001b[39m \u001b[43mSigningKey\u001b[49m\u001b[38;5;241;43m.\u001b[39;49m\u001b[43mgenerate\u001b[49m\u001b[43m(\u001b[49m\u001b[43mcurve\u001b[49m\u001b[38;5;241;43m=\u001b[39;49m\u001b[43mSECP256k1\u001b[49m\u001b[43m)\u001b[49m\n\u001b[1;32m     19\u001b[0m     private_key_hex \u001b[38;5;241m=\u001b[39m private_key\u001b[38;5;241m.\u001b[39mto_string()\u001b[38;5;241m.\u001b[39mhex()\n\u001b[1;32m     21\u001b[0m     \u001b[38;5;66;03m# Get the public key\u001b[39;00m\n",
      "File \u001b[0;32m~/.local/lib/python3.12/site-packages/ecdsa/keys.py:819\u001b[0m, in \u001b[0;36mSigningKey.generate\u001b[0;34m(cls, curve, entropy, hashfunc)\u001b[0m\n\u001b[1;32m    817\u001b[0m \u001b[38;5;28;01mif\u001b[39;00m \u001b[38;5;28misinstance\u001b[39m(curve\u001b[38;5;241m.\u001b[39mcurve, CurveEdTw):\n\u001b[1;32m    818\u001b[0m     \u001b[38;5;28;01mreturn\u001b[39;00m \u001b[38;5;28mcls\u001b[39m\u001b[38;5;241m.\u001b[39m_twisted_edwards_keygen(curve, entropy)\n\u001b[0;32m--> 819\u001b[0m \u001b[38;5;28;01mreturn\u001b[39;00m \u001b[38;5;28;43mcls\u001b[39;49m\u001b[38;5;241;43m.\u001b[39;49m\u001b[43m_weierstrass_keygen\u001b[49m\u001b[43m(\u001b[49m\u001b[43mcurve\u001b[49m\u001b[43m,\u001b[49m\u001b[43m \u001b[49m\u001b[43mentropy\u001b[49m\u001b[43m,\u001b[49m\u001b[43m \u001b[49m\u001b[43mhashfunc\u001b[49m\u001b[43m)\u001b[49m\n",
      "File \u001b[0;32m~/.local/lib/python3.12/site-packages/ecdsa/keys.py:795\u001b[0m, in \u001b[0;36mSigningKey._weierstrass_keygen\u001b[0;34m(cls, curve, entropy, hashfunc)\u001b[0m\n\u001b[1;32m    793\u001b[0m \u001b[38;5;250m\u001b[39m\u001b[38;5;124;03m\"\"\"Generate a private key on a Weierstrass curve.\"\"\"\u001b[39;00m\n\u001b[1;32m    794\u001b[0m secexp \u001b[38;5;241m=\u001b[39m randrange(curve\u001b[38;5;241m.\u001b[39morder, entropy)\n\u001b[0;32m--> 795\u001b[0m \u001b[38;5;28;01mreturn\u001b[39;00m \u001b[38;5;28;43mcls\u001b[39;49m\u001b[38;5;241;43m.\u001b[39;49m\u001b[43mfrom_secret_exponent\u001b[49m\u001b[43m(\u001b[49m\u001b[43msecexp\u001b[49m\u001b[43m,\u001b[49m\u001b[43m \u001b[49m\u001b[43mcurve\u001b[49m\u001b[43m,\u001b[49m\u001b[43m \u001b[49m\u001b[43mhashfunc\u001b[49m\u001b[43m)\u001b[49m\n",
      "File \u001b[0;32m~/.local/lib/python3.12/site-packages/ecdsa/keys.py:861\u001b[0m, in \u001b[0;36mSigningKey.from_secret_exponent\u001b[0;34m(cls, secexp, curve, hashfunc)\u001b[0m\n\u001b[1;32m    856\u001b[0m \u001b[38;5;28;01mif\u001b[39;00m \u001b[38;5;129;01mnot\u001b[39;00m \u001b[38;5;241m1\u001b[39m \u001b[38;5;241m<\u001b[39m\u001b[38;5;241m=\u001b[39m secexp \u001b[38;5;241m<\u001b[39m n:\n\u001b[1;32m    857\u001b[0m     \u001b[38;5;28;01mraise\u001b[39;00m MalformedPointError(\n\u001b[1;32m    858\u001b[0m         \u001b[38;5;124m\"\u001b[39m\u001b[38;5;124mInvalid value for secexp, expected integer \u001b[39m\u001b[38;5;124m\"\u001b[39m\n\u001b[1;32m    859\u001b[0m         \u001b[38;5;124m\"\u001b[39m\u001b[38;5;124mbetween 1 and \u001b[39m\u001b[38;5;132;01m{0}\u001b[39;00m\u001b[38;5;124m\"\u001b[39m\u001b[38;5;241m.\u001b[39mformat(n)\n\u001b[1;32m    860\u001b[0m     )\n\u001b[0;32m--> 861\u001b[0m pubkey_point \u001b[38;5;241m=\u001b[39m \u001b[43mcurve\u001b[49m\u001b[38;5;241;43m.\u001b[39;49m\u001b[43mgenerator\u001b[49m\u001b[43m \u001b[49m\u001b[38;5;241;43m*\u001b[39;49m\u001b[43m \u001b[49m\u001b[43msecexp\u001b[49m\n\u001b[1;32m    862\u001b[0m \u001b[38;5;28;01mif\u001b[39;00m \u001b[38;5;28mhasattr\u001b[39m(pubkey_point, \u001b[38;5;124m\"\u001b[39m\u001b[38;5;124mscale\u001b[39m\u001b[38;5;124m\"\u001b[39m):\n\u001b[1;32m    863\u001b[0m     pubkey_point \u001b[38;5;241m=\u001b[39m pubkey_point\u001b[38;5;241m.\u001b[39mscale()\n",
      "File \u001b[0;32m~/.local/lib/python3.12/site-packages/ecdsa/ellipticcurve.py:946\u001b[0m, in \u001b[0;36mPointJacobi.__mul__\u001b[0;34m(self, other)\u001b[0m\n\u001b[1;32m    944\u001b[0m \u001b[38;5;28mself\u001b[39m\u001b[38;5;241m.\u001b[39m_maybe_precompute()\n\u001b[1;32m    945\u001b[0m \u001b[38;5;28;01mif\u001b[39;00m \u001b[38;5;28mself\u001b[39m\u001b[38;5;241m.\u001b[39m__precompute:\n\u001b[0;32m--> 946\u001b[0m     \u001b[38;5;28;01mreturn\u001b[39;00m \u001b[38;5;28;43mself\u001b[39;49m\u001b[38;5;241;43m.\u001b[39;49m\u001b[43m_mul_precompute\u001b[49m\u001b[43m(\u001b[49m\u001b[43mother\u001b[49m\u001b[43m)\u001b[49m\n\u001b[1;32m    948\u001b[0m \u001b[38;5;28mself\u001b[39m \u001b[38;5;241m=\u001b[39m \u001b[38;5;28mself\u001b[39m\u001b[38;5;241m.\u001b[39mscale()\n\u001b[1;32m    949\u001b[0m X2, Y2, _ \u001b[38;5;241m=\u001b[39m \u001b[38;5;28mself\u001b[39m\u001b[38;5;241m.\u001b[39m__coords\n",
      "File \u001b[0;32m~/.local/lib/python3.12/site-packages/ecdsa/ellipticcurve.py:924\u001b[0m, in \u001b[0;36mPointJacobi._mul_precompute\u001b[0;34m(self, other)\u001b[0m\n\u001b[1;32m    922\u001b[0m \u001b[38;5;28;01mif\u001b[39;00m other \u001b[38;5;241m%\u001b[39m \u001b[38;5;241m4\u001b[39m \u001b[38;5;241m>\u001b[39m\u001b[38;5;241m=\u001b[39m \u001b[38;5;241m2\u001b[39m:\n\u001b[1;32m    923\u001b[0m     other \u001b[38;5;241m=\u001b[39m (other \u001b[38;5;241m+\u001b[39m \u001b[38;5;241m1\u001b[39m) \u001b[38;5;241m/\u001b[39m\u001b[38;5;241m/\u001b[39m \u001b[38;5;241m2\u001b[39m\n\u001b[0;32m--> 924\u001b[0m     X3, Y3, Z3 \u001b[38;5;241m=\u001b[39m \u001b[43m_add\u001b[49m\u001b[43m(\u001b[49m\u001b[43mX3\u001b[49m\u001b[43m,\u001b[49m\u001b[43m \u001b[49m\u001b[43mY3\u001b[49m\u001b[43m,\u001b[49m\u001b[43m \u001b[49m\u001b[43mZ3\u001b[49m\u001b[43m,\u001b[49m\u001b[43m \u001b[49m\u001b[43mX2\u001b[49m\u001b[43m,\u001b[49m\u001b[43m \u001b[49m\u001b[38;5;241;43m-\u001b[39;49m\u001b[43mY2\u001b[49m\u001b[43m,\u001b[49m\u001b[43m \u001b[49m\u001b[38;5;241;43m1\u001b[39;49m\u001b[43m,\u001b[49m\u001b[43m \u001b[49m\u001b[43mp\u001b[49m\u001b[43m)\u001b[49m\n\u001b[1;32m    925\u001b[0m \u001b[38;5;28;01melse\u001b[39;00m:\n\u001b[1;32m    926\u001b[0m     other \u001b[38;5;241m=\u001b[39m (other \u001b[38;5;241m-\u001b[39m \u001b[38;5;241m1\u001b[39m) \u001b[38;5;241m/\u001b[39m\u001b[38;5;241m/\u001b[39m \u001b[38;5;241m2\u001b[39m\n",
      "File \u001b[0;32m~/.local/lib/python3.12/site-packages/ecdsa/ellipticcurve.py:888\u001b[0m, in \u001b[0;36mPointJacobi._add\u001b[0;34m(self, X1, Y1, Z1, X2, Y2, Z2, p)\u001b[0m\n\u001b[1;32m    886\u001b[0m     \u001b[38;5;28;01mreturn\u001b[39;00m \u001b[38;5;28mself\u001b[39m\u001b[38;5;241m.\u001b[39m_add_with_z2_1(X2, Y2, Z2, X1, Y1, p)\n\u001b[1;32m    887\u001b[0m \u001b[38;5;28;01mif\u001b[39;00m Z2 \u001b[38;5;241m==\u001b[39m \u001b[38;5;241m1\u001b[39m:\n\u001b[0;32m--> 888\u001b[0m     \u001b[38;5;28;01mreturn\u001b[39;00m \u001b[38;5;28;43mself\u001b[39;49m\u001b[38;5;241;43m.\u001b[39;49m\u001b[43m_add_with_z2_1\u001b[49m\u001b[43m(\u001b[49m\u001b[43mX1\u001b[49m\u001b[43m,\u001b[49m\u001b[43m \u001b[49m\u001b[43mY1\u001b[49m\u001b[43m,\u001b[49m\u001b[43m \u001b[49m\u001b[43mZ1\u001b[49m\u001b[43m,\u001b[49m\u001b[43m \u001b[49m\u001b[43mX2\u001b[49m\u001b[43m,\u001b[49m\u001b[43m \u001b[49m\u001b[43mY2\u001b[49m\u001b[43m,\u001b[49m\u001b[43m \u001b[49m\u001b[43mp\u001b[49m\u001b[43m)\u001b[49m\n\u001b[1;32m    889\u001b[0m \u001b[38;5;28;01mreturn\u001b[39;00m \u001b[38;5;28mself\u001b[39m\u001b[38;5;241m.\u001b[39m_add_with_z_ne(X1, Y1, Z1, X2, Y2, Z2, p)\n",
      "File \u001b[0;32m~/.local/lib/python3.12/site-packages/ecdsa/ellipticcurve.py:844\u001b[0m, in \u001b[0;36mPointJacobi._add_with_z2_1\u001b[0;34m(self, X1, Y1, Z1, X2, Y2, p)\u001b[0m\n\u001b[1;32m    842\u001b[0m V \u001b[38;5;241m=\u001b[39m X1 \u001b[38;5;241m*\u001b[39m I\n\u001b[1;32m    843\u001b[0m X3 \u001b[38;5;241m=\u001b[39m (r \u001b[38;5;241m*\u001b[39m r \u001b[38;5;241m-\u001b[39m J \u001b[38;5;241m-\u001b[39m \u001b[38;5;241m2\u001b[39m \u001b[38;5;241m*\u001b[39m V) \u001b[38;5;241m%\u001b[39m p\n\u001b[0;32m--> 844\u001b[0m Y3 \u001b[38;5;241m=\u001b[39m \u001b[43m(\u001b[49m\u001b[43mr\u001b[49m\u001b[43m \u001b[49m\u001b[38;5;241;43m*\u001b[39;49m\u001b[43m \u001b[49m\u001b[43m(\u001b[49m\u001b[43mV\u001b[49m\u001b[43m \u001b[49m\u001b[38;5;241;43m-\u001b[39;49m\u001b[43m \u001b[49m\u001b[43mX3\u001b[49m\u001b[43m)\u001b[49m\u001b[43m \u001b[49m\u001b[38;5;241;43m-\u001b[39;49m\u001b[43m \u001b[49m\u001b[38;5;241;43m2\u001b[39;49m\u001b[43m \u001b[49m\u001b[38;5;241;43m*\u001b[39;49m\u001b[43m \u001b[49m\u001b[43mY1\u001b[49m\u001b[43m \u001b[49m\u001b[38;5;241;43m*\u001b[39;49m\u001b[43m \u001b[49m\u001b[43mJ\u001b[49m\u001b[43m)\u001b[49m\u001b[43m \u001b[49m\u001b[38;5;241;43m%\u001b[39;49m\u001b[43m \u001b[49m\u001b[43mp\u001b[49m\n\u001b[1;32m    845\u001b[0m Z3 \u001b[38;5;241m=\u001b[39m ((Z1 \u001b[38;5;241m+\u001b[39m H) \u001b[38;5;241m*\u001b[39m\u001b[38;5;241m*\u001b[39m \u001b[38;5;241m2\u001b[39m \u001b[38;5;241m-\u001b[39m Z1Z1 \u001b[38;5;241m-\u001b[39m HH) \u001b[38;5;241m%\u001b[39m p\n\u001b[1;32m    846\u001b[0m \u001b[38;5;28;01mreturn\u001b[39;00m X3, Y3, Z3\n",
      "\u001b[0;31mKeyboardInterrupt\u001b[0m: "
     ]
    }
   ],
   "source": [
    "import csv\n",
    "from pathlib import Path\n",
    "import hashlib\n",
    "\n",
    "import base58\n",
    "from ecdsa import SECP256k1, SigningKey\n",
    "\n",
    "from models.bitcoin_data import Address\n",
    "\n",
    "file_path = Path('/', 'app', 'keys.csv')\n",
    "\n",
    "addresses = []\n",
    "\n",
    "def generate_keys():\n",
    "    \n",
    "\n",
    "    # Generate a private key\n",
    "    private_key = SigningKey.generate(curve=SECP256k1)\n",
    "    private_key_hex = private_key.to_string().hex()\n",
    "\n",
    "    # Get the public key\n",
    "    public_key = private_key.get_verifying_key().to_string(\"compressed\").hex()\n",
    "\n",
    "    # SHA256 hashing of the public key\n",
    "    sha256 = hashlib.sha256()\n",
    "    sha256.update(bytes.fromhex(public_key))\n",
    "    sha256_public_key = sha256.hexdigest()\n",
    "\n",
    "    # RIPEMD-160 hashing\n",
    "    ripemd160 = hashlib.new('ripemd160')\n",
    "    ripemd160.update(bytes.fromhex(sha256_public_key))\n",
    "    ripemd160_public_key = ripemd160.hexdigest()\n",
    "\n",
    "    # Add network byte (0x00 for Main Network)\n",
    "    network_byte = '00'\n",
    "    network_bitcoin_public_key = network_byte + ripemd160_public_key\n",
    "\n",
    "    # Double SHA256 hashing of the network public key\n",
    "    sha256 = hashlib.sha256()\n",
    "    sha256.update(bytes.fromhex(network_bitcoin_public_key))\n",
    "    sha256_network_public_key = sha256.digest()\n",
    "    sha256 = hashlib.sha256()\n",
    "    sha256.update(sha256_network_public_key)\n",
    "    sha256_double = sha256.hexdigest()\n",
    "\n",
    "    # First 4 bytes of the double SHA256 hash used as address checksum\n",
    "    checksum = sha256_double[:8]\n",
    "\n",
    "    # Adding checksum to the network public key\n",
    "    full_bitcoin_public_key = network_bitcoin_public_key + checksum\n",
    "\n",
    "    # Base58 encoding\n",
    "    bitcoin_address = base58.b58encode(bytes.fromhex(full_bitcoin_public_key)).decode()\n",
    "    \n",
    "    return private_key_hex, public_key, bitcoin_address\n",
    "\n",
    "\n",
    "address_objs = []\n",
    "\n",
    "while len(address_objs) == 0:\n",
    "    keys = {}\n",
    "    for _ in range(10_000):\n",
    "        private_key_hex, public_key, bitcoin_address = generate_keys()\n",
    "        keys[bitcoin_address] = (private_key_hex, public_key)\n",
    "\n",
    "    with SessionLocal() as session:\n",
    "        address_objs = session.query(Address).filter(Address.addr.in_(list(keys.keys()))).all()\n",
    "\n",
    "    if len(address_objs) == 0:\n",
    "        print(\".\", end=\"\")\n",
    "    else:\n",
    "        print(f\"Found {len(address_objs)} addresses in the database.\")\n",
    "        # find the address that is in the database\n",
    "        # find the public/private key pairs\n",
    "        for address_obj in address_objs:\n",
    "            public_key, private_key = keys[address_obj.addr]\n",
    "            print('-------------------------------------')\n",
    "            print(f\"Address: {address_obj.addr}\")\n",
    "            print(f\"Public key: {public_key}\")\n",
    "            print(f\"Private key: {private_key}\")\n",
    "            print('-------------------------------------')\n"
   ]
  }
 ],
 "metadata": {
  "kernelspec": {
   "display_name": "py9",
   "language": "python",
   "name": "python3"
  },
  "language_info": {
   "codemirror_mode": {
    "name": "ipython",
    "version": 3
   },
   "file_extension": ".py",
   "mimetype": "text/x-python",
   "name": "python",
   "nbconvert_exporter": "python",
   "pygments_lexer": "ipython3",
   "version": "3.12.1"
  }
 },
 "nbformat": 4,
 "nbformat_minor": 2
}
