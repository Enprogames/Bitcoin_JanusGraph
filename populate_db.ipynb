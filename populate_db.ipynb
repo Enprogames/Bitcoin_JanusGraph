{
 "cells": [
  {
   "cell_type": "markdown",
   "metadata": {},
   "source": [
    "### Initialize Environment and Populate Blockchain Database"
   ]
  },
  {
   "cell_type": "code",
   "execution_count": 1,
   "metadata": {},
   "outputs": [
    {
     "name": "stdout",
     "output_type": "stream",
     "text": [
      "Database wiped.\n",
      "No data found. Database created.\n"
     ]
    },
    {
     "data": {
      "text/plain": [
       "True"
      ]
     },
     "execution_count": 1,
     "metadata": {},
     "output_type": "execute_result"
    }
   ],
   "source": [
    "import os\n",
    "import sys\n",
    "from pathlib import Path\n",
    "\n",
    "container_src_path = Path('/app/src/')\n",
    "local_src_path = Path(Path.cwd(), 'src/')\n",
    "\n",
    "# see if this src path exists.\n",
    "# if it does, we are in a container.\n",
    "# if not, we are in local.\n",
    "if not container_src_path.exists():\n",
    "    src_path = local_src_path\n",
    "else:\n",
    "    src_path = container_src_path\n",
    "\n",
    "src_path_str = str(src_path)\n",
    "if src_path_str not in sys.path:\n",
    "    sys.path.insert(0, src_path_str)\n",
    "\n",
    "from dotenv import load_dotenv\n",
    "\n",
    "from blockchain_data_provider import (\n",
    "    PersistentBlockchainAPIData,\n",
    "    BlockchainAPIJSON\n",
    ")\n",
    "\n",
    "from models.base import SessionLocal, DATABASE_URL\n",
    "from models.bitcoin_data import Block\n",
    "\n",
    "# see if database tables exist. if not, create them\n",
    "from models import base\n",
    "from sqlalchemy import inspect\n",
    "from sqlalchemy.sql import text\n",
    "\n",
    "# block_data_url = \"https://blockchain.info/rawblock/{height}?format=json\"\n",
    "block_data_url = \"http://localhost:8500/block/{height}\"\n",
    "\n",
    "DELETE_DB = False\n",
    "DELETE_DB = True\n",
    "\n",
    "inspector = inspect(base.engine)\n",
    "\n",
    "if DELETE_DB:\n",
    "# wipe the database\n",
    "    with SessionLocal() as session:\n",
    "        if inspector.has_table(\"inputs\"):\n",
    "            session.execute(text('DELETE FROM inputs'))\n",
    "        if inspector.has_table(\"outputs\"):\n",
    "            session.execute(text('DELETE FROM outputs'))\n",
    "        if inspector.has_table(\"transactions\"):\n",
    "            session.execute(text('DELETE FROM transactions'))\n",
    "        if inspector.has_table(\"blocks\"):\n",
    "            session.execute(text('DELETE FROM blocks'))\n",
    "        if inspector.has_table(\"addresses\"):\n",
    "            session.execute(text('DELETE FROM addresses'))\n",
    "        session.commit()\n",
    "\n",
    "    # if Path(Path.cwd(), DATABASE_URL).exists():\n",
    "    #     os.remove(Path(Path.cwd(), DATABASE_URL))\n",
    "        \n",
    "    print(\"Database wiped.\")\n",
    "\n",
    "if not inspector.has_table(\"blocks\"):\n",
    "    base.Base.metadata.create_all(bind=base.engine)\n",
    "    print(\"No data found. Database created.\")\n",
    "\n",
    "load_dotenv()\n"
   ]
  },
  {
   "cell_type": "code",
   "execution_count": 2,
   "metadata": {},
   "outputs": [
    {
     "name": "stderr",
     "output_type": "stream",
     "text": [
      "  0%|          | 0/100001 [00:00<?, ?it/s]"
     ]
    },
    {
     "name": "stderr",
     "output_type": "stream",
     "text": [
      "100%|██████████| 100001/100001 [52:16<00:00, 31.88it/s] \n"
     ]
    }
   ],
   "source": [
    "# max_height = 100_000\n",
    "max_height = 100_000\n",
    "\n",
    "with SessionLocal() as session:\n",
    "    highest_block = session.query(Block).order_by(Block.height.desc()).first()\n",
    "\n",
    "if highest_block is not None:\n",
    "    print(f\"highest block: {highest_block.height}\")\n",
    "\n",
    "slow_provider = BlockchainAPIJSON(block_endpoint=block_data_url)\n",
    "provider = PersistentBlockchainAPIData(data_provider=slow_provider)\n",
    "with SessionLocal() as session:\n",
    "    provider.populate_blocks(session, range(0,max_height+1), show_progressbar=True)\n",
    "\n",
    "with SessionLocal() as session:\n",
    "    # ensure we can get block 170\n",
    "    assert len(provider.get_block(session, 170).transactions) == 2\n",
    "    assert len(provider.get_block(session, 546).transactions) == 4"
   ]
  },
  {
   "cell_type": "markdown",
   "metadata": {},
   "source": [
    "### Get some Data"
   ]
  },
  {
   "cell_type": "code",
   "execution_count": 7,
   "metadata": {},
   "outputs": [
    {
     "name": "stdout",
     "output_type": "stream",
     "text": [
      "transaction count: 2\n",
      "address of first output: 1PSSGeFHDnKNxiEyFrD1wcEaHr9hrQDDWc\n"
     ]
    }
   ],
   "source": [
    "from blockchain_data_provider import PersistentBlockchainAPIData\n",
    "\n",
    "slow_provider = BlockchainAPIJSON(block_endpoint=block_data_url)\n",
    "provider = PersistentBlockchainAPIData(data_provider=slow_provider)\n",
    "\n",
    "# provider.latest_parsed_block = 2811\n",
    "# with SessionLocal() as session:\n",
    "#     provider.populate_block(session, 2812)\n",
    "\n",
    "data_provider = PersistentBlockchainAPIData()\n",
    "with SessionLocal() as session:\n",
    "    block_170 = data_provider.get_block(session, 170)\n",
    "\n",
    "print(f\"transaction count: {len(block_170.transactions)}\")\n",
    "\n",
    "tx_12cb = block_170.transactions[1]\n",
    "print(f\"address of first output: {tx_12cb.outputs[0].address.addr}\")\n",
    "assert provider.get_output(session, 170).value == 5000000000\n",
    "\n",
    "with SessionLocal() as session:\n",
    "    block_170 = data_provider.get_block(session, 0)\n",
    "\n",
    "assert block_170.height == 0\n",
    "assert block_170.transactions[0].outputs[0].id == 0, block_170.transactions[0].outputs[0].id"
   ]
  },
  {
   "cell_type": "code",
   "execution_count": null,
   "metadata": {},
   "outputs": [
    {
     "name": "stdout",
     "output_type": "stream",
     "text": [
      "1DZTzaBHUDM7T3QvUKBz4qXMRpkg8jsfB5\n",
      "1DCbY2GYVaAMCBpuBNN5GVg3a47pNK1wdi\n"
     ]
    }
   ],
   "source": [
    "from sqlalchemy.orm import joinedload\n",
    "\n",
    "from models.bitcoin_data import Tx, Input, Output\n",
    "\n",
    "tx_index = 3003916113328251\n",
    "\n",
    "with SessionLocal() as session:\n",
    "    tx_obj = session.query(Tx).options(\n",
    "            joinedload(Tx.inputs)\n",
    "            .joinedload(Input.prev_out),\n",
    "            joinedload(Tx.outputs)\n",
    "            .joinedload(Output.address)    \n",
    "        ).filter_by(index=tx_index).first()\n",
    "\n",
    "for out in tx_obj.outputs:\n",
    "    print(out.address_addr)"
   ]
  }
 ],
 "metadata": {
  "kernelspec": {
   "display_name": "py9",
   "language": "python",
   "name": "python3"
  },
  "language_info": {
   "codemirror_mode": {
    "name": "ipython",
    "version": 3
   },
   "file_extension": ".py",
   "mimetype": "text/x-python",
   "name": "python",
   "nbconvert_exporter": "python",
   "pygments_lexer": "ipython3",
   "version": "3.9.18"
  }
 },
 "nbformat": 4,
 "nbformat_minor": 2
}
