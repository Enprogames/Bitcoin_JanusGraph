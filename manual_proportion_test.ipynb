{
 "cells": [
  {
   "cell_type": "code",
   "execution_count": 9,
   "metadata": {},
   "outputs": [
    {
     "name": "stdout",
     "output_type": "stream",
     "text": [
      "amount remaining: 2.1818181818181817\n"
     ]
    },
    {
     "data": {
      "text/plain": [
       "[[2.0, 2.0, 0.45454545454545453],\n",
       " [0.36363636363636365, 2.0, 0.9090909090909091],\n",
       " [0.36363636363636365, 0.7272727272727273, 1.0],\n",
       " [1.0909090909090908, 2.1818181818181817, 2.727272727272727]]"
      ]
     },
     "metadata": {},
     "output_type": "display_data"
    },
    {
     "name": "stdout",
     "output_type": "stream",
     "text": [
      "total edges sum: 15.818181818181817 (desired is 18)\n"
     ]
    },
    {
     "ename": "AssertionError",
     "evalue": "",
     "output_type": "error",
     "traceback": [
      "\u001b[0;31m---------------------------------------------------------------------------\u001b[0m",
      "\u001b[0;31mAssertionError\u001b[0m                            Traceback (most recent call last)",
      "Cell \u001b[0;32mIn[9], line 76\u001b[0m\n\u001b[1;32m     72\u001b[0m display(edges)\n\u001b[1;32m     74\u001b[0m \u001b[38;5;28mprint\u001b[39m(\u001b[38;5;124mf\u001b[39m\u001b[38;5;124m\"\u001b[39m\u001b[38;5;124mtotal edges sum: \u001b[39m\u001b[38;5;132;01m{\u001b[39;00m\u001b[38;5;28msum\u001b[39m([\u001b[38;5;28msum\u001b[39m(row)\u001b[38;5;250m \u001b[39m\u001b[38;5;28;01mfor\u001b[39;00m\u001b[38;5;250m \u001b[39mrow\u001b[38;5;250m \u001b[39m\u001b[38;5;129;01min\u001b[39;00m\u001b[38;5;250m \u001b[39medges])\u001b[38;5;132;01m}\u001b[39;00m\u001b[38;5;124m (desired is 18)\u001b[39m\u001b[38;5;124m\"\u001b[39m)\n\u001b[0;32m---> 76\u001b[0m \u001b[38;5;28;01massert\u001b[39;00m \u001b[38;5;28msum\u001b[39m(output_values) \u001b[38;5;241m==\u001b[39m \u001b[38;5;28msum\u001b[39m([\u001b[38;5;28msum\u001b[39m(row) \u001b[38;5;28;01mfor\u001b[39;00m row \u001b[38;5;129;01min\u001b[39;00m edges])\n\u001b[1;32m     77\u001b[0m \u001b[38;5;28;01massert\u001b[39;00m \u001b[38;5;28mall\u001b[39m([edges[i][j] \u001b[38;5;241m==\u001b[39m input_values[i] \u001b[38;5;241m*\u001b[39m manual_proportions[i][\u001b[38;5;241m2\u001b[39m] \u001b[38;5;28;01mfor\u001b[39;00m i, j, _ \u001b[38;5;129;01min\u001b[39;00m manual_proportions])\n",
      "\u001b[0;31mAssertionError\u001b[0m: "
     ]
    }
   ],
   "source": [
    "input_values = [5, 4, 3, 6]\n",
    "output_values = [4, 8, 6]\n",
    "\n",
    "\n",
    "# format: (input index, output index, proportion fraction)\n",
    "manual_proportions = [\n",
    "    (0, 0, 0.4),\n",
    "    (0, 1, 0.4),\n",
    "    (1, 1, 0.5),\n",
    "    (2, 2, 1/3)\n",
    "]\n",
    "\n",
    "def calculate_proportions(input_values, output_values, manual_proportions):\n",
    "    \"\"\"\n",
    "    We are using the haircut method to proportionally distribute input values\n",
    "    to output values. But sometimes it is also important that manual proportions\n",
    "    can be set.\n",
    "    \n",
    "    This function takes in a transaction and a list of manual input-to-output\n",
    "    proportions and returns a list of input-to-output values.\n",
    "    \n",
    "    The output format will be an adjacency matrix specifying the values\n",
    "    for each input-to-output pair. The input and output indices are the\n",
    "    indices of the input_values and output_values lists.\n",
    "    \n",
    "    For example, if we have an input at index 0 with value 5, and an output\n",
    "    at index 2 with value 6, and we send 0.5 of the input to the output, then\n",
    "    the output of this function will include 2.5 at index (0, 2).\n",
    "    \n",
    "    This process is tricky since we have to force certain input-to-output\n",
    "    pairs to have certain proportions, while also maintaining the haircut\n",
    "    distributions. For instances, if we send 0.5 of an input to an output,\n",
    "    the haircut method will try to force more from that input to the output.\n",
    "    So we need to re-distribute the remainder of this input-to-output\n",
    "    amount to the other outputs.\n",
    "    \n",
    "    It is easy to check the correctness of the final values. The sum of the\n",
    "    final values for each input-to-output pair should equal the sum\n",
    "    of the output values. And the values for the manual proportions should\n",
    "    be as specified.\n",
    "    \"\"\"\n",
    "    result = [[0 for _ in output_values] for _ in input_values]\n",
    "    remaining_input_values = input_values.copy()\n",
    "    remaining_output_values = output_values.copy()\n",
    "    \n",
    "    # First, we distribute the manual proportions\n",
    "    for i, o, p in manual_proportions:\n",
    "        result[i][o] = input_values[i] * p\n",
    "        remaining_input_values[i] -= result[i][o]\n",
    "        remaining_output_values[o] -= result[i][o]\n",
    "        \n",
    "    # Next, distribute the remaining values proportionally. But when we\n",
    "    # reach an input-to-output pair that has a manual proportion, we\n",
    "    # need to distribute the remaining values to the other outputs.\n",
    "    # This is done by first skipping these edges, then calculating the\n",
    "    # remaining values and distributing them later.\n",
    "    remaining_values_sum = sum(remaining_input_values)\n",
    "    amount_remaining = 0\n",
    "    for o, output_value in enumerate(remaining_output_values):\n",
    "        for i, input_value in enumerate(remaining_input_values):\n",
    "            if result[i][o] > 0:\n",
    "                amount_remaining += output_value * input_value / remaining_values_sum\n",
    "                continue\n",
    "            result[i][o] += output_value * input_value / remaining_values_sum\n",
    "\n",
    "    # Finally, distribute the remaining values to the other outputs\n",
    "    # TODO: Not sure how to do this\n",
    "    print(f\"amount remaining: {amount_remaining}\")\n",
    "\n",
    "    return result\n",
    "\n",
    "edges = calculate_proportions(input_values, output_values, manual_proportions)\n",
    "display(edges)\n",
    "\n",
    "print(f\"total edges sum: {sum([sum(row) for row in edges])} (desired is 18)\")\n",
    "\n",
    "assert sum(output_values) == sum([sum(row) for row in edges])\n",
    "assert all([edges[i][j] == input_values[i] * manual_proportions[i][2] for i, j, _ in manual_proportions])"
   ]
  }
 ],
 "metadata": {
  "kernelspec": {
   "display_name": "py12",
   "language": "python",
   "name": "python3"
  },
  "language_info": {
   "codemirror_mode": {
    "name": "ipython",
    "version": 3
   },
   "file_extension": ".py",
   "mimetype": "text/x-python",
   "name": "python",
   "nbconvert_exporter": "python",
   "pygments_lexer": "ipython3",
   "version": "3.12.0"
  }
 },
 "nbformat": 4,
 "nbformat_minor": 2
}
