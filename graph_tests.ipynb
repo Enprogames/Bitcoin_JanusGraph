{
 "cells": [
  {
   "cell_type": "markdown",
   "metadata": {},
   "source": [
    "### Connect to Gremlin Server"
   ]
  },
  {
   "cell_type": "code",
   "execution_count": 1,
   "metadata": {},
   "outputs": [
    {
     "ename": "ClientConnectorError",
     "evalue": "Cannot connect to host btc_janus:8182 ssl:default [Name or service not known]",
     "output_type": "error",
     "traceback": [
      "\u001b[0;31m---------------------------------------------------------------------------\u001b[0m",
      "\u001b[0;31mgaierror\u001b[0m                                  Traceback (most recent call last)",
      "File \u001b[0;32m/usr/local/lib/python3.12/site-packages/aiohttp/connector.py:1173\u001b[0m, in \u001b[0;36mTCPConnector._create_direct_connection\u001b[0;34m(self, req, traces, timeout, client_error)\u001b[0m\n\u001b[1;32m   1169\u001b[0m \u001b[38;5;28;01mtry\u001b[39;00m:\n\u001b[1;32m   1170\u001b[0m     \u001b[38;5;66;03m# Cancelling this lookup should not cancel the underlying lookup\u001b[39;00m\n\u001b[1;32m   1171\u001b[0m     \u001b[38;5;66;03m#  or else the cancel event will get broadcast to all the waiters\u001b[39;00m\n\u001b[1;32m   1172\u001b[0m     \u001b[38;5;66;03m#  across all connections.\u001b[39;00m\n\u001b[0;32m-> 1173\u001b[0m     hosts \u001b[38;5;241m=\u001b[39m \u001b[38;5;28;01mawait\u001b[39;00m asyncio\u001b[38;5;241m.\u001b[39mshield(host_resolved)\n\u001b[1;32m   1174\u001b[0m \u001b[38;5;28;01mexcept\u001b[39;00m asyncio\u001b[38;5;241m.\u001b[39mCancelledError:\n",
      "File \u001b[0;32m/usr/local/lib/python3.12/asyncio/futures.py:287\u001b[0m, in \u001b[0;36mFuture.__await__\u001b[0;34m(self)\u001b[0m\n\u001b[1;32m    286\u001b[0m     \u001b[38;5;28mself\u001b[39m\u001b[38;5;241m.\u001b[39m_asyncio_future_blocking \u001b[38;5;241m=\u001b[39m \u001b[38;5;28;01mTrue\u001b[39;00m\n\u001b[0;32m--> 287\u001b[0m     \u001b[38;5;28;01myield\u001b[39;00m \u001b[38;5;28mself\u001b[39m  \u001b[38;5;66;03m# This tells Task to wait for completion.\u001b[39;00m\n\u001b[1;32m    288\u001b[0m \u001b[38;5;28;01mif\u001b[39;00m \u001b[38;5;129;01mnot\u001b[39;00m \u001b[38;5;28mself\u001b[39m\u001b[38;5;241m.\u001b[39mdone():\n",
      "File \u001b[0;32m/usr/local/lib/python3.12/asyncio/tasks.py:385\u001b[0m, in \u001b[0;36mTask.__wakeup\u001b[0;34m(self, future)\u001b[0m\n\u001b[1;32m    384\u001b[0m \u001b[38;5;28;01mtry\u001b[39;00m:\n\u001b[0;32m--> 385\u001b[0m     \u001b[43mfuture\u001b[49m\u001b[38;5;241;43m.\u001b[39;49m\u001b[43mresult\u001b[49m\u001b[43m(\u001b[49m\u001b[43m)\u001b[49m\n\u001b[1;32m    386\u001b[0m \u001b[38;5;28;01mexcept\u001b[39;00m \u001b[38;5;167;01mBaseException\u001b[39;00m \u001b[38;5;28;01mas\u001b[39;00m exc:\n\u001b[1;32m    387\u001b[0m     \u001b[38;5;66;03m# This may also be a cancellation.\u001b[39;00m\n",
      "File \u001b[0;32m/usr/local/lib/python3.12/asyncio/futures.py:203\u001b[0m, in \u001b[0;36mFuture.result\u001b[0;34m(self)\u001b[0m\n\u001b[1;32m    202\u001b[0m \u001b[38;5;28;01mif\u001b[39;00m \u001b[38;5;28mself\u001b[39m\u001b[38;5;241m.\u001b[39m_exception \u001b[38;5;129;01mis\u001b[39;00m \u001b[38;5;129;01mnot\u001b[39;00m \u001b[38;5;28;01mNone\u001b[39;00m:\n\u001b[0;32m--> 203\u001b[0m     \u001b[38;5;28;01mraise\u001b[39;00m \u001b[38;5;28mself\u001b[39m\u001b[38;5;241m.\u001b[39m_exception\u001b[38;5;241m.\u001b[39mwith_traceback(\u001b[38;5;28mself\u001b[39m\u001b[38;5;241m.\u001b[39m_exception_tb)\n\u001b[1;32m    204\u001b[0m \u001b[38;5;28;01mreturn\u001b[39;00m \u001b[38;5;28mself\u001b[39m\u001b[38;5;241m.\u001b[39m_result\n",
      "File \u001b[0;32m/usr/local/lib/python3.12/asyncio/tasks.py:316\u001b[0m, in \u001b[0;36mTask.__step_run_and_handle_result\u001b[0;34m(***failed resolving arguments***)\u001b[0m\n\u001b[1;32m    315\u001b[0m     \u001b[38;5;28;01melse\u001b[39;00m:\n\u001b[0;32m--> 316\u001b[0m         result \u001b[38;5;241m=\u001b[39m \u001b[43mcoro\u001b[49m\u001b[38;5;241;43m.\u001b[39;49m\u001b[43mthrow\u001b[49m\u001b[43m(\u001b[49m\u001b[43mexc\u001b[49m\u001b[43m)\u001b[49m\n\u001b[1;32m    317\u001b[0m \u001b[38;5;28;01mexcept\u001b[39;00m \u001b[38;5;167;01mStopIteration\u001b[39;00m \u001b[38;5;28;01mas\u001b[39;00m exc:\n",
      "File \u001b[0;32m/usr/local/lib/python3.12/site-packages/aiohttp/connector.py:884\u001b[0m, in \u001b[0;36mTCPConnector._resolve_host\u001b[0;34m(self, host, port, traces)\u001b[0m\n\u001b[1;32m    882\u001b[0m         \u001b[38;5;28;01mawait\u001b[39;00m trace\u001b[38;5;241m.\u001b[39msend_dns_resolvehost_start(host)\n\u001b[0;32m--> 884\u001b[0m addrs \u001b[38;5;241m=\u001b[39m \u001b[38;5;28;01mawait\u001b[39;00m \u001b[38;5;28mself\u001b[39m\u001b[38;5;241m.\u001b[39m_resolver\u001b[38;5;241m.\u001b[39mresolve(host, port, family\u001b[38;5;241m=\u001b[39m\u001b[38;5;28mself\u001b[39m\u001b[38;5;241m.\u001b[39m_family)\n\u001b[1;32m    885\u001b[0m \u001b[38;5;28;01mif\u001b[39;00m traces:\n",
      "File \u001b[0;32m/usr/local/lib/python3.12/site-packages/aiohttp/resolver.py:33\u001b[0m, in \u001b[0;36mThreadedResolver.resolve\u001b[0;34m(self, hostname, port, family)\u001b[0m\n\u001b[1;32m     30\u001b[0m \u001b[38;5;28;01masync\u001b[39;00m \u001b[38;5;28;01mdef\u001b[39;00m \u001b[38;5;21mresolve\u001b[39m(\n\u001b[1;32m     31\u001b[0m     \u001b[38;5;28mself\u001b[39m, hostname: \u001b[38;5;28mstr\u001b[39m, port: \u001b[38;5;28mint\u001b[39m \u001b[38;5;241m=\u001b[39m \u001b[38;5;241m0\u001b[39m, family: \u001b[38;5;28mint\u001b[39m \u001b[38;5;241m=\u001b[39m socket\u001b[38;5;241m.\u001b[39mAF_INET\n\u001b[1;32m     32\u001b[0m ) \u001b[38;5;241m-\u001b[39m\u001b[38;5;241m>\u001b[39m List[Dict[\u001b[38;5;28mstr\u001b[39m, Any]]:\n\u001b[0;32m---> 33\u001b[0m     infos \u001b[38;5;241m=\u001b[39m \u001b[38;5;28;01mawait\u001b[39;00m \u001b[38;5;28mself\u001b[39m\u001b[38;5;241m.\u001b[39m_loop\u001b[38;5;241m.\u001b[39mgetaddrinfo(\n\u001b[1;32m     34\u001b[0m         hostname,\n\u001b[1;32m     35\u001b[0m         port,\n\u001b[1;32m     36\u001b[0m         \u001b[38;5;28mtype\u001b[39m\u001b[38;5;241m=\u001b[39msocket\u001b[38;5;241m.\u001b[39mSOCK_STREAM,\n\u001b[1;32m     37\u001b[0m         family\u001b[38;5;241m=\u001b[39mfamily,\n\u001b[1;32m     38\u001b[0m         flags\u001b[38;5;241m=\u001b[39msocket\u001b[38;5;241m.\u001b[39mAI_ADDRCONFIG,\n\u001b[1;32m     39\u001b[0m     )\n\u001b[1;32m     41\u001b[0m     hosts \u001b[38;5;241m=\u001b[39m []\n",
      "File \u001b[0;32m/usr/local/lib/python3.12/asyncio/base_events.py:898\u001b[0m, in \u001b[0;36mBaseEventLoop.getaddrinfo\u001b[0;34m(self, host, port, family, type, proto, flags)\u001b[0m\n\u001b[1;32m    896\u001b[0m     getaddr_func \u001b[38;5;241m=\u001b[39m socket\u001b[38;5;241m.\u001b[39mgetaddrinfo\n\u001b[0;32m--> 898\u001b[0m \u001b[38;5;28;01mreturn\u001b[39;00m \u001b[38;5;28;01mawait\u001b[39;00m \u001b[38;5;28mself\u001b[39m\u001b[38;5;241m.\u001b[39mrun_in_executor(\n\u001b[1;32m    899\u001b[0m     \u001b[38;5;28;01mNone\u001b[39;00m, getaddr_func, host, port, family, \u001b[38;5;28mtype\u001b[39m, proto, flags)\n",
      "File \u001b[0;32m/usr/local/lib/python3.12/asyncio/futures.py:287\u001b[0m, in \u001b[0;36mFuture.__await__\u001b[0;34m(self)\u001b[0m\n\u001b[1;32m    286\u001b[0m     \u001b[38;5;28mself\u001b[39m\u001b[38;5;241m.\u001b[39m_asyncio_future_blocking \u001b[38;5;241m=\u001b[39m \u001b[38;5;28;01mTrue\u001b[39;00m\n\u001b[0;32m--> 287\u001b[0m     \u001b[38;5;28;01myield\u001b[39;00m \u001b[38;5;28mself\u001b[39m  \u001b[38;5;66;03m# This tells Task to wait for completion.\u001b[39;00m\n\u001b[1;32m    288\u001b[0m \u001b[38;5;28;01mif\u001b[39;00m \u001b[38;5;129;01mnot\u001b[39;00m \u001b[38;5;28mself\u001b[39m\u001b[38;5;241m.\u001b[39mdone():\n",
      "File \u001b[0;32m/usr/local/lib/python3.12/asyncio/tasks.py:385\u001b[0m, in \u001b[0;36mTask.__wakeup\u001b[0;34m(self, future)\u001b[0m\n\u001b[1;32m    384\u001b[0m \u001b[38;5;28;01mtry\u001b[39;00m:\n\u001b[0;32m--> 385\u001b[0m     \u001b[43mfuture\u001b[49m\u001b[38;5;241;43m.\u001b[39;49m\u001b[43mresult\u001b[49m\u001b[43m(\u001b[49m\u001b[43m)\u001b[49m\n\u001b[1;32m    386\u001b[0m \u001b[38;5;28;01mexcept\u001b[39;00m \u001b[38;5;167;01mBaseException\u001b[39;00m \u001b[38;5;28;01mas\u001b[39;00m exc:\n\u001b[1;32m    387\u001b[0m     \u001b[38;5;66;03m# This may also be a cancellation.\u001b[39;00m\n",
      "File \u001b[0;32m/usr/local/lib/python3.12/asyncio/futures.py:203\u001b[0m, in \u001b[0;36mFuture.result\u001b[0;34m(self)\u001b[0m\n\u001b[1;32m    202\u001b[0m \u001b[38;5;28;01mif\u001b[39;00m \u001b[38;5;28mself\u001b[39m\u001b[38;5;241m.\u001b[39m_exception \u001b[38;5;129;01mis\u001b[39;00m \u001b[38;5;129;01mnot\u001b[39;00m \u001b[38;5;28;01mNone\u001b[39;00m:\n\u001b[0;32m--> 203\u001b[0m     \u001b[38;5;28;01mraise\u001b[39;00m \u001b[38;5;28mself\u001b[39m\u001b[38;5;241m.\u001b[39m_exception\u001b[38;5;241m.\u001b[39mwith_traceback(\u001b[38;5;28mself\u001b[39m\u001b[38;5;241m.\u001b[39m_exception_tb)\n\u001b[1;32m    204\u001b[0m \u001b[38;5;28;01mreturn\u001b[39;00m \u001b[38;5;28mself\u001b[39m\u001b[38;5;241m.\u001b[39m_result\n",
      "File \u001b[0;32m/usr/local/lib/python3.12/concurrent/futures/thread.py:58\u001b[0m, in \u001b[0;36m_WorkItem.run\u001b[0;34m(self)\u001b[0m\n\u001b[1;32m     57\u001b[0m \u001b[38;5;28;01mtry\u001b[39;00m:\n\u001b[0;32m---> 58\u001b[0m     result \u001b[38;5;241m=\u001b[39m \u001b[38;5;28;43mself\u001b[39;49m\u001b[38;5;241;43m.\u001b[39;49m\u001b[43mfn\u001b[49m\u001b[43m(\u001b[49m\u001b[38;5;241;43m*\u001b[39;49m\u001b[38;5;28;43mself\u001b[39;49m\u001b[38;5;241;43m.\u001b[39;49m\u001b[43margs\u001b[49m\u001b[43m,\u001b[49m\u001b[43m \u001b[49m\u001b[38;5;241;43m*\u001b[39;49m\u001b[38;5;241;43m*\u001b[39;49m\u001b[38;5;28;43mself\u001b[39;49m\u001b[38;5;241;43m.\u001b[39;49m\u001b[43mkwargs\u001b[49m\u001b[43m)\u001b[49m\n\u001b[1;32m     59\u001b[0m \u001b[38;5;28;01mexcept\u001b[39;00m \u001b[38;5;167;01mBaseException\u001b[39;00m \u001b[38;5;28;01mas\u001b[39;00m exc:\n",
      "File \u001b[0;32m/usr/local/lib/python3.12/socket.py:963\u001b[0m, in \u001b[0;36mgetaddrinfo\u001b[0;34m(host, port, family, type, proto, flags)\u001b[0m\n\u001b[1;32m    962\u001b[0m addrlist \u001b[38;5;241m=\u001b[39m []\n\u001b[0;32m--> 963\u001b[0m \u001b[38;5;28;01mfor\u001b[39;00m res \u001b[38;5;129;01min\u001b[39;00m \u001b[43m_socket\u001b[49m\u001b[38;5;241;43m.\u001b[39;49m\u001b[43mgetaddrinfo\u001b[49m\u001b[43m(\u001b[49m\u001b[43mhost\u001b[49m\u001b[43m,\u001b[49m\u001b[43m \u001b[49m\u001b[43mport\u001b[49m\u001b[43m,\u001b[49m\u001b[43m \u001b[49m\u001b[43mfamily\u001b[49m\u001b[43m,\u001b[49m\u001b[43m \u001b[49m\u001b[38;5;28;43mtype\u001b[39;49m\u001b[43m,\u001b[49m\u001b[43m \u001b[49m\u001b[43mproto\u001b[49m\u001b[43m,\u001b[49m\u001b[43m \u001b[49m\u001b[43mflags\u001b[49m\u001b[43m)\u001b[49m:\n\u001b[1;32m    964\u001b[0m     af, socktype, proto, canonname, sa \u001b[38;5;241m=\u001b[39m res\n",
      "\u001b[0;31mgaierror\u001b[0m: [Errno -2] Name or service not known",
      "\nThe above exception was the direct cause of the following exception:\n",
      "\u001b[0;31mClientConnectorError\u001b[0m                      Traceback (most recent call last)",
      "Cell \u001b[0;32mIn[1], line 37\u001b[0m\n\u001b[1;32m     34\u001b[0m load_dotenv()\n\u001b[1;32m     36\u001b[0m \u001b[38;5;66;03m# test connection to gremlin server\u001b[39;00m\n\u001b[0;32m---> 37\u001b[0m \u001b[43mg\u001b[49m\u001b[38;5;241;43m.\u001b[39;49m\u001b[43mV\u001b[49m\u001b[43m(\u001b[49m\u001b[43m)\u001b[49m\u001b[38;5;241;43m.\u001b[39;49m\u001b[43mlimit\u001b[49m\u001b[43m(\u001b[49m\u001b[38;5;241;43m1\u001b[39;49m\u001b[43m)\u001b[49m\u001b[38;5;241;43m.\u001b[39;49m\u001b[43mtoList\u001b[49m\u001b[43m(\u001b[49m\u001b[43m)\u001b[49m\n",
      "File \u001b[0;32m/usr/local/lib/python3.12/site-packages/gremlin_python/process/traversal.py:57\u001b[0m, in \u001b[0;36mTraversal.toList\u001b[0;34m(self)\u001b[0m\n\u001b[1;32m     56\u001b[0m \u001b[38;5;28;01mdef\u001b[39;00m \u001b[38;5;21mtoList\u001b[39m(\u001b[38;5;28mself\u001b[39m):\n\u001b[0;32m---> 57\u001b[0m     \u001b[38;5;28;01mreturn\u001b[39;00m \u001b[38;5;28;43mlist\u001b[39;49m\u001b[43m(\u001b[49m\u001b[38;5;28;43miter\u001b[39;49m\u001b[43m(\u001b[49m\u001b[38;5;28;43mself\u001b[39;49m\u001b[43m)\u001b[49m\u001b[43m)\u001b[49m\n",
      "File \u001b[0;32m/usr/local/lib/python3.12/site-packages/gremlin_python/process/traversal.py:47\u001b[0m, in \u001b[0;36mTraversal.__next__\u001b[0;34m(self)\u001b[0m\n\u001b[1;32m     45\u001b[0m \u001b[38;5;28;01mdef\u001b[39;00m \u001b[38;5;21m__next__\u001b[39m(\u001b[38;5;28mself\u001b[39m):\n\u001b[1;32m     46\u001b[0m     \u001b[38;5;28;01mif\u001b[39;00m \u001b[38;5;28mself\u001b[39m\u001b[38;5;241m.\u001b[39mtraversers \u001b[38;5;129;01mis\u001b[39;00m \u001b[38;5;28;01mNone\u001b[39;00m:\n\u001b[0;32m---> 47\u001b[0m         \u001b[38;5;28;43mself\u001b[39;49m\u001b[38;5;241;43m.\u001b[39;49m\u001b[43mtraversal_strategies\u001b[49m\u001b[38;5;241;43m.\u001b[39;49m\u001b[43mapply_strategies\u001b[49m\u001b[43m(\u001b[49m\u001b[38;5;28;43mself\u001b[39;49m\u001b[43m)\u001b[49m\n\u001b[1;32m     48\u001b[0m     \u001b[38;5;28;01mif\u001b[39;00m \u001b[38;5;28mself\u001b[39m\u001b[38;5;241m.\u001b[39mlast_traverser \u001b[38;5;129;01mis\u001b[39;00m \u001b[38;5;28;01mNone\u001b[39;00m:\n\u001b[1;32m     49\u001b[0m         \u001b[38;5;28mself\u001b[39m\u001b[38;5;241m.\u001b[39mlast_traverser \u001b[38;5;241m=\u001b[39m \u001b[38;5;28mnext\u001b[39m(\u001b[38;5;28mself\u001b[39m\u001b[38;5;241m.\u001b[39mtraversers)\n",
      "File \u001b[0;32m/usr/local/lib/python3.12/site-packages/gremlin_python/process/traversal.py:548\u001b[0m, in \u001b[0;36mTraversalStrategies.apply_strategies\u001b[0;34m(self, traversal)\u001b[0m\n\u001b[1;32m    546\u001b[0m \u001b[38;5;28;01mdef\u001b[39;00m \u001b[38;5;21mapply_strategies\u001b[39m(\u001b[38;5;28mself\u001b[39m, traversal):\n\u001b[1;32m    547\u001b[0m     \u001b[38;5;28;01mfor\u001b[39;00m traversal_strategy \u001b[38;5;129;01min\u001b[39;00m \u001b[38;5;28mself\u001b[39m\u001b[38;5;241m.\u001b[39mtraversal_strategies:\n\u001b[0;32m--> 548\u001b[0m         \u001b[43mtraversal_strategy\u001b[49m\u001b[38;5;241;43m.\u001b[39;49m\u001b[43mapply\u001b[49m\u001b[43m(\u001b[49m\u001b[43mtraversal\u001b[49m\u001b[43m)\u001b[49m\n",
      "File \u001b[0;32m/usr/local/lib/python3.12/site-packages/gremlin_python/driver/remote_connection.py:80\u001b[0m, in \u001b[0;36mRemoteStrategy.apply\u001b[0;34m(self, traversal)\u001b[0m\n\u001b[1;32m     78\u001b[0m \u001b[38;5;28;01mdef\u001b[39;00m \u001b[38;5;21mapply\u001b[39m(\u001b[38;5;28mself\u001b[39m, traversal):\n\u001b[1;32m     79\u001b[0m     \u001b[38;5;28;01mif\u001b[39;00m traversal\u001b[38;5;241m.\u001b[39mtraversers \u001b[38;5;129;01mis\u001b[39;00m \u001b[38;5;28;01mNone\u001b[39;00m:\n\u001b[0;32m---> 80\u001b[0m         remote_traversal \u001b[38;5;241m=\u001b[39m \u001b[38;5;28;43mself\u001b[39;49m\u001b[38;5;241;43m.\u001b[39;49m\u001b[43mremote_connection\u001b[49m\u001b[38;5;241;43m.\u001b[39;49m\u001b[43msubmit\u001b[49m\u001b[43m(\u001b[49m\u001b[43mtraversal\u001b[49m\u001b[38;5;241;43m.\u001b[39;49m\u001b[43mbytecode\u001b[49m\u001b[43m)\u001b[49m\n\u001b[1;32m     81\u001b[0m         traversal\u001b[38;5;241m.\u001b[39mremote_results \u001b[38;5;241m=\u001b[39m remote_traversal\n\u001b[1;32m     82\u001b[0m         traversal\u001b[38;5;241m.\u001b[39mtraversers \u001b[38;5;241m=\u001b[39m remote_traversal\u001b[38;5;241m.\u001b[39mtraversers\n",
      "File \u001b[0;32m/usr/local/lib/python3.12/site-packages/gremlin_python/driver/driver_remote_connection.py:102\u001b[0m, in \u001b[0;36mDriverRemoteConnection.submit\u001b[0;34m(self, bytecode)\u001b[0m\n\u001b[1;32m    100\u001b[0m \u001b[38;5;28;01mdef\u001b[39;00m \u001b[38;5;21msubmit\u001b[39m(\u001b[38;5;28mself\u001b[39m, bytecode):\n\u001b[1;32m    101\u001b[0m     logging\u001b[38;5;241m.\u001b[39mdebug(\u001b[38;5;124m\"\u001b[39m\u001b[38;5;124msubmit with bytecode \u001b[39m\u001b[38;5;124m'\u001b[39m\u001b[38;5;132;01m%s\u001b[39;00m\u001b[38;5;124m'\u001b[39m\u001b[38;5;124m\"\u001b[39m, \u001b[38;5;28mstr\u001b[39m(bytecode))\n\u001b[0;32m--> 102\u001b[0m     result_set \u001b[38;5;241m=\u001b[39m \u001b[38;5;28;43mself\u001b[39;49m\u001b[38;5;241;43m.\u001b[39;49m\u001b[43m_client\u001b[49m\u001b[38;5;241;43m.\u001b[39;49m\u001b[43msubmit\u001b[49m\u001b[43m(\u001b[49m\u001b[43mbytecode\u001b[49m\u001b[43m,\u001b[49m\u001b[43m \u001b[49m\u001b[43mrequest_options\u001b[49m\u001b[38;5;241;43m=\u001b[39;49m\u001b[38;5;28;43mself\u001b[39;49m\u001b[38;5;241;43m.\u001b[39;49m\u001b[43m_extract_request_options\u001b[49m\u001b[43m(\u001b[49m\u001b[43mbytecode\u001b[49m\u001b[43m)\u001b[49m\u001b[43m)\u001b[49m\n\u001b[1;32m    103\u001b[0m     results \u001b[38;5;241m=\u001b[39m result_set\u001b[38;5;241m.\u001b[39mall()\u001b[38;5;241m.\u001b[39mresult()\n\u001b[1;32m    104\u001b[0m     \u001b[38;5;28;01mreturn\u001b[39;00m RemoteTraversal(\u001b[38;5;28miter\u001b[39m(results))\n",
      "File \u001b[0;32m/usr/local/lib/python3.12/site-packages/gremlin_python/driver/client.py:151\u001b[0m, in \u001b[0;36mClient.submit\u001b[0;34m(self, message, bindings, request_options)\u001b[0m\n\u001b[1;32m    150\u001b[0m \u001b[38;5;28;01mdef\u001b[39;00m \u001b[38;5;21msubmit\u001b[39m(\u001b[38;5;28mself\u001b[39m, message, bindings\u001b[38;5;241m=\u001b[39m\u001b[38;5;28;01mNone\u001b[39;00m, request_options\u001b[38;5;241m=\u001b[39m\u001b[38;5;28;01mNone\u001b[39;00m):\n\u001b[0;32m--> 151\u001b[0m     \u001b[38;5;28;01mreturn\u001b[39;00m \u001b[38;5;28;43mself\u001b[39;49m\u001b[38;5;241;43m.\u001b[39;49m\u001b[43msubmit_async\u001b[49m\u001b[43m(\u001b[49m\u001b[43mmessage\u001b[49m\u001b[43m,\u001b[49m\u001b[43m \u001b[49m\u001b[43mbindings\u001b[49m\u001b[38;5;241;43m=\u001b[39;49m\u001b[43mbindings\u001b[49m\u001b[43m,\u001b[49m\u001b[43m \u001b[49m\u001b[43mrequest_options\u001b[49m\u001b[38;5;241;43m=\u001b[39;49m\u001b[43mrequest_options\u001b[49m\u001b[43m)\u001b[49m\u001b[38;5;241m.\u001b[39mresult()\n",
      "File \u001b[0;32m/usr/local/lib/python3.12/site-packages/gremlin_python/driver/client.py:186\u001b[0m, in \u001b[0;36mClient.submit_async\u001b[0;34m(self, message, bindings, request_options)\u001b[0m\n\u001b[1;32m    184\u001b[0m \u001b[38;5;28;01mif\u001b[39;00m request_options:\n\u001b[1;32m    185\u001b[0m     message\u001b[38;5;241m.\u001b[39margs\u001b[38;5;241m.\u001b[39mupdate(request_options)\n\u001b[0;32m--> 186\u001b[0m \u001b[38;5;28;01mreturn\u001b[39;00m \u001b[43mconn\u001b[49m\u001b[38;5;241;43m.\u001b[39;49m\u001b[43mwrite\u001b[49m\u001b[43m(\u001b[49m\u001b[43mmessage\u001b[49m\u001b[43m)\u001b[49m\n",
      "File \u001b[0;32m/usr/local/lib/python3.12/site-packages/gremlin_python/driver/connection.py:60\u001b[0m, in \u001b[0;36mConnection.write\u001b[0;34m(self, request_message)\u001b[0m\n\u001b[1;32m     58\u001b[0m \u001b[38;5;28;01mdef\u001b[39;00m \u001b[38;5;21mwrite\u001b[39m(\u001b[38;5;28mself\u001b[39m, request_message):\n\u001b[1;32m     59\u001b[0m     \u001b[38;5;28;01mif\u001b[39;00m \u001b[38;5;129;01mnot\u001b[39;00m \u001b[38;5;28mself\u001b[39m\u001b[38;5;241m.\u001b[39m_inited:\n\u001b[0;32m---> 60\u001b[0m         \u001b[38;5;28;43mself\u001b[39;49m\u001b[38;5;241;43m.\u001b[39;49m\u001b[43mconnect\u001b[49m\u001b[43m(\u001b[49m\u001b[43m)\u001b[49m\n\u001b[1;32m     61\u001b[0m     request_id \u001b[38;5;241m=\u001b[39m \u001b[38;5;28mstr\u001b[39m(uuid\u001b[38;5;241m.\u001b[39muuid4())\n\u001b[1;32m     62\u001b[0m     \u001b[38;5;28;01mif\u001b[39;00m request_message\u001b[38;5;241m.\u001b[39margs\u001b[38;5;241m.\u001b[39mget(\u001b[38;5;124m\"\u001b[39m\u001b[38;5;124mrequestId\u001b[39m\u001b[38;5;124m\"\u001b[39m):\n",
      "File \u001b[0;32m/usr/local/lib/python3.12/site-packages/gremlin_python/driver/connection.py:50\u001b[0m, in \u001b[0;36mConnection.connect\u001b[0;34m(self)\u001b[0m\n\u001b[1;32m     48\u001b[0m     \u001b[38;5;28mself\u001b[39m\u001b[38;5;241m.\u001b[39m_transport\u001b[38;5;241m.\u001b[39mclose()\n\u001b[1;32m     49\u001b[0m \u001b[38;5;28mself\u001b[39m\u001b[38;5;241m.\u001b[39m_transport \u001b[38;5;241m=\u001b[39m \u001b[38;5;28mself\u001b[39m\u001b[38;5;241m.\u001b[39m_transport_factory()\n\u001b[0;32m---> 50\u001b[0m \u001b[38;5;28;43mself\u001b[39;49m\u001b[38;5;241;43m.\u001b[39;49m\u001b[43m_transport\u001b[49m\u001b[38;5;241;43m.\u001b[39;49m\u001b[43mconnect\u001b[49m\u001b[43m(\u001b[49m\u001b[38;5;28;43mself\u001b[39;49m\u001b[38;5;241;43m.\u001b[39;49m\u001b[43m_url\u001b[49m\u001b[43m,\u001b[49m\u001b[43m \u001b[49m\u001b[38;5;28;43mself\u001b[39;49m\u001b[38;5;241;43m.\u001b[39;49m\u001b[43m_headers\u001b[49m\u001b[43m)\u001b[49m\n\u001b[1;32m     51\u001b[0m \u001b[38;5;28mself\u001b[39m\u001b[38;5;241m.\u001b[39m_protocol\u001b[38;5;241m.\u001b[39mconnection_made(\u001b[38;5;28mself\u001b[39m\u001b[38;5;241m.\u001b[39m_transport)\n\u001b[1;32m     52\u001b[0m \u001b[38;5;28mself\u001b[39m\u001b[38;5;241m.\u001b[39m_inited \u001b[38;5;241m=\u001b[39m \u001b[38;5;28;01mTrue\u001b[39;00m\n",
      "File \u001b[0;32m/usr/local/lib/python3.12/site-packages/gremlin_python/driver/aiohttp/transport.py:80\u001b[0m, in \u001b[0;36mAiohttpTransport.connect\u001b[0;34m(self, url, headers)\u001b[0m\n\u001b[1;32m     77\u001b[0m             \u001b[38;5;28;01mraise\u001b[39;00m\n\u001b[1;32m     79\u001b[0m \u001b[38;5;66;03m# Execute the async connect synchronously.\u001b[39;00m\n\u001b[0;32m---> 80\u001b[0m \u001b[38;5;28;43mself\u001b[39;49m\u001b[38;5;241;43m.\u001b[39;49m\u001b[43m_loop\u001b[49m\u001b[38;5;241;43m.\u001b[39;49m\u001b[43mrun_until_complete\u001b[49m\u001b[43m(\u001b[49m\u001b[43masync_connect\u001b[49m\u001b[43m(\u001b[49m\u001b[43m)\u001b[49m\u001b[43m)\u001b[49m\n",
      "File \u001b[0;32m/usr/local/lib/python3.12/site-packages/nest_asyncio.py:98\u001b[0m, in \u001b[0;36m_patch_loop.<locals>.run_until_complete\u001b[0;34m(self, future)\u001b[0m\n\u001b[1;32m     95\u001b[0m \u001b[38;5;28;01mif\u001b[39;00m \u001b[38;5;129;01mnot\u001b[39;00m f\u001b[38;5;241m.\u001b[39mdone():\n\u001b[1;32m     96\u001b[0m     \u001b[38;5;28;01mraise\u001b[39;00m \u001b[38;5;167;01mRuntimeError\u001b[39;00m(\n\u001b[1;32m     97\u001b[0m         \u001b[38;5;124m'\u001b[39m\u001b[38;5;124mEvent loop stopped before Future completed.\u001b[39m\u001b[38;5;124m'\u001b[39m)\n\u001b[0;32m---> 98\u001b[0m \u001b[38;5;28;01mreturn\u001b[39;00m \u001b[43mf\u001b[49m\u001b[38;5;241;43m.\u001b[39;49m\u001b[43mresult\u001b[49m\u001b[43m(\u001b[49m\u001b[43m)\u001b[49m\n",
      "File \u001b[0;32m/usr/local/lib/python3.12/asyncio/futures.py:203\u001b[0m, in \u001b[0;36mFuture.result\u001b[0;34m(self)\u001b[0m\n\u001b[1;32m    201\u001b[0m \u001b[38;5;28mself\u001b[39m\u001b[38;5;241m.\u001b[39m__log_traceback \u001b[38;5;241m=\u001b[39m \u001b[38;5;28;01mFalse\u001b[39;00m\n\u001b[1;32m    202\u001b[0m \u001b[38;5;28;01mif\u001b[39;00m \u001b[38;5;28mself\u001b[39m\u001b[38;5;241m.\u001b[39m_exception \u001b[38;5;129;01mis\u001b[39;00m \u001b[38;5;129;01mnot\u001b[39;00m \u001b[38;5;28;01mNone\u001b[39;00m:\n\u001b[0;32m--> 203\u001b[0m     \u001b[38;5;28;01mraise\u001b[39;00m \u001b[38;5;28mself\u001b[39m\u001b[38;5;241m.\u001b[39m_exception\u001b[38;5;241m.\u001b[39mwith_traceback(\u001b[38;5;28mself\u001b[39m\u001b[38;5;241m.\u001b[39m_exception_tb)\n\u001b[1;32m    204\u001b[0m \u001b[38;5;28;01mreturn\u001b[39;00m \u001b[38;5;28mself\u001b[39m\u001b[38;5;241m.\u001b[39m_result\n",
      "File \u001b[0;32m/usr/local/lib/python3.12/asyncio/tasks.py:316\u001b[0m, in \u001b[0;36mTask.__step_run_and_handle_result\u001b[0;34m(***failed resolving arguments***)\u001b[0m\n\u001b[1;32m    314\u001b[0m         result \u001b[38;5;241m=\u001b[39m coro\u001b[38;5;241m.\u001b[39msend(\u001b[38;5;28;01mNone\u001b[39;00m)\n\u001b[1;32m    315\u001b[0m     \u001b[38;5;28;01melse\u001b[39;00m:\n\u001b[0;32m--> 316\u001b[0m         result \u001b[38;5;241m=\u001b[39m \u001b[43mcoro\u001b[49m\u001b[38;5;241;43m.\u001b[39;49m\u001b[43mthrow\u001b[49m\u001b[43m(\u001b[49m\u001b[43mexc\u001b[49m\u001b[43m)\u001b[49m\n\u001b[1;32m    317\u001b[0m \u001b[38;5;28;01mexcept\u001b[39;00m \u001b[38;5;167;01mStopIteration\u001b[39;00m \u001b[38;5;28;01mas\u001b[39;00m exc:\n\u001b[1;32m    318\u001b[0m     \u001b[38;5;28;01mif\u001b[39;00m \u001b[38;5;28mself\u001b[39m\u001b[38;5;241m.\u001b[39m_must_cancel:\n\u001b[1;32m    319\u001b[0m         \u001b[38;5;66;03m# Task is cancelled right before coro stops.\u001b[39;00m\n",
      "File \u001b[0;32m/usr/local/lib/python3.12/site-packages/gremlin_python/driver/aiohttp/transport.py:70\u001b[0m, in \u001b[0;36mAiohttpTransport.connect.<locals>.async_connect\u001b[0;34m()\u001b[0m\n\u001b[1;32m     68\u001b[0m \u001b[38;5;28mself\u001b[39m\u001b[38;5;241m.\u001b[39m_client_session \u001b[38;5;241m=\u001b[39m aiohttp\u001b[38;5;241m.\u001b[39mClientSession(loop\u001b[38;5;241m=\u001b[39m\u001b[38;5;28mself\u001b[39m\u001b[38;5;241m.\u001b[39m_loop)\n\u001b[1;32m     69\u001b[0m \u001b[38;5;28;01mtry\u001b[39;00m:\n\u001b[0;32m---> 70\u001b[0m     \u001b[38;5;28mself\u001b[39m\u001b[38;5;241m.\u001b[39m_websocket \u001b[38;5;241m=\u001b[39m \u001b[38;5;28;01mawait\u001b[39;00m \u001b[38;5;28mself\u001b[39m\u001b[38;5;241m.\u001b[39m_client_session\u001b[38;5;241m.\u001b[39mws_connect(url, \u001b[38;5;241m*\u001b[39m\u001b[38;5;241m*\u001b[39m\u001b[38;5;28mself\u001b[39m\u001b[38;5;241m.\u001b[39m_aiohttp_kwargs, headers\u001b[38;5;241m=\u001b[39mheaders)\n\u001b[1;32m     71\u001b[0m \u001b[38;5;28;01mexcept\u001b[39;00m ClientResponseError \u001b[38;5;28;01mas\u001b[39;00m err:\n\u001b[1;32m     72\u001b[0m     \u001b[38;5;66;03m# If 403, just send forbidden because in some cases this prints out a huge verbose message\u001b[39;00m\n\u001b[1;32m     73\u001b[0m     \u001b[38;5;66;03m# that includes credentials.\u001b[39;00m\n\u001b[1;32m     74\u001b[0m     \u001b[38;5;28;01mif\u001b[39;00m err\u001b[38;5;241m.\u001b[39mstatus \u001b[38;5;241m==\u001b[39m \u001b[38;5;241m403\u001b[39m:\n",
      "File \u001b[0;32m/usr/local/lib/python3.12/site-packages/aiohttp/client.py:825\u001b[0m, in \u001b[0;36mClientSession._ws_connect\u001b[0;34m(self, url, method, protocols, timeout, receive_timeout, autoclose, autoping, heartbeat, auth, origin, params, headers, proxy, proxy_auth, ssl, verify_ssl, fingerprint, ssl_context, proxy_headers, compress, max_msg_size)\u001b[0m\n\u001b[1;32m    822\u001b[0m ssl \u001b[38;5;241m=\u001b[39m _merge_ssl_params(ssl, verify_ssl, ssl_context, fingerprint)\n\u001b[1;32m    824\u001b[0m \u001b[38;5;66;03m# send request\u001b[39;00m\n\u001b[0;32m--> 825\u001b[0m resp \u001b[38;5;241m=\u001b[39m \u001b[38;5;28;01mawait\u001b[39;00m \u001b[38;5;28mself\u001b[39m\u001b[38;5;241m.\u001b[39mrequest(\n\u001b[1;32m    826\u001b[0m     method,\n\u001b[1;32m    827\u001b[0m     url,\n\u001b[1;32m    828\u001b[0m     params\u001b[38;5;241m=\u001b[39mparams,\n\u001b[1;32m    829\u001b[0m     headers\u001b[38;5;241m=\u001b[39mreal_headers,\n\u001b[1;32m    830\u001b[0m     read_until_eof\u001b[38;5;241m=\u001b[39m\u001b[38;5;28;01mFalse\u001b[39;00m,\n\u001b[1;32m    831\u001b[0m     auth\u001b[38;5;241m=\u001b[39mauth,\n\u001b[1;32m    832\u001b[0m     proxy\u001b[38;5;241m=\u001b[39mproxy,\n\u001b[1;32m    833\u001b[0m     proxy_auth\u001b[38;5;241m=\u001b[39mproxy_auth,\n\u001b[1;32m    834\u001b[0m     ssl\u001b[38;5;241m=\u001b[39mssl,\n\u001b[1;32m    835\u001b[0m     proxy_headers\u001b[38;5;241m=\u001b[39mproxy_headers,\n\u001b[1;32m    836\u001b[0m )\n\u001b[1;32m    838\u001b[0m \u001b[38;5;28;01mtry\u001b[39;00m:\n\u001b[1;32m    839\u001b[0m     \u001b[38;5;66;03m# check handshake\u001b[39;00m\n\u001b[1;32m    840\u001b[0m     \u001b[38;5;28;01mif\u001b[39;00m resp\u001b[38;5;241m.\u001b[39mstatus \u001b[38;5;241m!=\u001b[39m \u001b[38;5;241m101\u001b[39m:\n",
      "File \u001b[0;32m/usr/local/lib/python3.12/site-packages/aiohttp/client.py:574\u001b[0m, in \u001b[0;36mClientSession._request\u001b[0;34m(self, method, str_or_url, params, data, json, cookies, headers, skip_auto_headers, auth, allow_redirects, max_redirects, compress, chunked, expect100, raise_for_status, read_until_eof, proxy, proxy_auth, timeout, verify_ssl, fingerprint, ssl_context, ssl, server_hostname, proxy_headers, trace_request_ctx, read_bufsize, auto_decompress, max_line_size, max_field_size)\u001b[0m\n\u001b[1;32m    569\u001b[0m     \u001b[38;5;28;01masync\u001b[39;00m \u001b[38;5;28;01mwith\u001b[39;00m ceil_timeout(\n\u001b[1;32m    570\u001b[0m         real_timeout\u001b[38;5;241m.\u001b[39mconnect,\n\u001b[1;32m    571\u001b[0m         ceil_threshold\u001b[38;5;241m=\u001b[39mreal_timeout\u001b[38;5;241m.\u001b[39mceil_threshold,\n\u001b[1;32m    572\u001b[0m     ):\n\u001b[1;32m    573\u001b[0m         \u001b[38;5;28;01massert\u001b[39;00m \u001b[38;5;28mself\u001b[39m\u001b[38;5;241m.\u001b[39m_connector \u001b[38;5;129;01mis\u001b[39;00m \u001b[38;5;129;01mnot\u001b[39;00m \u001b[38;5;28;01mNone\u001b[39;00m\n\u001b[0;32m--> 574\u001b[0m         conn \u001b[38;5;241m=\u001b[39m \u001b[38;5;28;01mawait\u001b[39;00m \u001b[38;5;28mself\u001b[39m\u001b[38;5;241m.\u001b[39m_connector\u001b[38;5;241m.\u001b[39mconnect(\n\u001b[1;32m    575\u001b[0m             req, traces\u001b[38;5;241m=\u001b[39mtraces, timeout\u001b[38;5;241m=\u001b[39mreal_timeout\n\u001b[1;32m    576\u001b[0m         )\n\u001b[1;32m    577\u001b[0m \u001b[38;5;28;01mexcept\u001b[39;00m asyncio\u001b[38;5;241m.\u001b[39mTimeoutError \u001b[38;5;28;01mas\u001b[39;00m exc:\n\u001b[1;32m    578\u001b[0m     \u001b[38;5;28;01mraise\u001b[39;00m ServerTimeoutError(\n\u001b[1;32m    579\u001b[0m         \u001b[38;5;124m\"\u001b[39m\u001b[38;5;124mConnection timeout \u001b[39m\u001b[38;5;124m\"\u001b[39m \u001b[38;5;124m\"\u001b[39m\u001b[38;5;124mto host \u001b[39m\u001b[38;5;132;01m{}\u001b[39;00m\u001b[38;5;124m\"\u001b[39m\u001b[38;5;241m.\u001b[39mformat(url)\n\u001b[1;32m    580\u001b[0m     ) \u001b[38;5;28;01mfrom\u001b[39;00m \u001b[38;5;21;01mexc\u001b[39;00m\n",
      "File \u001b[0;32m/usr/local/lib/python3.12/site-packages/aiohttp/connector.py:544\u001b[0m, in \u001b[0;36mBaseConnector.connect\u001b[0;34m(self, req, traces, timeout)\u001b[0m\n\u001b[1;32m    541\u001b[0m         \u001b[38;5;28;01mawait\u001b[39;00m trace\u001b[38;5;241m.\u001b[39msend_connection_create_start()\n\u001b[1;32m    543\u001b[0m \u001b[38;5;28;01mtry\u001b[39;00m:\n\u001b[0;32m--> 544\u001b[0m     proto \u001b[38;5;241m=\u001b[39m \u001b[38;5;28;01mawait\u001b[39;00m \u001b[38;5;28mself\u001b[39m\u001b[38;5;241m.\u001b[39m_create_connection(req, traces, timeout)\n\u001b[1;32m    545\u001b[0m     \u001b[38;5;28;01mif\u001b[39;00m \u001b[38;5;28mself\u001b[39m\u001b[38;5;241m.\u001b[39m_closed:\n\u001b[1;32m    546\u001b[0m         proto\u001b[38;5;241m.\u001b[39mclose()\n",
      "File \u001b[0;32m/usr/local/lib/python3.12/site-packages/aiohttp/connector.py:911\u001b[0m, in \u001b[0;36mTCPConnector._create_connection\u001b[0;34m(self, req, traces, timeout)\u001b[0m\n\u001b[1;32m    909\u001b[0m     _, proto \u001b[38;5;241m=\u001b[39m \u001b[38;5;28;01mawait\u001b[39;00m \u001b[38;5;28mself\u001b[39m\u001b[38;5;241m.\u001b[39m_create_proxy_connection(req, traces, timeout)\n\u001b[1;32m    910\u001b[0m \u001b[38;5;28;01melse\u001b[39;00m:\n\u001b[0;32m--> 911\u001b[0m     _, proto \u001b[38;5;241m=\u001b[39m \u001b[38;5;28;01mawait\u001b[39;00m \u001b[38;5;28mself\u001b[39m\u001b[38;5;241m.\u001b[39m_create_direct_connection(req, traces, timeout)\n\u001b[1;32m    913\u001b[0m \u001b[38;5;28;01mreturn\u001b[39;00m proto\n",
      "File \u001b[0;32m/usr/local/lib/python3.12/site-packages/aiohttp/connector.py:1187\u001b[0m, in \u001b[0;36mTCPConnector._create_direct_connection\u001b[0;34m(self, req, traces, timeout, client_error)\u001b[0m\n\u001b[1;32m   1184\u001b[0m         \u001b[38;5;28;01mraise\u001b[39;00m\n\u001b[1;32m   1185\u001b[0m     \u001b[38;5;66;03m# in case of proxy it is not ClientProxyConnectionError\u001b[39;00m\n\u001b[1;32m   1186\u001b[0m     \u001b[38;5;66;03m# it is problem of resolving proxy ip itself\u001b[39;00m\n\u001b[0;32m-> 1187\u001b[0m     \u001b[38;5;28;01mraise\u001b[39;00m ClientConnectorError(req\u001b[38;5;241m.\u001b[39mconnection_key, exc) \u001b[38;5;28;01mfrom\u001b[39;00m \u001b[38;5;21;01mexc\u001b[39;00m\n\u001b[1;32m   1189\u001b[0m last_exc: Optional[\u001b[38;5;167;01mException\u001b[39;00m] \u001b[38;5;241m=\u001b[39m \u001b[38;5;28;01mNone\u001b[39;00m\n\u001b[1;32m   1191\u001b[0m \u001b[38;5;28;01mfor\u001b[39;00m hinfo \u001b[38;5;129;01min\u001b[39;00m hosts:\n",
      "\u001b[0;31mClientConnectorError\u001b[0m: Cannot connect to host btc_janus:8182 ssl:default [Name or service not known]"
     ]
    }
   ],
   "source": [
    "import sys\n",
    "from pathlib import Path\n",
    "\n",
    "import nest_asyncio\n",
    "nest_asyncio.apply()\n",
    "\n",
    "container_src_path = Path('/app/src/')\n",
    "local_src_path = Path(Path.cwd(), 'src/')\n",
    "\n",
    "# see if this src path exists.\n",
    "# if it does, we are in a container.\n",
    "# if not, we are in local.\n",
    "if not container_src_path.exists():\n",
    "    src_path = local_src_path\n",
    "else:\n",
    "    src_path = container_src_path\n",
    "\n",
    "src_path_str = str(src_path)\n",
    "if src_path_str not in sys.path:\n",
    "    sys.path.insert(0, src_path_str)\n",
    "\n",
    "\n",
    "from gremlin_python import statics\n",
    "from gremlin_python.process.traversal import T, Direction\n",
    "from gremlin_python.process.anonymous_traversal import traversal\n",
    "from gremlin_python.process.graph_traversal import GraphTraversalSource\n",
    "from gremlin_python.process.graph_traversal import __\n",
    "\n",
    "from graph.base import g\n",
    "from ipycytoscape_graph_visualization import visualize_graph\n",
    "\n",
    "from dotenv import load_dotenv\n",
    "\n",
    "load_dotenv()\n",
    "\n",
    "# test connection to gremlin server\n",
    "g.V().limit(1).toList()"
   ]
  },
  {
   "cell_type": "markdown",
   "metadata": {},
   "source": [
    "### Analyze Address `1BBZ`"
   ]
  },
  {
   "cell_type": "code",
   "execution_count": 2,
   "metadata": {},
   "outputs": [
    {
     "name": "stdout",
     "output_type": "stream",
     "text": [
      "id of address 1BBz9Z15YpELQ4QP5sEKb1SwxkcmPb5TMs: 504\n",
      "[['withStrategies', OptionsStrategy], ['withStrategies', OptionsStrategy]][['V'], ['has', 'address_id', 504], ['repeat', [['inE', 'sent'], ['otherV']]], ['emit'], ['path'], ['by', [['elementMap']]], ['by', [['elementMap']]], ['unfold']]\n",
      "DiGraph with 10 nodes and 10 edges\n",
      "amount from 187:1:0 15NU (1.0) is 1.0\n",
      "amount from 183:1:0 13Ht (1.0) is 1.0\n",
      "amount from 182:1:1 12cb (29.0) is 11.0\n",
      "amount from 181:1:1 12cb (30.0) is 11.0\n",
      "amount from 170:1:1 12cb (40.0) is 11.0\n",
      "amount from 9:0:0 12cb (50.0) is 11.0\n",
      "amount from 248:1:0 1ByL (10.0) is 10.0\n",
      "amount from 183:1:1 12cb (28.0) is 10.0\n",
      "amount from 360:0:0 18SH (50.0) is 50.0\n"
     ]
    },
    {
     "data": {
      "application/vnd.jupyter.widget-view+json": {
       "model_id": "b1ef9f0dd96a4cb28f04f77a06f5c998",
       "version_major": 2,
       "version_minor": 0
      },
      "text/plain": [
       "CytoscapeWidget(cytoscape_layout={'name': 'dagre', 'nodeDimensionsIncludeLabels': True, 'rankDir': 'LR'}, cyto…"
      ]
     },
     "metadata": {},
     "output_type": "display_data"
    }
   ],
   "source": [
    "import networkx as nx\n",
    "\n",
    "from models.base import SessionLocal\n",
    "from models.bitcoin_data import Block, Tx, Address, Input, Output\n",
    "from graph.base import g\n",
    "from graph_analyze import GraphAnalyzer\n",
    "\n",
    "\n",
    "analyzer = GraphAnalyzer(g, SessionLocal)\n",
    "\n",
    "# interesting_addr = '12higDjoCCNXSA95xZMWUdPvXNmkAduhWv'\n",
    "# interesting_addr = '12cbQLTFMXRnSzktFkuoG3eHoMeFtpTu3S'\n",
    "interesting_addr = '1BBz9Z15YpELQ4QP5sEKb1SwxkcmPb5TMs'\n",
    "# interesting_addr = '1KAD5EnzzLtrSo2Da2G4zzD7uZrjk8zRAv'\n",
    "# interesting_addr = '1DCbY2GYVaAMCBpuBNN5GVg3a47pNK1wdi'\n",
    "\n",
    "with SessionLocal() as session:\n",
    "    address = session.query(Address).filter_by(addr=interesting_addr).first()\n",
    "    \n",
    "if not address:\n",
    "    print(f\"address {interesting_addr} not found\")\n",
    "    sys.exit(1)\n",
    "\n",
    "print(f\"id of address {address.addr:4}: {address.id}\")\n",
    "\n",
    "my_hist = analyzer.get_address_history(interesting_addr)\n",
    "graph = analyzer.traversal_to_networkx(my_hist, include_data=True)\n",
    "# graph = analyzer.traversal_to_networkx(my_hist)\n",
    "\n",
    "print(my_hist)\n",
    "print(graph)\n",
    "\n",
    "# dump graph to gexf file\n",
    "# addr_hist_graph_path = Path('/', 'app', 'addr_hist_graph.gexf')\n",
    "# nx.write_gexf(graph, addr_hist_graph_path)\n",
    "\n",
    "coin_sources = analyzer.get_coin_traces(address.id, 'address', direction='incoming', graph=graph, pretty_labels=True)\n",
    "\n",
    "for source in coin_sources.values():\n",
    "    print(f\"amount from {source['label']} is {round(source['amount'], 10)}\")\n",
    "\n",
    "from ipycytoscape_graph_visualization import visualize_graph\n",
    "\n",
    "display(visualize_graph(graph, layout='dagre'))"
   ]
  },
  {
   "cell_type": "markdown",
   "metadata": {},
   "source": [
    "### Analyze Address `1KAD`"
   ]
  },
  {
   "cell_type": "markdown",
   "metadata": {},
   "source": [
    "### Apply Manual Proportions and Visualize the Transaction History, then Reset the Proportions"
   ]
  },
  {
   "cell_type": "code",
   "execution_count": 4,
   "metadata": {},
   "outputs": [
    {
     "name": "stderr",
     "output_type": "stream",
     "text": [
      "Applying manual edge proportions:  50%|█████     | 1/2 [00:01<00:01,  1.05s/edge]"
     ]
    },
    {
     "name": "stdout",
     "output_type": "stream",
     "text": [
      "id of address 1KAD5EnzzLtrSo2Da2G4zzD7uZrjk8zRAv: 557\n",
      "DiGraph with 9 nodes and 11 edges\n",
      "amount from 546:2:0 1KAD (1.0) is 0.96\n",
      "amount from 546:1:1 1DZT (24.0) is 23.04\n",
      "amount from 545:1:1 1DCb (24.0) is 23.04\n",
      "amount from 524:1:0 1DCb (25.0) is 24.0\n",
      "amount from 286:0:0 1Jhk (50.0) is 24.0\n",
      "amount from 546:1:0 1KAD (1.0) is 0.96\n",
      "amount from 545:1:0 1DZT (1.0) is 0.96\n",
      "amount from 546:2:1 1KAD (24.0) is 23.04\n"
     ]
    },
    {
     "name": "stderr",
     "output_type": "stream",
     "text": [
      "\n"
     ]
    },
    {
     "data": {
      "application/vnd.jupyter.widget-view+json": {
       "model_id": "61215801aee14adea0df397e9b4f9253",
       "version_major": 2,
       "version_minor": 0
      },
      "text/plain": [
       "CytoscapeWidget(cytoscape_layout={'name': 'dagre', 'nodeDimensionsIncludeLabels': True, 'rankDir': 'LR'}, cyto…"
      ]
     },
     "metadata": {},
     "output_type": "display_data"
    },
    {
     "name": "stderr",
     "output_type": "stream",
     "text": [
      "Resetting edge proportions: 100%|██████████| 1/1 [00:00<00:00, 12.46edge/s]"
     ]
    },
    {
     "name": "stdout",
     "output_type": "stream",
     "text": [
      "DiGraph with 9 nodes and 13 edges\n"
     ]
    },
    {
     "name": "stderr",
     "output_type": "stream",
     "text": [
      "\n"
     ]
    },
    {
     "data": {
      "application/vnd.jupyter.widget-view+json": {
       "model_id": "f3da95166f9c4732a556e67bc4a46647",
       "version_major": 2,
       "version_minor": 0
      },
      "text/plain": [
       "CytoscapeWidget(cytoscape_layout={'name': 'dagre', 'nodeDimensionsIncludeLabels': True, 'rankDir': 'LR'}, cyto…"
      ]
     },
     "metadata": {},
     "output_type": "display_data"
    }
   ],
   "source": [
    "import networkx as nx\n",
    "from sqlalchemy.orm import joinedload\n",
    "\n",
    "from models.base import SessionLocal\n",
    "from models.bitcoin_data import Block, Tx, Address, Input, Output, ManualProportion\n",
    "from graph.base import g\n",
    "from graph_populate import PopulateOutputProportionGraph\n",
    "from graph_analyze import GraphAnalyzer\n",
    "\n",
    "graph_populator = PopulateOutputProportionGraph(SessionLocal)\n",
    "analyzer = GraphAnalyzer(g, SessionLocal)\n",
    "\n",
    "# interesting_addr = '12higDjoCCNXSA95xZMWUdPvXNmkAduhWv'\n",
    "# interesting_addr = '12cbQLTFMXRnSzktFkuoG3eHoMeFtpTu3S'\n",
    "# interesting_addr = '1BBz9Z15YpELQ4QP5sEKb1SwxkcmPb5TMs'\n",
    "interesting_addr = '1KAD5EnzzLtrSo2Da2G4zzD7uZrjk8zRAv'\n",
    "# interesting_addr = '1DCbY2GYVaAMCBpuBNN5GVg3a47pNK1wdi'\n",
    "\n",
    "\n",
    "with SessionLocal() as session:\n",
    "    # apply manual proportion to first input/output pair in second tx of block 546\n",
    "    tx = session.query(Tx)\\\n",
    "                .options(\n",
    "                    joinedload(Tx.inputs).joinedload(Input.prev_out),\n",
    "                    joinedload(Tx.outputs)\n",
    "                )\\\n",
    "                .filter(Tx.index_in_block == 1, Tx.block_height == 546)\\\n",
    "                .first()\n",
    "    # create the manual proportion object\n",
    "    manual_proportions = session.query(ManualProportion)\\\n",
    "                                .filter(ManualProportion.input_id == tx.inputs[0].id)\\\n",
    "                                .first()\n",
    "    if not manual_proportions:\n",
    "        session.add_all([\n",
    "            ManualProportion(\n",
    "                input_id=tx.inputs[0].id,\n",
    "                output_id=tx.outputs[0].id,\n",
    "                proportion=1.0\n",
    "            ),\n",
    "            ManualProportion(\n",
    "                input_id=tx.inputs[1].id,\n",
    "                output_id=tx.outputs[1].id,\n",
    "                proportion=1.0\n",
    "            )\n",
    "        ])\n",
    "        session.commit()\n",
    "    graph_populator.apply_manual_edge_proportions(session, show_progressbar=True)\n",
    "    address = session.query(Address).filter_by(addr=interesting_addr).first()\n",
    "\n",
    "if not address:\n",
    "    print(f\"address {interesting_addr} not found\")\n",
    "    sys.exit(1)\n",
    "\n",
    "print(f\"id of address {address.addr:4}: {address.id}\")\n",
    "\n",
    "my_hist = analyzer.get_address_history(interesting_addr)\n",
    "graph = analyzer.traversal_to_networkx(my_hist, include_data=True)\n",
    "print(graph)\n",
    "\n",
    "coin_sources = analyzer.get_coin_traces(address.id, 'address', direction='incoming', graph=graph, pretty_labels=True)\n",
    "\n",
    "for source in coin_sources.values():\n",
    "    print(f\"amount from {source['label']} is {round(source['amount'], 10)}\")\n",
    "\n",
    "from ipycytoscape_graph_visualization import visualize_graph\n",
    "\n",
    "display(visualize_graph(graph, layout='dagre'))\n",
    "\n",
    "with SessionLocal() as session:\n",
    "    graph_populator.reset_manual_edge_proportions(session, show_progressbar=True)\n",
    "\n",
    "my_hist = analyzer.get_address_history(interesting_addr)\n",
    "graph = analyzer.traversal_to_networkx(my_hist, include_data=True)\n",
    "print(graph)\n",
    "display(visualize_graph(graph, layout='dagre'))"
   ]
  },
  {
   "cell_type": "code",
   "execution_count": 21,
   "metadata": {},
   "outputs": [
    {
     "name": "stdout",
     "output_type": "stream",
     "text": [
      "555\n",
      "input 0: 555 (100000000) -> output 0: 557 (100000000)\n",
      "input 1: 533 (2400000000) -> output 1: 555 (2400000000)\n"
     ]
    }
   ],
   "source": [
    "from sqlalchemy import select\n",
    "from sqlalchemy.orm import joinedload, aliased\n",
    "\n",
    "from models.base import SessionLocal\n",
    "from models.bitcoin_data import ManualProportion, Tx, Output, Input\n",
    "\n",
    "options = (\n",
    "            joinedload(Tx.inputs)\n",
    "            .joinedload(Input.prev_out),\n",
    "            joinedload(Tx.outputs)\n",
    "        )\n",
    "\n",
    "with SessionLocal() as session:\n",
    "    affected_tx_ids = session.query(Tx.id)\\\n",
    "                                 .join(Output, Tx.id == Output.tx_id)\\\n",
    "                                 .join(ManualProportion, Output.id == ManualProportion.output_id)\\\n",
    "                                 .distinct().all()\n",
    "                                 \n",
    "    affected_tx_ids = [tx_id for tx_id, in affected_tx_ids]\n",
    "    # affected_txs = session.query(Tx) \\\n",
    "    #                       .options(*options) \\\n",
    "    #                       .filter(Tx.id.in_(affected_tx_ids)) \\\n",
    "    #                       .limit(2).all()\n",
    "    \n",
    "    affected_txs = session.query(Tx) \\\n",
    "                          .options(*options) \\\n",
    "                          .join(Output, Tx.id == Output.tx_id)\\\n",
    "                          .join(ManualProportion, Output.id == ManualProportion.output_id)\\\n",
    "                          .all()\n",
    "\n",
    "    assert len(affected_txs) == 1\n",
    "\n",
    "    print(affected_txs[0].inputs[0].prev_out.address_id)\n",
    "\n",
    "for tx in affected_txs:\n",
    "    for i in range(max(len(tx.inputs), len(tx.outputs))):\n",
    "        if i >= len(tx.inputs):\n",
    "            print(f\"input {i}: None -> output {i}: {tx.outputs[i].address_id} ({tx.outputs[i].value})\")\n",
    "        elif i >= len(tx.outputs):\n",
    "            print(f\"input {i}: {tx.inputs[i].prev_out.address_id} ({tx.inputs[i].prev_out.value}) -> output {i}: None\")\n",
    "        else:\n",
    "            print(f\"input {i}: {tx.inputs[i].prev_out.address_id} ({tx.inputs[i].prev_out.value}) -> output {i}: {tx.outputs[i].address_id} ({tx.outputs[i].value})\")\n"
   ]
  },
  {
   "cell_type": "markdown",
   "metadata": {},
   "source": [
    "### Trace Forwards from `1Jhk` TODO: Limit depth"
   ]
  },
  {
   "cell_type": "code",
   "execution_count": null,
   "metadata": {},
   "outputs": [],
   "source": [
    "import networkx as nx\n",
    "\n",
    "from models.base import SessionLocal\n",
    "from models.bitcoin_data import Block, Tx, Address, Input, Output\n",
    "from graph.base import g\n",
    "from graph_analyze import GraphAnalyzer\n",
    "\n",
    "\n",
    "analyzer = GraphAnalyzer(g, SessionLocal)\n",
    "\n",
    "interesting_addr = '1Jhk2DHosaaZx1E4CbnTGcKM7FC88YHYv9'\n",
    "\n",
    "with SessionLocal() as session:\n",
    "    address = session.query(Address)\\\n",
    "                     .filter_by(addr=interesting_addr).first()\n",
    "    \n",
    "if not address:\n",
    "    print(f\"address {interesting_addr} not found\")\n",
    "    sys.exit(1)\n",
    "\n",
    "print(f\"id of address {address.addr:4}: {address.id}\")\n",
    "\n",
    "# depth of 15 works\n",
    "# depth of 30 is too much\n",
    "# what about 20?\n",
    "my_hist = analyzer.get_vertex_path(address.id, 'address', depth=16)\n",
    "graph = analyzer.traversal_to_networkx(my_hist, include_data=True)\n",
    "\n",
    "print(graph)\n",
    "\n",
    "# save graph to file in docs/graphs folder\n",
    "graph_path = Path('/', 'app', 'graph_file_exports', '1jkh_paths.gexf')\n",
    "nx.write_gexf(graph, graph_path)\n",
    "\n",
    "# coin_sources = analyzer.get_coin_traces(address.id,\n",
    "#                                         'address',\n",
    "#                                         direction='outgoing',\n",
    "#                                         graph=graph,\n",
    "#                                         pretty_labels=True)\n",
    "\n",
    "# for source in list(coin_sources.values())[:5]:\n",
    "#     print(f\"amount from {source['label']} is {round(source['amount'], 10)}\")\n",
    "\n",
    "# from ipycytoscape_graph_visualization import visualize_graph\n",
    "\n",
    "# display(visualize_graph(graph, layout='dagre'))"
   ]
  },
  {
   "cell_type": "markdown",
   "metadata": {},
   "source": [
    "### Get JanusGraph ID of `1Jhk`"
   ]
  },
  {
   "cell_type": "code",
   "execution_count": null,
   "metadata": {},
   "outputs": [],
   "source": [
    "from gremlin_python.process.traversal import P\n",
    "from models.base import SessionLocal\n",
    "from models.bitcoin_data import Address, Output\n",
    "\n",
    "interesting_addr = '1Jhk2DHosaaZx1E4CbnTGcKM7FC88YHYv9'\n",
    "\n",
    "with SessionLocal() as session:\n",
    "    address = session.query(Address)\\\n",
    "                     .filter_by(addr=interesting_addr).first()\n",
    "\n",
    "# get ids of all outputs that belong to the address 1Jhk...\n",
    "with SessionLocal() as session:\n",
    "    outputs = session.query(Output).filter_by(address_id=address.id).all()\n",
    "\n",
    "output_ids = [output.id for output in outputs]\n",
    "print(output_ids)\n",
    "\n",
    "# get janusgraph ids of all vertices that belong to the address 1Jhk...\n",
    "ids = g.V().has('output_id', P.within(output_ids)).id().toList()"
   ]
  },
  {
   "cell_type": "markdown",
   "metadata": {},
   "source": [
    "### Visualize using `igraph`"
   ]
  },
  {
   "cell_type": "code",
   "execution_count": null,
   "metadata": {},
   "outputs": [],
   "source": [
    "from pathlib import Path\n",
    "import networkx as nx\n",
    "import igraph as ig\n",
    "import dagviz\n",
    "\n",
    "graph_path = Path('/', 'app', 'graph_file_exports')\n",
    "graph = nx.read_gexf(graph_path / '1jkh_paths.gexf')\n",
    "\n",
    "\n",
    "display(visualize_graph(graph, layout='dagre'))\n",
    "\n",
    "# save svg to file\n",
    "# dagre = dagviz.render_svg(\n",
    "#     graph\n",
    "# )\n",
    "\n",
    "# with open(graph_path / '1jkh_paths.svg', 'wt') as fs:\n",
    "#     fs.write(dagre)\n",
    "\n",
    "\n",
    "# ig.plot(\n",
    "#     gr,\n",
    "#     layout=gr.layout(\"kk\"),\n",
    "#     vertex_size=5,\n",
    "#     vertex_label_size=5,\n",
    "#     edge_arrow_size=0.5,\n",
    "#     edge_label_size=0.5,\n",
    "#     vertex_label_angle=0.5,\n",
    "#     vertex_label_dist=0.5,\n",
    "#     bbox=(1000, 1000),\n",
    "#     margin=100\n",
    "# )\n",
    "\n",
    "# ig.plot(\n",
    "#     gr,\n",
    "#     layout=gr.layout('sugiyama', hgap=1),\n",
    "#     vertex_size=5,\n",
    "#     vertex_label_size=5,\n",
    "#     edge_arrow_size=0.5,\n",
    "#     edge_label_size=0.5,\n",
    "# )"
   ]
  },
  {
   "cell_type": "markdown",
   "metadata": {},
   "source": [
    "### Traverse from First Output in Transaction ID `951352`"
   ]
  },
  {
   "cell_type": "code",
   "execution_count": 2,
   "metadata": {},
   "outputs": [
    {
     "name": "stdout",
     "output_type": "stream",
     "text": [
      "<Output(id=1909086)>\n",
      "DiGraph with 1000 nodes and 999 edges\n"
     ]
    },
    {
     "ename": "KeyboardInterrupt",
     "evalue": "",
     "output_type": "error",
     "traceback": [
      "\u001b[0;31m---------------------------------------------------------------------------\u001b[0m",
      "\u001b[0;31mKeyboardInterrupt\u001b[0m                         Traceback (most recent call last)",
      "Cell \u001b[0;32mIn[2], line 25\u001b[0m\n\u001b[1;32m     22\u001b[0m graph \u001b[38;5;241m=\u001b[39m analyzer\u001b[38;5;241m.\u001b[39mtraversal_to_networkx(my_hist, include_data\u001b[38;5;241m=\u001b[39m\u001b[38;5;28;01mTrue\u001b[39;00m)\n\u001b[1;32m     24\u001b[0m \u001b[38;5;28mprint\u001b[39m(graph)\n\u001b[0;32m---> 25\u001b[0m display(\u001b[43mvisualize_graph\u001b[49m\u001b[43m(\u001b[49m\u001b[43mgraph\u001b[49m\u001b[43m,\u001b[49m\u001b[43m \u001b[49m\u001b[43mlayout\u001b[49m\u001b[38;5;241;43m=\u001b[39;49m\u001b[38;5;124;43m'\u001b[39;49m\u001b[38;5;124;43mdagre\u001b[39;49m\u001b[38;5;124;43m'\u001b[39;49m\u001b[43m)\u001b[49m)\n",
      "File \u001b[0;32m/app/ipycytoscape_graph_visualization.py:34\u001b[0m, in \u001b[0;36mvisualize_graph\u001b[0;34m(G, layout, edge_style_lambda)\u001b[0m\n\u001b[1;32m     32\u001b[0m     custom_style \u001b[38;5;241m=\u001b[39m edge_style_lambda(edge_tuple) \u001b[38;5;28;01mif\u001b[39;00m edge_style_lambda \u001b[38;5;28;01melse\u001b[39;00m {}\n\u001b[1;32m     33\u001b[0m     \u001b[38;5;28;01mfor\u001b[39;00m key, value \u001b[38;5;129;01min\u001b[39;00m default_edge_style\u001b[38;5;241m.\u001b[39mitems():\n\u001b[0;32m---> 34\u001b[0m         \u001b[43medge\u001b[49m\u001b[38;5;241;43m.\u001b[39;49m\u001b[43mdata\u001b[49m\u001b[43m[\u001b[49m\u001b[43mkey\u001b[49m\u001b[43m]\u001b[49m \u001b[38;5;241m=\u001b[39m custom_style\u001b[38;5;241m.\u001b[39mget(key, value)\n\u001b[1;32m     36\u001b[0m \u001b[38;5;66;03m# Apply styles\u001b[39;00m\n\u001b[1;32m     37\u001b[0m cyto_graph\u001b[38;5;241m.\u001b[39mset_style([\n\u001b[1;32m     38\u001b[0m     {\n\u001b[1;32m     39\u001b[0m         \u001b[38;5;124m'\u001b[39m\u001b[38;5;124mselector\u001b[39m\u001b[38;5;124m'\u001b[39m: \u001b[38;5;124m'\u001b[39m\u001b[38;5;124mnode\u001b[39m\u001b[38;5;124m'\u001b[39m,\n\u001b[0;32m   (...)\u001b[0m\n\u001b[1;32m     61\u001b[0m     }\n\u001b[1;32m     62\u001b[0m ])\n",
      "File \u001b[0;32m/usr/local/lib/python3.12/site-packages/spectate/base.py:281\u001b[0m, in \u001b[0;36mControl._create_controlled_method.<locals>.wrapped_method\u001b[0;34m(obj, *args, **kwargs)\u001b[0m\n\u001b[1;32m    279\u001b[0m after_control \u001b[38;5;241m=\u001b[39m bound_control\u001b[38;5;241m.\u001b[39mafter\n\u001b[1;32m    280\u001b[0m \u001b[38;5;28;01mif\u001b[39;00m after_control \u001b[38;5;129;01mis\u001b[39;00m \u001b[38;5;129;01mnot\u001b[39;00m \u001b[38;5;28;01mNone\u001b[39;00m:\n\u001b[0;32m--> 281\u001b[0m     \u001b[43mafter_control\u001b[49m\u001b[43m(\u001b[49m\n\u001b[1;32m    282\u001b[0m \u001b[43m        \u001b[49m\u001b[43mobj\u001b[49m\u001b[43m,\u001b[49m\u001b[43m \u001b[49m\u001b[43m{\u001b[49m\u001b[38;5;124;43m\"\u001b[39;49m\u001b[38;5;124;43mbefore\u001b[39;49m\u001b[38;5;124;43m\"\u001b[39;49m\u001b[43m:\u001b[49m\u001b[43m \u001b[49m\u001b[43mbefore_value\u001b[49m\u001b[43m,\u001b[49m\u001b[43m \u001b[49m\u001b[38;5;124;43m\"\u001b[39;49m\u001b[38;5;124;43mname\u001b[39;49m\u001b[38;5;124;43m\"\u001b[39;49m\u001b[43m:\u001b[49m\u001b[43m \u001b[49m\u001b[43mname\u001b[49m\u001b[43m,\u001b[49m\u001b[43m \u001b[49m\u001b[38;5;124;43m\"\u001b[39;49m\u001b[38;5;124;43mvalue\u001b[39;49m\u001b[38;5;124;43m\"\u001b[39;49m\u001b[43m:\u001b[49m\u001b[43m \u001b[49m\u001b[43mresult\u001b[49m\u001b[43m}\u001b[49m\n\u001b[1;32m    283\u001b[0m \u001b[43m    \u001b[49m\u001b[43m)\u001b[49m\n\u001b[1;32m    285\u001b[0m \u001b[38;5;28;01mreturn\u001b[39;00m result\n",
      "File \u001b[0;32m/usr/local/lib/python3.12/site-packages/spectate/base.py:341\u001b[0m, in \u001b[0;36mBoundControl.after.<locals>.afterback\u001b[0;34m(value, answer)\u001b[0m\n\u001b[1;32m    339\u001b[0m \u001b[38;5;129m@wraps\u001b[39m(after)\n\u001b[1;32m    340\u001b[0m \u001b[38;5;28;01mdef\u001b[39;00m \u001b[38;5;21mafterback\u001b[39m(value, answer):\n\u001b[0;32m--> 341\u001b[0m \u001b[43m    \u001b[49m\u001b[38;5;28;43;01mwith\u001b[39;49;00m\u001b[43m \u001b[49m\u001b[43mnotifier\u001b[49m\u001b[43m(\u001b[49m\u001b[43mvalue\u001b[49m\u001b[43m)\u001b[49m\u001b[43m \u001b[49m\u001b[38;5;28;43;01mas\u001b[39;49;00m\u001b[43m \u001b[49m\u001b[43mnotify\u001b[49m\u001b[43m:\u001b[49m\n\u001b[1;32m    342\u001b[0m \u001b[43m        \u001b[49m\u001b[38;5;28;43;01mreturn\u001b[39;49;00m\u001b[43m \u001b[49m\u001b[43mafter\u001b[49m\u001b[43m(\u001b[49m\u001b[43manswer\u001b[49m\u001b[43m,\u001b[49m\u001b[43m \u001b[49m\u001b[43mnotify\u001b[49m\u001b[43m)\u001b[49m\n",
      "File \u001b[0;32m/usr/local/lib/python3.12/contextlib.py:144\u001b[0m, in \u001b[0;36m_GeneratorContextManager.__exit__\u001b[0;34m(self, typ, value, traceback)\u001b[0m\n\u001b[1;32m    142\u001b[0m \u001b[38;5;28;01mif\u001b[39;00m typ \u001b[38;5;129;01mis\u001b[39;00m \u001b[38;5;28;01mNone\u001b[39;00m:\n\u001b[1;32m    143\u001b[0m     \u001b[38;5;28;01mtry\u001b[39;00m:\n\u001b[0;32m--> 144\u001b[0m         \u001b[38;5;28;43mnext\u001b[39;49m\u001b[43m(\u001b[49m\u001b[38;5;28;43mself\u001b[39;49m\u001b[38;5;241;43m.\u001b[39;49m\u001b[43mgen\u001b[49m\u001b[43m)\u001b[49m\n\u001b[1;32m    145\u001b[0m     \u001b[38;5;28;01mexcept\u001b[39;00m \u001b[38;5;167;01mStopIteration\u001b[39;00m:\n\u001b[1;32m    146\u001b[0m         \u001b[38;5;28;01mreturn\u001b[39;00m \u001b[38;5;28;01mFalse\u001b[39;00m\n",
      "File \u001b[0;32m/usr/local/lib/python3.12/site-packages/spectate/base.py:153\u001b[0m, in \u001b[0;36mnotifier\u001b[0;34m(model)\u001b[0m\n\u001b[1;32m    150\u001b[0m \u001b[38;5;28;01myield\u001b[39;00m notify\n\u001b[1;32m    152\u001b[0m \u001b[38;5;28;01mif\u001b[39;00m events:\n\u001b[0;32m--> 153\u001b[0m     \u001b[43mmodel\u001b[49m\u001b[38;5;241;43m.\u001b[39;49m\u001b[43m_notify_model_views\u001b[49m\u001b[43m(\u001b[49m\u001b[38;5;28;43mtuple\u001b[39;49m\u001b[43m(\u001b[49m\u001b[43mevents\u001b[49m\u001b[43m)\u001b[49m\u001b[43m)\u001b[49m\n",
      "File \u001b[0;32m/usr/local/lib/python3.12/site-packages/spectate/models.py:27\u001b[0m, in \u001b[0;36mStructure._notify_model_views\u001b[0;34m(self, events)\u001b[0m\n\u001b[1;32m     25\u001b[0m         \u001b[38;5;28;01mif\u001b[39;00m \u001b[38;5;28misinstance\u001b[39m(old, Model):\n\u001b[1;32m     26\u001b[0m             \u001b[38;5;28mself\u001b[39m\u001b[38;5;241m.\u001b[39m_remove_child_model(old)\n\u001b[0;32m---> 27\u001b[0m \u001b[38;5;28;43msuper\u001b[39;49m\u001b[43m(\u001b[49m\u001b[43m)\u001b[49m\u001b[38;5;241;43m.\u001b[39;49m\u001b[43m_notify_model_views\u001b[49m\u001b[43m(\u001b[49m\u001b[43mevents\u001b[49m\u001b[43m)\u001b[49m\n",
      "File \u001b[0;32m/usr/local/lib/python3.12/site-packages/spectate/base.py:429\u001b[0m, in \u001b[0;36mModel._notify_model_views\u001b[0;34m(self, events)\u001b[0m\n\u001b[1;32m    427\u001b[0m \u001b[38;5;28;01mdef\u001b[39;00m \u001b[38;5;21m_notify_model_views\u001b[39m(\u001b[38;5;28mself\u001b[39m, events: TupleOfEvents):\n\u001b[1;32m    428\u001b[0m     \u001b[38;5;28;01mfor\u001b[39;00m view \u001b[38;5;129;01min\u001b[39;00m \u001b[38;5;28mself\u001b[39m\u001b[38;5;241m.\u001b[39m_model_views:\n\u001b[0;32m--> 429\u001b[0m         \u001b[43mview\u001b[49m\u001b[43m(\u001b[49m\u001b[38;5;28;43mself\u001b[39;49m\u001b[43m,\u001b[49m\u001b[43m \u001b[49m\u001b[43mevents\u001b[49m\u001b[43m)\u001b[49m\n",
      "File \u001b[0;32m/usr/local/lib/python3.12/site-packages/ipycytoscape/cytoscape.py:163\u001b[0m, in \u001b[0;36mMutable.instance_init.<locals>.callback\u001b[0;34m(default, events)\u001b[0m\n\u001b[1;32m    156\u001b[0m \u001b[38;5;129m@mvc\u001b[39m\u001b[38;5;241m.\u001b[39mview(default)\n\u001b[1;32m    157\u001b[0m \u001b[38;5;28;01mdef\u001b[39;00m \u001b[38;5;21mcallback\u001b[39m(default, events):\n\u001b[1;32m    158\u001b[0m     change \u001b[38;5;241m=\u001b[39m \u001b[38;5;28mdict\u001b[39m(\n\u001b[1;32m    159\u001b[0m         new\u001b[38;5;241m=\u001b[39m\u001b[38;5;28mgetattr\u001b[39m(obj, \u001b[38;5;28mself\u001b[39m\u001b[38;5;241m.\u001b[39mname),\n\u001b[1;32m    160\u001b[0m         name\u001b[38;5;241m=\u001b[39m\u001b[38;5;28mself\u001b[39m\u001b[38;5;241m.\u001b[39mname,\n\u001b[1;32m    161\u001b[0m         \u001b[38;5;28mtype\u001b[39m\u001b[38;5;241m=\u001b[39m\u001b[38;5;28mself\u001b[39m\u001b[38;5;241m.\u001b[39m_event_type,\n\u001b[1;32m    162\u001b[0m     )\n\u001b[0;32m--> 163\u001b[0m     \u001b[43mobj\u001b[49m\u001b[38;5;241;43m.\u001b[39;49m\u001b[43mnotify_change\u001b[49m\u001b[43m(\u001b[49m\u001b[43mchange\u001b[49m\u001b[43m)\u001b[49m\n",
      "File \u001b[0;32m/usr/local/lib/python3.12/site-packages/ipywidgets/widgets/widget.py:700\u001b[0m, in \u001b[0;36mWidget.notify_change\u001b[0;34m(self, change)\u001b[0m\n\u001b[1;32m    696\u001b[0m \u001b[38;5;28;01mif\u001b[39;00m \u001b[38;5;28mself\u001b[39m\u001b[38;5;241m.\u001b[39mcomm \u001b[38;5;129;01mis\u001b[39;00m \u001b[38;5;129;01mnot\u001b[39;00m \u001b[38;5;28;01mNone\u001b[39;00m \u001b[38;5;129;01mand\u001b[39;00m \u001b[38;5;28mgetattr\u001b[39m(\u001b[38;5;28mself\u001b[39m\u001b[38;5;241m.\u001b[39mcomm, \u001b[38;5;124m'\u001b[39m\u001b[38;5;124mkernel\u001b[39m\u001b[38;5;124m'\u001b[39m, \u001b[38;5;28;01mTrue\u001b[39;00m) \u001b[38;5;129;01mis\u001b[39;00m \u001b[38;5;129;01mnot\u001b[39;00m \u001b[38;5;28;01mNone\u001b[39;00m:\n\u001b[1;32m    697\u001b[0m     \u001b[38;5;66;03m# Make sure this isn't information that the front-end just sent us.\u001b[39;00m\n\u001b[1;32m    698\u001b[0m     \u001b[38;5;28;01mif\u001b[39;00m name \u001b[38;5;129;01min\u001b[39;00m \u001b[38;5;28mself\u001b[39m\u001b[38;5;241m.\u001b[39mkeys \u001b[38;5;129;01mand\u001b[39;00m \u001b[38;5;28mself\u001b[39m\u001b[38;5;241m.\u001b[39m_should_send_property(name, \u001b[38;5;28mgetattr\u001b[39m(\u001b[38;5;28mself\u001b[39m, name)):\n\u001b[1;32m    699\u001b[0m         \u001b[38;5;66;03m# Send new state to front-end\u001b[39;00m\n\u001b[0;32m--> 700\u001b[0m         \u001b[38;5;28;43mself\u001b[39;49m\u001b[38;5;241;43m.\u001b[39;49m\u001b[43msend_state\u001b[49m\u001b[43m(\u001b[49m\u001b[43mkey\u001b[49m\u001b[38;5;241;43m=\u001b[39;49m\u001b[43mname\u001b[49m\u001b[43m)\u001b[49m\n\u001b[1;32m    701\u001b[0m \u001b[38;5;28msuper\u001b[39m()\u001b[38;5;241m.\u001b[39mnotify_change(change)\n",
      "File \u001b[0;32m/usr/local/lib/python3.12/site-packages/ipywidgets/widgets/widget.py:578\u001b[0m, in \u001b[0;36mWidget.send_state\u001b[0;34m(self, key)\u001b[0m\n\u001b[1;32m    570\u001b[0m \u001b[38;5;28;01mdef\u001b[39;00m \u001b[38;5;21msend_state\u001b[39m(\u001b[38;5;28mself\u001b[39m, key\u001b[38;5;241m=\u001b[39m\u001b[38;5;28;01mNone\u001b[39;00m):\n\u001b[1;32m    571\u001b[0m \u001b[38;5;250m    \u001b[39m\u001b[38;5;124;03m\"\"\"Sends the widget state, or a piece of it, to the front-end, if it exists.\u001b[39;00m\n\u001b[1;32m    572\u001b[0m \n\u001b[1;32m    573\u001b[0m \u001b[38;5;124;03m    Parameters\u001b[39;00m\n\u001b[0;32m   (...)\u001b[0m\n\u001b[1;32m    576\u001b[0m \u001b[38;5;124;03m        A single property's name or iterable of property names to sync with the front-end.\u001b[39;00m\n\u001b[1;32m    577\u001b[0m \u001b[38;5;124;03m    \"\"\"\u001b[39;00m\n\u001b[0;32m--> 578\u001b[0m     state \u001b[38;5;241m=\u001b[39m \u001b[38;5;28;43mself\u001b[39;49m\u001b[38;5;241;43m.\u001b[39;49m\u001b[43mget_state\u001b[49m\u001b[43m(\u001b[49m\u001b[43mkey\u001b[49m\u001b[38;5;241;43m=\u001b[39;49m\u001b[43mkey\u001b[49m\u001b[43m)\u001b[49m\n\u001b[1;32m    579\u001b[0m     \u001b[38;5;28;01mif\u001b[39;00m \u001b[38;5;28mlen\u001b[39m(state) \u001b[38;5;241m>\u001b[39m \u001b[38;5;241m0\u001b[39m:\n\u001b[1;32m    580\u001b[0m         \u001b[38;5;28;01mif\u001b[39;00m \u001b[38;5;28mself\u001b[39m\u001b[38;5;241m.\u001b[39m_property_lock:  \u001b[38;5;66;03m# we need to keep this dict up to date with the front-end values\u001b[39;00m\n",
      "File \u001b[0;32m/usr/local/lib/python3.12/site-packages/ipywidgets/widgets/widget.py:614\u001b[0m, in \u001b[0;36mWidget.get_state\u001b[0;34m(self, key, drop_defaults)\u001b[0m\n\u001b[1;32m    612\u001b[0m traits \u001b[38;5;241m=\u001b[39m \u001b[38;5;28mself\u001b[39m\u001b[38;5;241m.\u001b[39mtraits()\n\u001b[1;32m    613\u001b[0m \u001b[38;5;28;01mfor\u001b[39;00m k \u001b[38;5;129;01min\u001b[39;00m keys:\n\u001b[0;32m--> 614\u001b[0m     to_json \u001b[38;5;241m=\u001b[39m \u001b[38;5;28;43mself\u001b[39;49m\u001b[38;5;241;43m.\u001b[39;49m\u001b[43mtrait_metadata\u001b[49m\u001b[43m(\u001b[49m\u001b[43mk\u001b[49m\u001b[43m,\u001b[49m\u001b[43m \u001b[49m\u001b[38;5;124;43m'\u001b[39;49m\u001b[38;5;124;43mto_json\u001b[39;49m\u001b[38;5;124;43m'\u001b[39;49m\u001b[43m,\u001b[49m\u001b[43m \u001b[49m\u001b[38;5;28;43mself\u001b[39;49m\u001b[38;5;241;43m.\u001b[39;49m\u001b[43m_trait_to_json\u001b[49m\u001b[43m)\u001b[49m\n\u001b[1;32m    615\u001b[0m     value \u001b[38;5;241m=\u001b[39m to_json(\u001b[38;5;28mgetattr\u001b[39m(\u001b[38;5;28mself\u001b[39m, k), \u001b[38;5;28mself\u001b[39m)\n\u001b[1;32m    616\u001b[0m     \u001b[38;5;28;01mif\u001b[39;00m \u001b[38;5;129;01mnot\u001b[39;00m drop_defaults \u001b[38;5;129;01mor\u001b[39;00m \u001b[38;5;129;01mnot\u001b[39;00m \u001b[38;5;28mself\u001b[39m\u001b[38;5;241m.\u001b[39m_compare(value, traits[k]\u001b[38;5;241m.\u001b[39mdefault_value):\n",
      "File \u001b[0;32m/usr/local/lib/python3.12/site-packages/traitlets/traitlets.py:1942\u001b[0m, in \u001b[0;36mHasTraits.trait_metadata\u001b[0;34m(self, traitname, key, default)\u001b[0m\n\u001b[1;32m   1938\u001b[0m             result[name] \u001b[38;5;241m=\u001b[39m trait\n\u001b[1;32m   1940\u001b[0m     \u001b[38;5;28;01mreturn\u001b[39;00m result\n\u001b[0;32m-> 1942\u001b[0m \u001b[38;5;28;01mdef\u001b[39;00m \u001b[38;5;21mtrait_metadata\u001b[39m(\u001b[38;5;28mself\u001b[39m, traitname: \u001b[38;5;28mstr\u001b[39m, key: \u001b[38;5;28mstr\u001b[39m, default: t\u001b[38;5;241m.\u001b[39mAny \u001b[38;5;241m=\u001b[39m \u001b[38;5;28;01mNone\u001b[39;00m) \u001b[38;5;241m-\u001b[39m\u001b[38;5;241m>\u001b[39m t\u001b[38;5;241m.\u001b[39mAny:\n\u001b[1;32m   1943\u001b[0m \u001b[38;5;250m    \u001b[39m\u001b[38;5;124;03m\"\"\"Get metadata values for trait by key.\"\"\"\u001b[39;00m\n\u001b[1;32m   1944\u001b[0m     \u001b[38;5;28;01mtry\u001b[39;00m:\n",
      "\u001b[0;31mKeyboardInterrupt\u001b[0m: "
     ]
    }
   ],
   "source": [
    "from models.base import SessionLocal\n",
    "from models.bitcoin_data import Address, Output, Tx\n",
    "from graph_analyze import GraphAnalyzer\n",
    "\n",
    "tx_id = 951352\n",
    "\n",
    "with SessionLocal() as session:\n",
    "    output = session.query(Output).filter_by(tx_id=tx_id).first()\n",
    "    prev_output = session.query(Output)\\\n",
    "                         .join(Output.transaction)\\\n",
    "                         .filter(\n",
    "                             Tx.block_height==131999,\n",
    "                             Tx.index_in_block==0,\n",
    "                             Output.index_in_tx==0).first()\n",
    "\n",
    "print(output)\n",
    "\n",
    "analyzer = GraphAnalyzer(g, SessionLocal)\n",
    "# my_hist = analyzer.get_vertex_history(output.id, 'output', depth=6)\n",
    "# depth of 2 is too high!\n",
    "my_hist = analyzer.get_vertex_path(prev_output.id, 'output', depth=0)\n",
    "graph = analyzer.traversal_to_networkx(my_hist, include_data=True)\n",
    "\n",
    "print(graph)\n",
    "display(visualize_graph(graph, layout='dagre'))"
   ]
  },
  {
   "cell_type": "markdown",
   "metadata": {},
   "source": [
    "### Analyzing an Output"
   ]
  },
  {
   "cell_type": "code",
   "execution_count": null,
   "metadata": {},
   "outputs": [],
   "source": [
    "import networkx as nx\n",
    "\n",
    "from models.base import SessionLocal\n",
    "from models.bitcoin_data import Block, Tx, Address, Input, Output\n",
    "from graph.base import g\n",
    "from graph_analyze import GraphAnalyzer\n",
    "\n",
    "\n",
    "analyzer = GraphAnalyzer(g, SessionLocal)\n",
    "\n",
    "interesting_output = 561\n",
    "\n",
    "my_hist = analyzer.get_output_history(interesting_output)\n",
    "graph = analyzer.traversal_to_networkx(my_hist, include_data=True)\n",
    "\n",
    "print(graph)\n",
    "\n",
    "coin_sources = analyzer.get_coin_traces(interesting_output, 'output', graph, pretty_labels=True)\n",
    "\n",
    "for source in coin_sources.values():\n",
    "    print(f\"amount from {source['label']} is {source['amount']}\")\n",
    "\n",
    "from ipycytoscape_graph_visualization import visualize_graph\n",
    "\n",
    "display(visualize_graph(graph, layout='dagre'))"
   ]
  },
  {
   "cell_type": "markdown",
   "metadata": {},
   "source": [
    "### Traverse Forward"
   ]
  },
  {
   "cell_type": "code",
   "execution_count": null,
   "metadata": {},
   "outputs": [],
   "source": [
    "import networkx as nx\n",
    "\n",
    "from models.base import SessionLocal\n",
    "from models.bitcoin_data import Block, Tx, Address, Input, Output\n",
    "from graph.base import g\n",
    "from graph_analyze import GraphAnalyzer\n",
    "\n",
    "\n",
    "analyzer = GraphAnalyzer(g, SessionLocal)\n",
    "\n",
    "# interesting_addr = '12higDjoCCNXSA95xZMWUdPvXNmkAduhWv'\n",
    "# interesting_addr = '12cbQLTFMXRnSzktFkuoG3eHoMeFtpTu3S'\n",
    "# interesting_addr = '1BBz9Z15YpELQ4QP5sEKb1SwxkcmPb5TMs'\n",
    "# interesting_addr = '1KAD5EnzzLtrSo2Da2G4zzD7uZrjk8zRAv'\n",
    "# interesting_addr = '1DUDsfc23Dv9sPMEk5RsrtfzCw5ofi5sVW'\n",
    "# interesting_addr = '1DCbY2GYVaAMCBpuBNN5GVg3a47pNK1wdi'\n",
    "interesting_addr = '13HtsYzne8xVPdGDnmJX8gHgBZerAfJGEf'\n",
    "\n",
    "with SessionLocal() as session:\n",
    "    address = session.query(Address).filter_by(addr=interesting_addr).first()\n",
    "    \n",
    "if not address:\n",
    "    print(f\"address {interesting_addr} not found\")\n",
    "    sys.exit(1)\n",
    "\n",
    "print(f\"id of address {address.addr:4}: {address.id}\")\n",
    "\n",
    "my_path = analyzer.get_vertex_path(address.id, 'address')\n",
    "graph = analyzer.traversal_to_networkx(my_path, include_data=True)\n",
    "\n",
    "print(graph)\n",
    "\n",
    "coin_traces = analyzer.get_coin_traces(address.id, 'address', 'outgoing', graph, pretty_labels=True)\n",
    "\n",
    "for source in coin_traces.values():\n",
    "    print(f\"amount from {source['label']} is {source['amount']}\")\n",
    "\n",
    "from ipycytoscape_graph_visualization import visualize_graph\n",
    "\n",
    "display(visualize_graph(graph, layout='dagre'))"
   ]
  },
  {
   "cell_type": "markdown",
   "metadata": {},
   "source": [
    "### Analyze Vertex Centrality"
   ]
  },
  {
   "cell_type": "code",
   "execution_count": null,
   "metadata": {},
   "outputs": [],
   "source": [
    "from models.base import SessionLocal\n",
    "from models.bitcoin_data import Block, Tx, Address, Input, Output\n",
    "from graph.base import g\n",
    "from graph_analyze import GraphAnalyzer\n",
    "\n",
    "analyzer = GraphAnalyzer(g, SessionLocal)\n",
    "\n",
    "degree_centralities = analyzer.highest_degree_centralities('both', 10)\n",
    "\n",
    "for item in degree_centralities:\n",
    "    print(f\"{item['v']}: {item['degree']}\")"
   ]
  },
  {
   "cell_type": "markdown",
   "metadata": {},
   "source": [
    "#### Visualize a Highly Connected Vertex"
   ]
  },
  {
   "cell_type": "code",
   "execution_count": null,
   "metadata": {},
   "outputs": [],
   "source": [
    "\n",
    "\n",
    "import networkx as nx\n",
    "\n",
    "from models.base import SessionLocal\n",
    "from models.bitcoin_data import Block, Tx, Address, Input, Output\n",
    "from graph.base import g\n",
    "from graph_analyze import GraphAnalyzer\n",
    "\n",
    "\n",
    "analyzer = GraphAnalyzer(g, SessionLocal)\n",
    "\n",
    "output_id = 7784\n",
    "\n",
    "with SessionLocal() as session:\n",
    "    output = session.query(Output).filter_by(id=output_id).first()\n",
    "    \n",
    "if not output:\n",
    "    print(f\"output with ID {output_id} not found\")\n",
    "    sys.exit(1)\n",
    "    \n",
    "my_path = analyzer.get_vertex_subgraph(output.id, 'output', depth=4)\n",
    "graph = analyzer.traversal_to_networkx(my_path, include_data=True)\n",
    "\n",
    "print(graph)\n",
    "\n",
    "# coin_traces = analyzer.get_coin_traces(output.id, 'output', 'outgoing', graph, pretty_labels=True)\n",
    "\n",
    "# for source in coin_traces.values():\n",
    "#     print(f\"amount from {source['label']} is {source['amount']}\")\n",
    "\n",
    "from ipycytoscape_graph_visualization import visualize_graph\n",
    "\n",
    "display(visualize_graph(graph, layout='dagre'))"
   ]
  }
 ],
 "metadata": {
  "kernelspec": {
   "display_name": "py9",
   "language": "python",
   "name": "python3"
  },
  "language_info": {
   "codemirror_mode": {
    "name": "ipython",
    "version": 3
   },
   "file_extension": ".py",
   "mimetype": "text/x-python",
   "name": "python",
   "nbconvert_exporter": "python",
   "pygments_lexer": "ipython3",
   "version": "3.12.1"
  }
 },
 "nbformat": 4,
 "nbformat_minor": 2
}
