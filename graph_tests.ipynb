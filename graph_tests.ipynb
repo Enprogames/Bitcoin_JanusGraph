{
 "cells": [
  {
   "cell_type": "markdown",
   "metadata": {},
   "source": [
    "### Connect to Gremlin Server"
   ]
  },
  {
   "cell_type": "code",
   "execution_count": 1,
   "metadata": {},
   "outputs": [
    {
     "data": {
      "text/plain": [
       "[v[4112]]"
      ]
     },
     "execution_count": 1,
     "metadata": {},
     "output_type": "execute_result"
    }
   ],
   "source": [
    "import sys\n",
    "from pathlib import Path\n",
    "\n",
    "import nest_asyncio\n",
    "nest_asyncio.apply()\n",
    "\n",
    "container_src_path = Path('/app/src/')\n",
    "local_src_path = Path(Path.cwd(), 'src/')\n",
    "\n",
    "# see if this src path exists.\n",
    "# if it does, we are in a container.\n",
    "# if not, we are in local.\n",
    "if not container_src_path.exists():\n",
    "    src_path = local_src_path\n",
    "else:\n",
    "    src_path = container_src_path\n",
    "\n",
    "src_path_str = str(src_path)\n",
    "if src_path_str not in sys.path:\n",
    "    sys.path.insert(0, src_path_str)\n",
    "\n",
    "\n",
    "from gremlin_python import statics\n",
    "from gremlin_python.process.traversal import T, Direction\n",
    "from gremlin_python.process.anonymous_traversal import traversal\n",
    "from gremlin_python.process.graph_traversal import GraphTraversalSource\n",
    "from gremlin_python.process.graph_traversal import __\n",
    "\n",
    "from graph.base import g\n",
    "from ipycytoscape_graph_visualization import visualize_graph\n",
    "\n",
    "from dotenv import load_dotenv\n",
    "\n",
    "load_dotenv()\n",
    "\n",
    "# test connection to gremlin server\n",
    "g.V().limit(1).toList()"
   ]
  },
  {
   "cell_type": "markdown",
   "metadata": {},
   "source": [
    "### Analyze Address `1BBZ`"
   ]
  },
  {
   "cell_type": "code",
   "execution_count": 2,
   "metadata": {},
   "outputs": [
    {
     "name": "stdout",
     "output_type": "stream",
     "text": [
      "id of address 1BBz9Z15YpELQ4QP5sEKb1SwxkcmPb5TMs: 504\n",
      "[['withStrategies', OptionsStrategy], ['withStrategies', OptionsStrategy]][['V'], ['has', 'address_id', 504], ['repeat', [['inE', 'sent'], ['otherV']]], ['emit'], ['path'], ['by', [['elementMap']]], ['by', [['elementMap']]], ['unfold']]\n",
      "DiGraph with 10 nodes and 10 edges\n",
      "amount from 187:1:0 15NU (1.0) is 1.0\n",
      "amount from 183:1:0 13Ht (1.0) is 1.0\n",
      "amount from 182:1:1 12cb (29.0) is 11.0\n",
      "amount from 181:1:1 12cb (30.0) is 11.0\n",
      "amount from 170:1:1 12cb (40.0) is 11.0\n",
      "amount from 9:0:0 12cb (50.0) is 11.0\n",
      "amount from 248:1:0 1ByL (10.0) is 10.0\n",
      "amount from 183:1:1 12cb (28.0) is 10.0\n",
      "amount from 360:0:0 18SH (50.0) is 50.0\n"
     ]
    },
    {
     "data": {
      "application/vnd.jupyter.widget-view+json": {
       "model_id": "b1ef9f0dd96a4cb28f04f77a06f5c998",
       "version_major": 2,
       "version_minor": 0
      },
      "text/plain": [
       "CytoscapeWidget(cytoscape_layout={'name': 'dagre', 'nodeDimensionsIncludeLabels': True, 'rankDir': 'LR'}, cyto…"
      ]
     },
     "metadata": {},
     "output_type": "display_data"
    }
   ],
   "source": [
    "import networkx as nx\n",
    "\n",
    "from models.base import SessionLocal\n",
    "from models.bitcoin_data import Block, Tx, Address, Input, Output\n",
    "from graph.base import g\n",
    "from graph_analyze import GraphAnalyzer\n",
    "\n",
    "\n",
    "analyzer = GraphAnalyzer(g, SessionLocal)\n",
    "\n",
    "# interesting_addr = '12higDjoCCNXSA95xZMWUdPvXNmkAduhWv'\n",
    "# interesting_addr = '12cbQLTFMXRnSzktFkuoG3eHoMeFtpTu3S'\n",
    "interesting_addr = '1BBz9Z15YpELQ4QP5sEKb1SwxkcmPb5TMs'\n",
    "# interesting_addr = '1KAD5EnzzLtrSo2Da2G4zzD7uZrjk8zRAv'\n",
    "# interesting_addr = '1DCbY2GYVaAMCBpuBNN5GVg3a47pNK1wdi'\n",
    "\n",
    "with SessionLocal() as session:\n",
    "    address = session.query(Address).filter_by(addr=interesting_addr).first()\n",
    "    \n",
    "if not address:\n",
    "    print(f\"address {interesting_addr} not found\")\n",
    "    sys.exit(1)\n",
    "\n",
    "print(f\"id of address {address.addr:4}: {address.id}\")\n",
    "\n",
    "my_hist = analyzer.get_address_history(interesting_addr)\n",
    "graph = analyzer.traversal_to_networkx(my_hist, include_data=True)\n",
    "# graph = analyzer.traversal_to_networkx(my_hist)\n",
    "\n",
    "print(my_hist)\n",
    "print(graph)\n",
    "\n",
    "# dump graph to gexf file\n",
    "# addr_hist_graph_path = Path('/', 'app', 'addr_hist_graph.gexf')\n",
    "# nx.write_gexf(graph, addr_hist_graph_path)\n",
    "\n",
    "coin_sources = analyzer.get_coin_traces(address.id, 'address', direction='incoming', graph=graph, pretty_labels=True)\n",
    "\n",
    "for source in coin_sources.values():\n",
    "    print(f\"amount from {source['label']} is {round(source['amount'], 10)}\")\n",
    "\n",
    "from ipycytoscape_graph_visualization import visualize_graph\n",
    "\n",
    "display(visualize_graph(graph, layout='dagre'))"
   ]
  },
  {
   "cell_type": "markdown",
   "metadata": {},
   "source": [
    "### Analyze Address `1KAD`"
   ]
  },
  {
   "cell_type": "markdown",
   "metadata": {},
   "source": [
    "### Apply Manual Proportions and Visualize the Transaction History, then Reset the Proportions"
   ]
  },
  {
   "cell_type": "code",
   "execution_count": 22,
   "metadata": {},
   "outputs": [
    {
     "name": "stderr",
     "output_type": "stream",
     "text": [
      "Applying manual edge proportions:  50%|█████     | 3/6 [00:03<00:03,  1.09s/edge]"
     ]
    },
    {
     "name": "stdout",
     "output_type": "stream",
     "text": [
      "id of address 1KAD5EnzzLtrSo2Da2G4zzD7uZrjk8zRAv: 557\n",
      "DiGraph with 9 nodes and 8 edges\n",
      "amount from 546:1:0 1KAD (1.0) is 0.04\n",
      "amount from 545:1:0 1DZT (1.0) is 0.04\n",
      "amount from 524:1:0 1DCb (25.0) is 23.08\n",
      "amount from 286:0:0 1Jhk (50.0) is 23.08\n",
      "amount from 546:2:1 1KAD (24.0) is 23.04\n",
      "amount from 546:1:1 1DZT (24.0) is 23.04\n",
      "amount from 545:1:1 1DCb (24.0) is 23.04\n"
     ]
    },
    {
     "name": "stderr",
     "output_type": "stream",
     "text": [
      "\n"
     ]
    },
    {
     "data": {
      "application/vnd.jupyter.widget-view+json": {
       "model_id": "c502ed6cd24c4337881176ced65354f7",
       "version_major": 2,
       "version_minor": 0
      },
      "text/plain": [
       "CytoscapeWidget(cytoscape_layout={'name': 'dagre', 'nodeDimensionsIncludeLabels': True, 'rankDir': 'LR'}, cyto…"
      ]
     },
     "metadata": {},
     "output_type": "display_data"
    },
    {
     "name": "stderr",
     "output_type": "stream",
     "text": [
      "Resetting edge proportions: 100%|██████████| 3/3 [00:00<00:00, 24.60edge/s]"
     ]
    },
    {
     "name": "stdout",
     "output_type": "stream",
     "text": [
      "deleted 6 items\n",
      "DiGraph with 9 nodes and 13 edges\n"
     ]
    },
    {
     "name": "stderr",
     "output_type": "stream",
     "text": [
      "\n"
     ]
    },
    {
     "data": {
      "application/vnd.jupyter.widget-view+json": {
       "model_id": "d3744e081caa4de6b059095e6adca09c",
       "version_major": 2,
       "version_minor": 0
      },
      "text/plain": [
       "CytoscapeWidget(cytoscape_layout={'name': 'dagre', 'nodeDimensionsIncludeLabels': True, 'rankDir': 'LR'}, cyto…"
      ]
     },
     "metadata": {},
     "output_type": "display_data"
    }
   ],
   "source": [
    "import networkx as nx\n",
    "from sqlalchemy.orm import joinedload\n",
    "\n",
    "from models.base import SessionLocal\n",
    "from models.bitcoin_data import Block, Tx, Address, Input, Output, ManualProportion\n",
    "from graph.base import g\n",
    "from graph_populate import PopulateOutputProportionGraph\n",
    "from graph_analyze import GraphAnalyzer\n",
    "\n",
    "graph_populator = PopulateOutputProportionGraph(SessionLocal)\n",
    "analyzer = GraphAnalyzer(g, SessionLocal)\n",
    "\n",
    "# interesting_addr = '12higDjoCCNXSA95xZMWUdPvXNmkAduhWv'\n",
    "# interesting_addr = '12cbQLTFMXRnSzktFkuoG3eHoMeFtpTu3S'\n",
    "# interesting_addr = '1BBz9Z15YpELQ4QP5sEKb1SwxkcmPb5TMs'\n",
    "interesting_addr = '1KAD5EnzzLtrSo2Da2G4zzD7uZrjk8zRAv'\n",
    "# interesting_addr = '1DCbY2GYVaAMCBpuBNN5GVg3a47pNK1wdi'\n",
    "\n",
    "\n",
    "with SessionLocal() as session:\n",
    "    # apply manual proportion to first input/output pair in >= second tx of block 546\n",
    "    tx_list = session.query(Tx)\\\n",
    "                     .options(\n",
    "                         joinedload(Tx.inputs).joinedload(Input.prev_out),\n",
    "                         joinedload(Tx.outputs)\n",
    "                     )\\\n",
    "                     .filter(Tx.index_in_block >= 1, Tx.block_height == 546)\\\n",
    "                     .order_by(Tx.index_in_block)\\\n",
    "                     .all()\n",
    "    tx_input_ids = [input.id for tx in tx_list for input in tx.inputs]\n",
    "    # create the manual proportion object\n",
    "    manual_proportions = session.query(ManualProportion)\\\n",
    "                                .filter(ManualProportion.input_id.in_(tx_input_ids))\\\n",
    "                                .all()\n",
    "    if len(manual_proportions) == 0:\n",
    "        session.add_all([\n",
    "            ManualProportion(\n",
    "                input_id=tx_list[0].inputs[0].id,\n",
    "                output_id=tx_list[0].outputs[0].id,\n",
    "                proportion=1.0\n",
    "            ),\n",
    "            ManualProportion(\n",
    "                input_id=tx_list[0].inputs[1].id,\n",
    "                output_id=tx_list[0].outputs[1].id,\n",
    "                proportion=1.0\n",
    "            ),\n",
    "            ManualProportion(\n",
    "                input_id=tx_list[1].inputs[0].id,\n",
    "                output_id=tx_list[1].outputs[0].id,\n",
    "                proportion=1.0\n",
    "            ),\n",
    "            ManualProportion(\n",
    "                input_id=tx_list[1].inputs[1].id,\n",
    "                output_id=tx_list[1].outputs[1].id,\n",
    "                proportion=1.0\n",
    "            ),\n",
    "            ManualProportion(\n",
    "                input_id=tx_list[2].inputs[0].id,\n",
    "                output_id=tx_list[2].outputs[0].id,\n",
    "                proportion=1.0\n",
    "            ),\n",
    "            ManualProportion(\n",
    "                input_id=tx_list[2].inputs[1].id,\n",
    "                output_id=tx_list[2].outputs[1].id,\n",
    "                proportion=1.0\n",
    "            )\n",
    "        ])\n",
    "        session.commit()\n",
    "    graph_populator.apply_manual_edge_proportions(session, show_progressbar=True)\n",
    "    address = session.query(Address).filter_by(addr=interesting_addr).first()\n",
    "\n",
    "if not address:\n",
    "    print(f\"address {interesting_addr} not found\")\n",
    "    sys.exit(1)\n",
    "\n",
    "print(f\"id of address {address.addr:4}: {address.id}\")\n",
    "\n",
    "my_hist = analyzer.get_address_history(interesting_addr)\n",
    "graph = analyzer.traversal_to_networkx(my_hist, include_data=True)\n",
    "print(graph)\n",
    "\n",
    "coin_sources = analyzer.get_coin_traces(address.id, 'address', direction='incoming', graph=graph, pretty_labels=True)\n",
    "\n",
    "for source in coin_sources.values():\n",
    "    print(f\"amount from {source['label']} is {round(source['amount'], 10)}\")\n",
    "\n",
    "from ipycytoscape_graph_visualization import visualize_graph\n",
    "\n",
    "display(visualize_graph(graph, layout='dagre'))\n",
    "\n",
    "with SessionLocal() as session:\n",
    "    graph_populator.reset_manual_edge_proportions(session, show_progressbar=True)\n",
    "    items_deleted = session.query(ManualProportion)\\\n",
    "                                .filter(ManualProportion.input_id.in_(tx_input_ids))\\\n",
    "                                .delete()\n",
    "\n",
    "    print(f\"deleted {items_deleted} items\")\n",
    "    session.commit()\n",
    "\n",
    "my_hist = analyzer.get_address_history(interesting_addr)\n",
    "graph = analyzer.traversal_to_networkx(my_hist, include_data=True)\n",
    "print(graph)\n",
    "display(visualize_graph(graph, layout='dagre'))"
   ]
  },
  {
   "cell_type": "code",
   "execution_count": 21,
   "metadata": {},
   "outputs": [
    {
     "name": "stdout",
     "output_type": "stream",
     "text": [
      "555\n",
      "input 0: 555 (100000000) -> output 0: 557 (100000000)\n",
      "input 1: 533 (2400000000) -> output 1: 555 (2400000000)\n"
     ]
    }
   ],
   "source": [
    "from sqlalchemy import select\n",
    "from sqlalchemy.orm import joinedload, aliased\n",
    "\n",
    "from models.base import SessionLocal\n",
    "from models.bitcoin_data import ManualProportion, Tx, Output, Input\n",
    "\n",
    "options = (\n",
    "            joinedload(Tx.inputs)\n",
    "            .joinedload(Input.prev_out),\n",
    "            joinedload(Tx.outputs)\n",
    "        )\n",
    "\n",
    "with SessionLocal() as session:\n",
    "    affected_tx_ids = session.query(Tx.id)\\\n",
    "                                 .join(Output, Tx.id == Output.tx_id)\\\n",
    "                                 .join(ManualProportion, Output.id == ManualProportion.output_id)\\\n",
    "                                 .distinct().all()\n",
    "                                 \n",
    "    affected_tx_ids = [tx_id for tx_id, in affected_tx_ids]\n",
    "    # affected_txs = session.query(Tx) \\\n",
    "    #                       .options(*options) \\\n",
    "    #                       .filter(Tx.id.in_(affected_tx_ids)) \\\n",
    "    #                       .limit(2).all()\n",
    "    \n",
    "    affected_txs = session.query(Tx) \\\n",
    "                          .options(*options) \\\n",
    "                          .join(Output, Tx.id == Output.tx_id)\\\n",
    "                          .join(ManualProportion, Output.id == ManualProportion.output_id)\\\n",
    "                          .all()\n",
    "\n",
    "    assert len(affected_txs) == 1\n",
    "\n",
    "    print(affected_txs[0].inputs[0].prev_out.address_id)\n",
    "\n",
    "for tx in affected_txs:\n",
    "    for i in range(max(len(tx.inputs), len(tx.outputs))):\n",
    "        if i >= len(tx.inputs):\n",
    "            print(f\"input {i}: None -> output {i}: {tx.outputs[i].address_id} ({tx.outputs[i].value})\")\n",
    "        elif i >= len(tx.outputs):\n",
    "            print(f\"input {i}: {tx.inputs[i].prev_out.address_id} ({tx.inputs[i].prev_out.value}) -> output {i}: None\")\n",
    "        else:\n",
    "            print(f\"input {i}: {tx.inputs[i].prev_out.address_id} ({tx.inputs[i].prev_out.value}) -> output {i}: {tx.outputs[i].address_id} ({tx.outputs[i].value})\")\n"
   ]
  },
  {
   "cell_type": "markdown",
   "metadata": {},
   "source": [
    "### Trace Forwards from `1Jhk` TODO: Limit depth"
   ]
  },
  {
   "cell_type": "code",
   "execution_count": null,
   "metadata": {},
   "outputs": [],
   "source": [
    "import networkx as nx\n",
    "\n",
    "from models.base import SessionLocal\n",
    "from models.bitcoin_data import Block, Tx, Address, Input, Output\n",
    "from graph.base import g\n",
    "from graph_analyze import GraphAnalyzer\n",
    "\n",
    "\n",
    "analyzer = GraphAnalyzer(g, SessionLocal)\n",
    "\n",
    "interesting_addr = '1Jhk2DHosaaZx1E4CbnTGcKM7FC88YHYv9'\n",
    "\n",
    "with SessionLocal() as session:\n",
    "    address = session.query(Address)\\\n",
    "                     .filter_by(addr=interesting_addr).first()\n",
    "    \n",
    "if not address:\n",
    "    print(f\"address {interesting_addr} not found\")\n",
    "    sys.exit(1)\n",
    "\n",
    "print(f\"id of address {address.addr:4}: {address.id}\")\n",
    "\n",
    "# depth of 15 works\n",
    "# depth of 30 is too much\n",
    "# what about 20?\n",
    "my_hist = analyzer.get_vertex_path(address.id, 'address', depth=16)\n",
    "graph = analyzer.traversal_to_networkx(my_hist, include_data=True)\n",
    "\n",
    "print(graph)\n",
    "\n",
    "# save graph to file in docs/graphs folder\n",
    "graph_path = Path('/', 'app', 'graph_file_exports', '1jkh_paths.gexf')\n",
    "nx.write_gexf(graph, graph_path)\n",
    "\n",
    "# coin_sources = analyzer.get_coin_traces(address.id,\n",
    "#                                         'address',\n",
    "#                                         direction='outgoing',\n",
    "#                                         graph=graph,\n",
    "#                                         pretty_labels=True)\n",
    "\n",
    "# for source in list(coin_sources.values())[:5]:\n",
    "#     print(f\"amount from {source['label']} is {round(source['amount'], 10)}\")\n",
    "\n",
    "# from ipycytoscape_graph_visualization import visualize_graph\n",
    "\n",
    "# display(visualize_graph(graph, layout='dagre'))"
   ]
  },
  {
   "cell_type": "markdown",
   "metadata": {},
   "source": [
    "### Get JanusGraph ID of `1Jhk`"
   ]
  },
  {
   "cell_type": "code",
   "execution_count": null,
   "metadata": {},
   "outputs": [],
   "source": [
    "from gremlin_python.process.traversal import P\n",
    "from models.base import SessionLocal\n",
    "from models.bitcoin_data import Address, Output\n",
    "\n",
    "interesting_addr = '1Jhk2DHosaaZx1E4CbnTGcKM7FC88YHYv9'\n",
    "\n",
    "with SessionLocal() as session:\n",
    "    address = session.query(Address)\\\n",
    "                     .filter_by(addr=interesting_addr).first()\n",
    "\n",
    "# get ids of all outputs that belong to the address 1Jhk...\n",
    "with SessionLocal() as session:\n",
    "    outputs = session.query(Output).filter_by(address_id=address.id).all()\n",
    "\n",
    "output_ids = [output.id for output in outputs]\n",
    "print(output_ids)\n",
    "\n",
    "# get janusgraph ids of all vertices that belong to the address 1Jhk...\n",
    "ids = g.V().has('output_id', P.within(output_ids)).id().toList()"
   ]
  },
  {
   "cell_type": "markdown",
   "metadata": {},
   "source": [
    "### Visualize using `igraph`"
   ]
  },
  {
   "cell_type": "code",
   "execution_count": null,
   "metadata": {},
   "outputs": [],
   "source": [
    "from pathlib import Path\n",
    "import networkx as nx\n",
    "import igraph as ig\n",
    "import dagviz\n",
    "\n",
    "graph_path = Path('/', 'app', 'graph_file_exports')\n",
    "graph = nx.read_gexf(graph_path / '1jkh_paths.gexf')\n",
    "\n",
    "\n",
    "display(visualize_graph(graph, layout='dagre'))\n",
    "\n",
    "# save svg to file\n",
    "# dagre = dagviz.render_svg(\n",
    "#     graph\n",
    "# )\n",
    "\n",
    "# with open(graph_path / '1jkh_paths.svg', 'wt') as fs:\n",
    "#     fs.write(dagre)\n",
    "\n",
    "\n",
    "# ig.plot(\n",
    "#     gr,\n",
    "#     layout=gr.layout(\"kk\"),\n",
    "#     vertex_size=5,\n",
    "#     vertex_label_size=5,\n",
    "#     edge_arrow_size=0.5,\n",
    "#     edge_label_size=0.5,\n",
    "#     vertex_label_angle=0.5,\n",
    "#     vertex_label_dist=0.5,\n",
    "#     bbox=(1000, 1000),\n",
    "#     margin=100\n",
    "# )\n",
    "\n",
    "# ig.plot(\n",
    "#     gr,\n",
    "#     layout=gr.layout('sugiyama', hgap=1),\n",
    "#     vertex_size=5,\n",
    "#     vertex_label_size=5,\n",
    "#     edge_arrow_size=0.5,\n",
    "#     edge_label_size=0.5,\n",
    "# )"
   ]
  },
  {
   "cell_type": "markdown",
   "metadata": {},
   "source": [
    "### Traverse from First Output in Transaction ID `951352`"
   ]
  },
  {
   "cell_type": "code",
   "execution_count": 2,
   "metadata": {},
   "outputs": [
    {
     "name": "stdout",
     "output_type": "stream",
     "text": [
      "<Output(id=1909086)>\n",
      "DiGraph with 1000 nodes and 999 edges\n"
     ]
    },
    {
     "ename": "KeyboardInterrupt",
     "evalue": "",
     "output_type": "error",
     "traceback": [
      "\u001b[0;31m---------------------------------------------------------------------------\u001b[0m",
      "\u001b[0;31mKeyboardInterrupt\u001b[0m                         Traceback (most recent call last)",
      "Cell \u001b[0;32mIn[2], line 25\u001b[0m\n\u001b[1;32m     22\u001b[0m graph \u001b[38;5;241m=\u001b[39m analyzer\u001b[38;5;241m.\u001b[39mtraversal_to_networkx(my_hist, include_data\u001b[38;5;241m=\u001b[39m\u001b[38;5;28;01mTrue\u001b[39;00m)\n\u001b[1;32m     24\u001b[0m \u001b[38;5;28mprint\u001b[39m(graph)\n\u001b[0;32m---> 25\u001b[0m display(\u001b[43mvisualize_graph\u001b[49m\u001b[43m(\u001b[49m\u001b[43mgraph\u001b[49m\u001b[43m,\u001b[49m\u001b[43m \u001b[49m\u001b[43mlayout\u001b[49m\u001b[38;5;241;43m=\u001b[39;49m\u001b[38;5;124;43m'\u001b[39;49m\u001b[38;5;124;43mdagre\u001b[39;49m\u001b[38;5;124;43m'\u001b[39;49m\u001b[43m)\u001b[49m)\n",
      "File \u001b[0;32m/app/ipycytoscape_graph_visualization.py:34\u001b[0m, in \u001b[0;36mvisualize_graph\u001b[0;34m(G, layout, edge_style_lambda)\u001b[0m\n\u001b[1;32m     32\u001b[0m     custom_style \u001b[38;5;241m=\u001b[39m edge_style_lambda(edge_tuple) \u001b[38;5;28;01mif\u001b[39;00m edge_style_lambda \u001b[38;5;28;01melse\u001b[39;00m {}\n\u001b[1;32m     33\u001b[0m     \u001b[38;5;28;01mfor\u001b[39;00m key, value \u001b[38;5;129;01min\u001b[39;00m default_edge_style\u001b[38;5;241m.\u001b[39mitems():\n\u001b[0;32m---> 34\u001b[0m         \u001b[43medge\u001b[49m\u001b[38;5;241;43m.\u001b[39;49m\u001b[43mdata\u001b[49m\u001b[43m[\u001b[49m\u001b[43mkey\u001b[49m\u001b[43m]\u001b[49m \u001b[38;5;241m=\u001b[39m custom_style\u001b[38;5;241m.\u001b[39mget(key, value)\n\u001b[1;32m     36\u001b[0m \u001b[38;5;66;03m# Apply styles\u001b[39;00m\n\u001b[1;32m     37\u001b[0m cyto_graph\u001b[38;5;241m.\u001b[39mset_style([\n\u001b[1;32m     38\u001b[0m     {\n\u001b[1;32m     39\u001b[0m         \u001b[38;5;124m'\u001b[39m\u001b[38;5;124mselector\u001b[39m\u001b[38;5;124m'\u001b[39m: \u001b[38;5;124m'\u001b[39m\u001b[38;5;124mnode\u001b[39m\u001b[38;5;124m'\u001b[39m,\n\u001b[0;32m   (...)\u001b[0m\n\u001b[1;32m     61\u001b[0m     }\n\u001b[1;32m     62\u001b[0m ])\n",
      "File \u001b[0;32m/usr/local/lib/python3.12/site-packages/spectate/base.py:281\u001b[0m, in \u001b[0;36mControl._create_controlled_method.<locals>.wrapped_method\u001b[0;34m(obj, *args, **kwargs)\u001b[0m\n\u001b[1;32m    279\u001b[0m after_control \u001b[38;5;241m=\u001b[39m bound_control\u001b[38;5;241m.\u001b[39mafter\n\u001b[1;32m    280\u001b[0m \u001b[38;5;28;01mif\u001b[39;00m after_control \u001b[38;5;129;01mis\u001b[39;00m \u001b[38;5;129;01mnot\u001b[39;00m \u001b[38;5;28;01mNone\u001b[39;00m:\n\u001b[0;32m--> 281\u001b[0m     \u001b[43mafter_control\u001b[49m\u001b[43m(\u001b[49m\n\u001b[1;32m    282\u001b[0m \u001b[43m        \u001b[49m\u001b[43mobj\u001b[49m\u001b[43m,\u001b[49m\u001b[43m \u001b[49m\u001b[43m{\u001b[49m\u001b[38;5;124;43m\"\u001b[39;49m\u001b[38;5;124;43mbefore\u001b[39;49m\u001b[38;5;124;43m\"\u001b[39;49m\u001b[43m:\u001b[49m\u001b[43m \u001b[49m\u001b[43mbefore_value\u001b[49m\u001b[43m,\u001b[49m\u001b[43m \u001b[49m\u001b[38;5;124;43m\"\u001b[39;49m\u001b[38;5;124;43mname\u001b[39;49m\u001b[38;5;124;43m\"\u001b[39;49m\u001b[43m:\u001b[49m\u001b[43m \u001b[49m\u001b[43mname\u001b[49m\u001b[43m,\u001b[49m\u001b[43m \u001b[49m\u001b[38;5;124;43m\"\u001b[39;49m\u001b[38;5;124;43mvalue\u001b[39;49m\u001b[38;5;124;43m\"\u001b[39;49m\u001b[43m:\u001b[49m\u001b[43m \u001b[49m\u001b[43mresult\u001b[49m\u001b[43m}\u001b[49m\n\u001b[1;32m    283\u001b[0m \u001b[43m    \u001b[49m\u001b[43m)\u001b[49m\n\u001b[1;32m    285\u001b[0m \u001b[38;5;28;01mreturn\u001b[39;00m result\n",
      "File \u001b[0;32m/usr/local/lib/python3.12/site-packages/spectate/base.py:341\u001b[0m, in \u001b[0;36mBoundControl.after.<locals>.afterback\u001b[0;34m(value, answer)\u001b[0m\n\u001b[1;32m    339\u001b[0m \u001b[38;5;129m@wraps\u001b[39m(after)\n\u001b[1;32m    340\u001b[0m \u001b[38;5;28;01mdef\u001b[39;00m \u001b[38;5;21mafterback\u001b[39m(value, answer):\n\u001b[0;32m--> 341\u001b[0m \u001b[43m    \u001b[49m\u001b[38;5;28;43;01mwith\u001b[39;49;00m\u001b[43m \u001b[49m\u001b[43mnotifier\u001b[49m\u001b[43m(\u001b[49m\u001b[43mvalue\u001b[49m\u001b[43m)\u001b[49m\u001b[43m \u001b[49m\u001b[38;5;28;43;01mas\u001b[39;49;00m\u001b[43m \u001b[49m\u001b[43mnotify\u001b[49m\u001b[43m:\u001b[49m\n\u001b[1;32m    342\u001b[0m \u001b[43m        \u001b[49m\u001b[38;5;28;43;01mreturn\u001b[39;49;00m\u001b[43m \u001b[49m\u001b[43mafter\u001b[49m\u001b[43m(\u001b[49m\u001b[43manswer\u001b[49m\u001b[43m,\u001b[49m\u001b[43m \u001b[49m\u001b[43mnotify\u001b[49m\u001b[43m)\u001b[49m\n",
      "File \u001b[0;32m/usr/local/lib/python3.12/contextlib.py:144\u001b[0m, in \u001b[0;36m_GeneratorContextManager.__exit__\u001b[0;34m(self, typ, value, traceback)\u001b[0m\n\u001b[1;32m    142\u001b[0m \u001b[38;5;28;01mif\u001b[39;00m typ \u001b[38;5;129;01mis\u001b[39;00m \u001b[38;5;28;01mNone\u001b[39;00m:\n\u001b[1;32m    143\u001b[0m     \u001b[38;5;28;01mtry\u001b[39;00m:\n\u001b[0;32m--> 144\u001b[0m         \u001b[38;5;28;43mnext\u001b[39;49m\u001b[43m(\u001b[49m\u001b[38;5;28;43mself\u001b[39;49m\u001b[38;5;241;43m.\u001b[39;49m\u001b[43mgen\u001b[49m\u001b[43m)\u001b[49m\n\u001b[1;32m    145\u001b[0m     \u001b[38;5;28;01mexcept\u001b[39;00m \u001b[38;5;167;01mStopIteration\u001b[39;00m:\n\u001b[1;32m    146\u001b[0m         \u001b[38;5;28;01mreturn\u001b[39;00m \u001b[38;5;28;01mFalse\u001b[39;00m\n",
      "File \u001b[0;32m/usr/local/lib/python3.12/site-packages/spectate/base.py:153\u001b[0m, in \u001b[0;36mnotifier\u001b[0;34m(model)\u001b[0m\n\u001b[1;32m    150\u001b[0m \u001b[38;5;28;01myield\u001b[39;00m notify\n\u001b[1;32m    152\u001b[0m \u001b[38;5;28;01mif\u001b[39;00m events:\n\u001b[0;32m--> 153\u001b[0m     \u001b[43mmodel\u001b[49m\u001b[38;5;241;43m.\u001b[39;49m\u001b[43m_notify_model_views\u001b[49m\u001b[43m(\u001b[49m\u001b[38;5;28;43mtuple\u001b[39;49m\u001b[43m(\u001b[49m\u001b[43mevents\u001b[49m\u001b[43m)\u001b[49m\u001b[43m)\u001b[49m\n",
      "File \u001b[0;32m/usr/local/lib/python3.12/site-packages/spectate/models.py:27\u001b[0m, in \u001b[0;36mStructure._notify_model_views\u001b[0;34m(self, events)\u001b[0m\n\u001b[1;32m     25\u001b[0m         \u001b[38;5;28;01mif\u001b[39;00m \u001b[38;5;28misinstance\u001b[39m(old, Model):\n\u001b[1;32m     26\u001b[0m             \u001b[38;5;28mself\u001b[39m\u001b[38;5;241m.\u001b[39m_remove_child_model(old)\n\u001b[0;32m---> 27\u001b[0m \u001b[38;5;28;43msuper\u001b[39;49m\u001b[43m(\u001b[49m\u001b[43m)\u001b[49m\u001b[38;5;241;43m.\u001b[39;49m\u001b[43m_notify_model_views\u001b[49m\u001b[43m(\u001b[49m\u001b[43mevents\u001b[49m\u001b[43m)\u001b[49m\n",
      "File \u001b[0;32m/usr/local/lib/python3.12/site-packages/spectate/base.py:429\u001b[0m, in \u001b[0;36mModel._notify_model_views\u001b[0;34m(self, events)\u001b[0m\n\u001b[1;32m    427\u001b[0m \u001b[38;5;28;01mdef\u001b[39;00m \u001b[38;5;21m_notify_model_views\u001b[39m(\u001b[38;5;28mself\u001b[39m, events: TupleOfEvents):\n\u001b[1;32m    428\u001b[0m     \u001b[38;5;28;01mfor\u001b[39;00m view \u001b[38;5;129;01min\u001b[39;00m \u001b[38;5;28mself\u001b[39m\u001b[38;5;241m.\u001b[39m_model_views:\n\u001b[0;32m--> 429\u001b[0m         \u001b[43mview\u001b[49m\u001b[43m(\u001b[49m\u001b[38;5;28;43mself\u001b[39;49m\u001b[43m,\u001b[49m\u001b[43m \u001b[49m\u001b[43mevents\u001b[49m\u001b[43m)\u001b[49m\n",
      "File \u001b[0;32m/usr/local/lib/python3.12/site-packages/ipycytoscape/cytoscape.py:163\u001b[0m, in \u001b[0;36mMutable.instance_init.<locals>.callback\u001b[0;34m(default, events)\u001b[0m\n\u001b[1;32m    156\u001b[0m \u001b[38;5;129m@mvc\u001b[39m\u001b[38;5;241m.\u001b[39mview(default)\n\u001b[1;32m    157\u001b[0m \u001b[38;5;28;01mdef\u001b[39;00m \u001b[38;5;21mcallback\u001b[39m(default, events):\n\u001b[1;32m    158\u001b[0m     change \u001b[38;5;241m=\u001b[39m \u001b[38;5;28mdict\u001b[39m(\n\u001b[1;32m    159\u001b[0m         new\u001b[38;5;241m=\u001b[39m\u001b[38;5;28mgetattr\u001b[39m(obj, \u001b[38;5;28mself\u001b[39m\u001b[38;5;241m.\u001b[39mname),\n\u001b[1;32m    160\u001b[0m         name\u001b[38;5;241m=\u001b[39m\u001b[38;5;28mself\u001b[39m\u001b[38;5;241m.\u001b[39mname,\n\u001b[1;32m    161\u001b[0m         \u001b[38;5;28mtype\u001b[39m\u001b[38;5;241m=\u001b[39m\u001b[38;5;28mself\u001b[39m\u001b[38;5;241m.\u001b[39m_event_type,\n\u001b[1;32m    162\u001b[0m     )\n\u001b[0;32m--> 163\u001b[0m     \u001b[43mobj\u001b[49m\u001b[38;5;241;43m.\u001b[39;49m\u001b[43mnotify_change\u001b[49m\u001b[43m(\u001b[49m\u001b[43mchange\u001b[49m\u001b[43m)\u001b[49m\n",
      "File \u001b[0;32m/usr/local/lib/python3.12/site-packages/ipywidgets/widgets/widget.py:700\u001b[0m, in \u001b[0;36mWidget.notify_change\u001b[0;34m(self, change)\u001b[0m\n\u001b[1;32m    696\u001b[0m \u001b[38;5;28;01mif\u001b[39;00m \u001b[38;5;28mself\u001b[39m\u001b[38;5;241m.\u001b[39mcomm \u001b[38;5;129;01mis\u001b[39;00m \u001b[38;5;129;01mnot\u001b[39;00m \u001b[38;5;28;01mNone\u001b[39;00m \u001b[38;5;129;01mand\u001b[39;00m \u001b[38;5;28mgetattr\u001b[39m(\u001b[38;5;28mself\u001b[39m\u001b[38;5;241m.\u001b[39mcomm, \u001b[38;5;124m'\u001b[39m\u001b[38;5;124mkernel\u001b[39m\u001b[38;5;124m'\u001b[39m, \u001b[38;5;28;01mTrue\u001b[39;00m) \u001b[38;5;129;01mis\u001b[39;00m \u001b[38;5;129;01mnot\u001b[39;00m \u001b[38;5;28;01mNone\u001b[39;00m:\n\u001b[1;32m    697\u001b[0m     \u001b[38;5;66;03m# Make sure this isn't information that the front-end just sent us.\u001b[39;00m\n\u001b[1;32m    698\u001b[0m     \u001b[38;5;28;01mif\u001b[39;00m name \u001b[38;5;129;01min\u001b[39;00m \u001b[38;5;28mself\u001b[39m\u001b[38;5;241m.\u001b[39mkeys \u001b[38;5;129;01mand\u001b[39;00m \u001b[38;5;28mself\u001b[39m\u001b[38;5;241m.\u001b[39m_should_send_property(name, \u001b[38;5;28mgetattr\u001b[39m(\u001b[38;5;28mself\u001b[39m, name)):\n\u001b[1;32m    699\u001b[0m         \u001b[38;5;66;03m# Send new state to front-end\u001b[39;00m\n\u001b[0;32m--> 700\u001b[0m         \u001b[38;5;28;43mself\u001b[39;49m\u001b[38;5;241;43m.\u001b[39;49m\u001b[43msend_state\u001b[49m\u001b[43m(\u001b[49m\u001b[43mkey\u001b[49m\u001b[38;5;241;43m=\u001b[39;49m\u001b[43mname\u001b[49m\u001b[43m)\u001b[49m\n\u001b[1;32m    701\u001b[0m \u001b[38;5;28msuper\u001b[39m()\u001b[38;5;241m.\u001b[39mnotify_change(change)\n",
      "File \u001b[0;32m/usr/local/lib/python3.12/site-packages/ipywidgets/widgets/widget.py:578\u001b[0m, in \u001b[0;36mWidget.send_state\u001b[0;34m(self, key)\u001b[0m\n\u001b[1;32m    570\u001b[0m \u001b[38;5;28;01mdef\u001b[39;00m \u001b[38;5;21msend_state\u001b[39m(\u001b[38;5;28mself\u001b[39m, key\u001b[38;5;241m=\u001b[39m\u001b[38;5;28;01mNone\u001b[39;00m):\n\u001b[1;32m    571\u001b[0m \u001b[38;5;250m    \u001b[39m\u001b[38;5;124;03m\"\"\"Sends the widget state, or a piece of it, to the front-end, if it exists.\u001b[39;00m\n\u001b[1;32m    572\u001b[0m \n\u001b[1;32m    573\u001b[0m \u001b[38;5;124;03m    Parameters\u001b[39;00m\n\u001b[0;32m   (...)\u001b[0m\n\u001b[1;32m    576\u001b[0m \u001b[38;5;124;03m        A single property's name or iterable of property names to sync with the front-end.\u001b[39;00m\n\u001b[1;32m    577\u001b[0m \u001b[38;5;124;03m    \"\"\"\u001b[39;00m\n\u001b[0;32m--> 578\u001b[0m     state \u001b[38;5;241m=\u001b[39m \u001b[38;5;28;43mself\u001b[39;49m\u001b[38;5;241;43m.\u001b[39;49m\u001b[43mget_state\u001b[49m\u001b[43m(\u001b[49m\u001b[43mkey\u001b[49m\u001b[38;5;241;43m=\u001b[39;49m\u001b[43mkey\u001b[49m\u001b[43m)\u001b[49m\n\u001b[1;32m    579\u001b[0m     \u001b[38;5;28;01mif\u001b[39;00m \u001b[38;5;28mlen\u001b[39m(state) \u001b[38;5;241m>\u001b[39m \u001b[38;5;241m0\u001b[39m:\n\u001b[1;32m    580\u001b[0m         \u001b[38;5;28;01mif\u001b[39;00m \u001b[38;5;28mself\u001b[39m\u001b[38;5;241m.\u001b[39m_property_lock:  \u001b[38;5;66;03m# we need to keep this dict up to date with the front-end values\u001b[39;00m\n",
      "File \u001b[0;32m/usr/local/lib/python3.12/site-packages/ipywidgets/widgets/widget.py:614\u001b[0m, in \u001b[0;36mWidget.get_state\u001b[0;34m(self, key, drop_defaults)\u001b[0m\n\u001b[1;32m    612\u001b[0m traits \u001b[38;5;241m=\u001b[39m \u001b[38;5;28mself\u001b[39m\u001b[38;5;241m.\u001b[39mtraits()\n\u001b[1;32m    613\u001b[0m \u001b[38;5;28;01mfor\u001b[39;00m k \u001b[38;5;129;01min\u001b[39;00m keys:\n\u001b[0;32m--> 614\u001b[0m     to_json \u001b[38;5;241m=\u001b[39m \u001b[38;5;28;43mself\u001b[39;49m\u001b[38;5;241;43m.\u001b[39;49m\u001b[43mtrait_metadata\u001b[49m\u001b[43m(\u001b[49m\u001b[43mk\u001b[49m\u001b[43m,\u001b[49m\u001b[43m \u001b[49m\u001b[38;5;124;43m'\u001b[39;49m\u001b[38;5;124;43mto_json\u001b[39;49m\u001b[38;5;124;43m'\u001b[39;49m\u001b[43m,\u001b[49m\u001b[43m \u001b[49m\u001b[38;5;28;43mself\u001b[39;49m\u001b[38;5;241;43m.\u001b[39;49m\u001b[43m_trait_to_json\u001b[49m\u001b[43m)\u001b[49m\n\u001b[1;32m    615\u001b[0m     value \u001b[38;5;241m=\u001b[39m to_json(\u001b[38;5;28mgetattr\u001b[39m(\u001b[38;5;28mself\u001b[39m, k), \u001b[38;5;28mself\u001b[39m)\n\u001b[1;32m    616\u001b[0m     \u001b[38;5;28;01mif\u001b[39;00m \u001b[38;5;129;01mnot\u001b[39;00m drop_defaults \u001b[38;5;129;01mor\u001b[39;00m \u001b[38;5;129;01mnot\u001b[39;00m \u001b[38;5;28mself\u001b[39m\u001b[38;5;241m.\u001b[39m_compare(value, traits[k]\u001b[38;5;241m.\u001b[39mdefault_value):\n",
      "File \u001b[0;32m/usr/local/lib/python3.12/site-packages/traitlets/traitlets.py:1942\u001b[0m, in \u001b[0;36mHasTraits.trait_metadata\u001b[0;34m(self, traitname, key, default)\u001b[0m\n\u001b[1;32m   1938\u001b[0m             result[name] \u001b[38;5;241m=\u001b[39m trait\n\u001b[1;32m   1940\u001b[0m     \u001b[38;5;28;01mreturn\u001b[39;00m result\n\u001b[0;32m-> 1942\u001b[0m \u001b[38;5;28;01mdef\u001b[39;00m \u001b[38;5;21mtrait_metadata\u001b[39m(\u001b[38;5;28mself\u001b[39m, traitname: \u001b[38;5;28mstr\u001b[39m, key: \u001b[38;5;28mstr\u001b[39m, default: t\u001b[38;5;241m.\u001b[39mAny \u001b[38;5;241m=\u001b[39m \u001b[38;5;28;01mNone\u001b[39;00m) \u001b[38;5;241m-\u001b[39m\u001b[38;5;241m>\u001b[39m t\u001b[38;5;241m.\u001b[39mAny:\n\u001b[1;32m   1943\u001b[0m \u001b[38;5;250m    \u001b[39m\u001b[38;5;124;03m\"\"\"Get metadata values for trait by key.\"\"\"\u001b[39;00m\n\u001b[1;32m   1944\u001b[0m     \u001b[38;5;28;01mtry\u001b[39;00m:\n",
      "\u001b[0;31mKeyboardInterrupt\u001b[0m: "
     ]
    }
   ],
   "source": [
    "from models.base import SessionLocal\n",
    "from models.bitcoin_data import Address, Output, Tx\n",
    "from graph_analyze import GraphAnalyzer\n",
    "\n",
    "tx_id = 951352\n",
    "\n",
    "with SessionLocal() as session:\n",
    "    output = session.query(Output).filter_by(tx_id=tx_id).first()\n",
    "    prev_output = session.query(Output)\\\n",
    "                         .join(Output.transaction)\\\n",
    "                         .filter(\n",
    "                             Tx.block_height==131999,\n",
    "                             Tx.index_in_block==0,\n",
    "                             Output.index_in_tx==0).first()\n",
    "\n",
    "print(output)\n",
    "\n",
    "analyzer = GraphAnalyzer(g, SessionLocal)\n",
    "# my_hist = analyzer.get_vertex_history(output.id, 'output', depth=6)\n",
    "# depth of 2 is too high!\n",
    "my_hist = analyzer.get_vertex_path(prev_output.id, 'output', depth=0)\n",
    "graph = analyzer.traversal_to_networkx(my_hist, include_data=True)\n",
    "\n",
    "print(graph)\n",
    "display(visualize_graph(graph, layout='dagre'))"
   ]
  },
  {
   "cell_type": "markdown",
   "metadata": {},
   "source": [
    "### Analyzing an Output"
   ]
  },
  {
   "cell_type": "code",
   "execution_count": null,
   "metadata": {},
   "outputs": [],
   "source": [
    "import networkx as nx\n",
    "\n",
    "from models.base import SessionLocal\n",
    "from models.bitcoin_data import Block, Tx, Address, Input, Output\n",
    "from graph.base import g\n",
    "from graph_analyze import GraphAnalyzer\n",
    "\n",
    "\n",
    "analyzer = GraphAnalyzer(g, SessionLocal)\n",
    "\n",
    "interesting_output = 561\n",
    "\n",
    "my_hist = analyzer.get_output_history(interesting_output)\n",
    "graph = analyzer.traversal_to_networkx(my_hist, include_data=True)\n",
    "\n",
    "print(graph)\n",
    "\n",
    "coin_sources = analyzer.get_coin_traces(interesting_output, 'output', graph, pretty_labels=True)\n",
    "\n",
    "for source in coin_sources.values():\n",
    "    print(f\"amount from {source['label']} is {source['amount']}\")\n",
    "\n",
    "from ipycytoscape_graph_visualization import visualize_graph\n",
    "\n",
    "display(visualize_graph(graph, layout='dagre'))"
   ]
  },
  {
   "cell_type": "markdown",
   "metadata": {},
   "source": [
    "### Traverse Forward"
   ]
  },
  {
   "cell_type": "code",
   "execution_count": null,
   "metadata": {},
   "outputs": [],
   "source": [
    "import networkx as nx\n",
    "\n",
    "from models.base import SessionLocal\n",
    "from models.bitcoin_data import Block, Tx, Address, Input, Output\n",
    "from graph.base import g\n",
    "from graph_analyze import GraphAnalyzer\n",
    "\n",
    "\n",
    "analyzer = GraphAnalyzer(g, SessionLocal)\n",
    "\n",
    "# interesting_addr = '12higDjoCCNXSA95xZMWUdPvXNmkAduhWv'\n",
    "# interesting_addr = '12cbQLTFMXRnSzktFkuoG3eHoMeFtpTu3S'\n",
    "# interesting_addr = '1BBz9Z15YpELQ4QP5sEKb1SwxkcmPb5TMs'\n",
    "# interesting_addr = '1KAD5EnzzLtrSo2Da2G4zzD7uZrjk8zRAv'\n",
    "# interesting_addr = '1DUDsfc23Dv9sPMEk5RsrtfzCw5ofi5sVW'\n",
    "# interesting_addr = '1DCbY2GYVaAMCBpuBNN5GVg3a47pNK1wdi'\n",
    "interesting_addr = '13HtsYzne8xVPdGDnmJX8gHgBZerAfJGEf'\n",
    "\n",
    "with SessionLocal() as session:\n",
    "    address = session.query(Address).filter_by(addr=interesting_addr).first()\n",
    "    \n",
    "if not address:\n",
    "    print(f\"address {interesting_addr} not found\")\n",
    "    sys.exit(1)\n",
    "\n",
    "print(f\"id of address {address.addr:4}: {address.id}\")\n",
    "\n",
    "my_path = analyzer.get_vertex_path(address.id, 'address')\n",
    "graph = analyzer.traversal_to_networkx(my_path, include_data=True)\n",
    "\n",
    "print(graph)\n",
    "\n",
    "coin_traces = analyzer.get_coin_traces(address.id, 'address', 'outgoing', graph, pretty_labels=True)\n",
    "\n",
    "for source in coin_traces.values():\n",
    "    print(f\"amount from {source['label']} is {source['amount']}\")\n",
    "\n",
    "from ipycytoscape_graph_visualization import visualize_graph\n",
    "\n",
    "display(visualize_graph(graph, layout='dagre'))"
   ]
  },
  {
   "cell_type": "markdown",
   "metadata": {},
   "source": [
    "### Analyze Vertex Centrality"
   ]
  },
  {
   "cell_type": "code",
   "execution_count": null,
   "metadata": {},
   "outputs": [],
   "source": [
    "from models.base import SessionLocal\n",
    "from models.bitcoin_data import Block, Tx, Address, Input, Output\n",
    "from graph.base import g\n",
    "from graph_analyze import GraphAnalyzer\n",
    "\n",
    "analyzer = GraphAnalyzer(g, SessionLocal)\n",
    "\n",
    "degree_centralities = analyzer.highest_degree_centralities('both', 10)\n",
    "\n",
    "for item in degree_centralities:\n",
    "    print(f\"{item['v']}: {item['degree']}\")"
   ]
  },
  {
   "cell_type": "markdown",
   "metadata": {},
   "source": [
    "#### Visualize a Highly Connected Vertex"
   ]
  },
  {
   "cell_type": "code",
   "execution_count": null,
   "metadata": {},
   "outputs": [],
   "source": [
    "\n",
    "\n",
    "import networkx as nx\n",
    "\n",
    "from models.base import SessionLocal\n",
    "from models.bitcoin_data import Block, Tx, Address, Input, Output\n",
    "from graph.base import g\n",
    "from graph_analyze import GraphAnalyzer\n",
    "\n",
    "\n",
    "analyzer = GraphAnalyzer(g, SessionLocal)\n",
    "\n",
    "output_id = 7784\n",
    "\n",
    "with SessionLocal() as session:\n",
    "    output = session.query(Output).filter_by(id=output_id).first()\n",
    "    \n",
    "if not output:\n",
    "    print(f\"output with ID {output_id} not found\")\n",
    "    sys.exit(1)\n",
    "    \n",
    "my_path = analyzer.get_vertex_subgraph(output.id, 'output', depth=4)\n",
    "graph = analyzer.traversal_to_networkx(my_path, include_data=True)\n",
    "\n",
    "print(graph)\n",
    "\n",
    "# coin_traces = analyzer.get_coin_traces(output.id, 'output', 'outgoing', graph, pretty_labels=True)\n",
    "\n",
    "# for source in coin_traces.values():\n",
    "#     print(f\"amount from {source['label']} is {source['amount']}\")\n",
    "\n",
    "from ipycytoscape_graph_visualization import visualize_graph\n",
    "\n",
    "display(visualize_graph(graph, layout='dagre'))"
   ]
  }
 ],
 "metadata": {
  "kernelspec": {
   "display_name": "py9",
   "language": "python",
   "name": "python3"
  },
  "language_info": {
   "codemirror_mode": {
    "name": "ipython",
    "version": 3
   },
   "file_extension": ".py",
   "mimetype": "text/x-python",
   "name": "python",
   "nbconvert_exporter": "python",
   "pygments_lexer": "ipython3",
   "version": "3.12.0"
  }
 },
 "nbformat": 4,
 "nbformat_minor": 2
}
