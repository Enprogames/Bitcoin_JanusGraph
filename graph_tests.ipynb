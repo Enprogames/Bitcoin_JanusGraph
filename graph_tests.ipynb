{
 "cells": [
  {
   "cell_type": "markdown",
   "metadata": {},
   "source": [
    "### Connect to Gremlin Server"
   ]
  },
  {
   "cell_type": "code",
   "execution_count": 1,
   "metadata": {},
   "outputs": [],
   "source": [
    "import os\n",
    "import sys\n",
    "from pathlib import Path\n",
    "\n",
    "container_src_path = Path('/app/src/')\n",
    "local_src_path = Path(Path.cwd(), 'src/')\n",
    "\n",
    "# see if this src path exists.\n",
    "# if it does, we are in a container.\n",
    "# if not, we are in local.\n",
    "if not container_src_path.exists():\n",
    "    src_path = local_src_path\n",
    "else:\n",
    "    src_path = container_src_path\n",
    "\n",
    "src_path_str = str(src_path)\n",
    "if src_path_str not in sys.path:\n",
    "    sys.path.insert(0, src_path_str)\n",
    "    \n",
    "from graph.base import g\n",
    "\n",
    "from dotenv import load_dotenv\n",
    "\n",
    "load_dotenv()\n",
    "\n",
    "from concurrent.futures import ThreadPoolExecutor\n",
    "from contextlib import contextmanager\n",
    "from queue import Queue\n",
    "\n",
    "# Queue to hold statements\n",
    "statement_queue = Queue()\n",
    "\n",
    "# Function to add statement to queue\n",
    "def add_to_queue(statement):\n",
    "    statement_queue.put(statement)\n",
    "\n",
    "@contextmanager\n",
    "def execute_gremlin_statements():\n",
    "    try:\n",
    "        yield add_to_queue\n",
    "    finally:\n",
    "        statements = []\n",
    "        while not statement_queue.empty():\n",
    "            statements.append(statement_queue.get())\n",
    "        \n",
    "        with ThreadPoolExecutor() as executor:\n",
    "            futures = [executor.submit(statement) for statement in statements]\n",
    "            results = [future.result() for future in futures]\n",
    "\n",
    "        for result in results:\n",
    "            print(result)\n"
   ]
  },
  {
   "cell_type": "markdown",
   "metadata": {},
   "source": [
    "### Populate Database"
   ]
  },
  {
   "cell_type": "code",
   "execution_count": 2,
   "metadata": {},
   "outputs": [
    {
     "name": "stderr",
     "output_type": "stream",
     "text": [
      "100%|██████████| 1000/1000 [00:32<00:00, 30.83it/s]"
     ]
    },
    {
     "name": "stdout",
     "output_type": "stream",
     "text": [
      "None\n",
      "None\n"
     ]
    },
    {
     "name": "stderr",
     "output_type": "stream",
     "text": [
      "\n"
     ]
    }
   ],
   "source": [
    "from models.base import SessionLocal\n",
    "from blockchain_data_provider import PersistentBlockchainAPIData\n",
    "from graph_populate import PopulateOutputProportionGraph\n",
    "\n",
    "delete_db = True\n",
    "\n",
    "provider = PersistentBlockchainAPIData()\n",
    "populator = PopulateOutputProportionGraph(provider)\n",
    "\n",
    "with execute_gremlin_statements() as add_statement, \\\n",
    "    SessionLocal() as session:\n",
    "    if delete_db:\n",
    "        add_statement(lambda: populator.clear_graph())\n",
    "    add_statement(lambda: populator.populate(session, range(0, 1000),\n",
    "                                             show_progressbar=True))"
   ]
  },
  {
   "cell_type": "markdown",
   "metadata": {},
   "source": [
    "### Get Networkx Graph"
   ]
  },
  {
   "cell_type": "code",
   "execution_count": 6,
   "metadata": {},
   "outputs": [
    {
     "ename": "TypeError",
     "evalue": "to_networkx() missing 1 required positional argument: 'subgraph_traversal'",
     "output_type": "error",
     "traceback": [
      "\u001b[0;31m---------------------------------------------------------------------------\u001b[0m",
      "\u001b[0;31mTypeError\u001b[0m                                 Traceback (most recent call last)",
      "\u001b[1;32m/home/yellow_bright612/Dropbox/VSCodeProjects/Bitcoin/bitcoin_janusgraph/graph_tests.ipynb Cell 6\u001b[0m line \u001b[0;36m6\n\u001b[1;32m      <a href='vscode-notebook-cell:/home/yellow_bright612/Dropbox/VSCodeProjects/Bitcoin/bitcoin_janusgraph/graph_tests.ipynb#W5sZmlsZQ%3D%3D?line=2'>3</a>\u001b[0m analyzer \u001b[39m=\u001b[39m GraphAnalyzer()\n\u001b[1;32m      <a href='vscode-notebook-cell:/home/yellow_bright612/Dropbox/VSCodeProjects/Bitcoin/bitcoin_janusgraph/graph_tests.ipynb#W5sZmlsZQ%3D%3D?line=4'>5</a>\u001b[0m \u001b[39mwith\u001b[39;00m execute_gremlin_statements() \u001b[39mas\u001b[39;00m add_statement:\n\u001b[0;32m----> <a href='vscode-notebook-cell:/home/yellow_bright612/Dropbox/VSCodeProjects/Bitcoin/bitcoin_janusgraph/graph_tests.ipynb#W5sZmlsZQ%3D%3D?line=5'>6</a>\u001b[0m     graph \u001b[39m=\u001b[39m analyzer\u001b[39m.\u001b[39;49mto_networkx()\n",
      "\u001b[0;31mTypeError\u001b[0m: to_networkx() missing 1 required positional argument: 'subgraph_traversal'"
     ]
    }
   ],
   "source": [
    "from graph_analyze import GraphAnalyzer\n",
    "\n",
    "analyzer = GraphAnalyzer()\n",
    "\n",
    "\n",
    "\n",
    "with execute_gremlin_statements() as add_statement:\n",
    "    graph = analyzer.to_networkx()"
   ]
  },
  {
   "cell_type": "markdown",
   "metadata": {},
   "source": [
    "### Find Coin Sources"
   ]
  },
  {
   "cell_type": "code",
   "execution_count": null,
   "metadata": {},
   "outputs": [],
   "source": [
    "def get_sources(g, node_name):\n",
    "    source_record = {}\n",
    "    def traverse_sources(vertex, fraction=1.0):\n",
    "        # Traverse incoming edges\n",
    "        in_edges = g.V(vertex).inE('sent').toList()\n",
    "        for edge in in_edges:\n",
    "            sender = edge.outV().next()\n",
    "            amount_from_sender = edge['value']\n",
    "            if 'marked' in sender.properties:\n",
    "                # Add record if sender is marked\n",
    "                if sender['name'] in source_record:\n",
    "                    source_record[sender['name']] += amount_from_sender * fraction\n",
    "                else:\n",
    "                    source_record[sender['name']] = amount_from_sender * fraction\n",
    "            # Recursive case\n",
    "            if g.V(sender).inE('sent').hasNext():\n",
    "                sender_total_received = sum(e['value'] for e in g.V(sender).inE('sent').toList())\n",
    "                amount_fraction = (amount_from_sender / sender_total_received) * fraction\n",
    "                traverse_sources(sender, amount_fraction)\n",
    "\n",
    "    # Start traversal\n",
    "    traverse_sources(g.V().has('name', node_name).next())\n",
    "    return source_record\n",
    "\n",
    "print(\"Sources for Bob:\")\n",
    "print(get_sources(g, 'Bob'))"
   ]
  },
  {
   "cell_type": "markdown",
   "metadata": {},
   "source": [
    "### Execute Some Queries"
   ]
  },
  {
   "cell_type": "code",
   "execution_count": null,
   "metadata": {},
   "outputs": [
    {
     "name": "stdout",
     "output_type": "stream",
     "text": [
      "v[4288]\n"
     ]
    }
   ],
   "source": [
    "from concurrent.futures import ThreadPoolExecutor\n",
    "\n",
    "# def add_vertex():\n",
    "#     return g.addV('Address').property('addr', 'some_address').next()\n",
    "\n",
    "# with ThreadPoolExecutor() as executor:\n",
    "#     future = executor.submit(add_vertex)\n",
    "#     result = future.result()\n",
    "    # print(result)\n",
    "    \n",
    "with execute_gremlin_statements() as add_statement:\n",
    "    add_statement(lambda: g.addV('Address').property('addr', 'some_address').next())"
   ]
  }
 ],
 "metadata": {
  "kernelspec": {
   "display_name": "py9",
   "language": "python",
   "name": "python3"
  },
  "language_info": {
   "codemirror_mode": {
    "name": "ipython",
    "version": 3
   },
   "file_extension": ".py",
   "mimetype": "text/x-python",
   "name": "python",
   "nbconvert_exporter": "python",
   "pygments_lexer": "ipython3",
   "version": "3.9.18"
  }
 },
 "nbformat": 4,
 "nbformat_minor": 2
}
