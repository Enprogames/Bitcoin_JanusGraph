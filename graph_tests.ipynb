{
 "cells": [
  {
   "cell_type": "markdown",
   "metadata": {},
   "source": [
    "### Connect to Gremlin Server"
   ]
  },
  {
   "cell_type": "code",
   "execution_count": 2,
   "metadata": {},
   "outputs": [
    {
     "name": "stdout",
     "output_type": "stream",
     "text": [
      "[v[4120]]\n"
     ]
    }
   ],
   "source": [
    "import os\n",
    "import sys\n",
    "from pathlib import Path\n",
    "\n",
    "import nest_asyncio\n",
    "nest_asyncio.apply()\n",
    "\n",
    "container_src_path = Path('/app/src/')\n",
    "local_src_path = Path(Path.cwd(), 'src/')\n",
    "\n",
    "# see if this src path exists.\n",
    "# if it does, we are in a container.\n",
    "# if not, we are in local.\n",
    "if not container_src_path.exists():\n",
    "    src_path = local_src_path\n",
    "else:\n",
    "    src_path = container_src_path\n",
    "\n",
    "src_path_str = str(src_path)\n",
    "if src_path_str not in sys.path:\n",
    "    sys.path.insert(0, src_path_str)\n",
    "\n",
    "\n",
    "from gremlin_python import statics\n",
    "from gremlin_python.process.traversal import T, Direction\n",
    "from gremlin_python.process.anonymous_traversal import traversal\n",
    "from gremlin_python.process.graph_traversal import GraphTraversalSource\n",
    "from gremlin_python.process.graph_traversal import __\n",
    "\n",
    "from graph.base import g\n",
    "from ipycytoscape_graph_visualization import visualize_graph\n",
    "\n",
    "from dotenv import load_dotenv\n",
    "\n",
    "load_dotenv()\n",
    "\n",
    "from concurrent.futures import ThreadPoolExecutor\n",
    "from contextlib import contextmanager\n",
    "from queue import Queue\n",
    "\n",
    "# Queue to hold statements\n",
    "statement_queue = Queue()\n",
    "\n",
    "# Function to add statement to queue\n",
    "def add_to_queue(statement):\n",
    "    statement_queue.put(statement)\n",
    "\n",
    "@contextmanager\n",
    "def execute_gremlin_statements():\n",
    "    try:\n",
    "        yield add_to_queue\n",
    "    finally:\n",
    "        statements = []\n",
    "        while not statement_queue.empty():\n",
    "            statements.append(statement_queue.get())\n",
    "        \n",
    "        with ThreadPoolExecutor() as executor:\n",
    "            futures = [executor.submit(statement) for statement in statements]\n",
    "            results = [future.result() for future in futures]\n",
    "\n",
    "        for result in results:\n",
    "            print(result)\n",
    "\n",
    "# test connection to gremlin server\n",
    "with execute_gremlin_statements() as execute:\n",
    "    execute(lambda: g.V().limit(1).toList())"
   ]
  },
  {
   "cell_type": "markdown",
   "metadata": {},
   "source": [
    "### Get Networkx Graph"
   ]
  },
  {
   "cell_type": "code",
   "execution_count": 4,
   "metadata": {},
   "outputs": [
    {
     "name": "stdout",
     "output_type": "stream",
     "text": [
      "id of address 1BBz9Z15YpELQ4QP5sEKb1SwxkcmPb5TMs: 504\n",
      "[['withStrategies', OptionsStrategy], ['withStrategies', OptionsStrategy]][['V'], ['has', 'address', 504], ['repeat', [['in', 'sent']]], ['emit'], ['project', 'vertex', 'edges'], ['by', [['elementMap']]], ['by', [['bothE'], ['elementMap'], ['fold']]]]\n",
      "DiGraph with 14 nodes and 14 edges\n"
     ]
    }
   ],
   "source": [
    "import networkx as nx\n",
    "\n",
    "from models.base import SessionLocal\n",
    "from models.bitcoin_data import Block, Tx, Address, Input, Output\n",
    "from graph.base import g\n",
    "from graph_analyze import GraphAnalyzer\n",
    "\n",
    "\n",
    "analyzer = GraphAnalyzer(g, SessionLocal)\n",
    "\n",
    "# interesting_addr = '12higDjoCCNXSA95xZMWUdPvXNmkAduhWv'\n",
    "# interesting_addr = '12cbQLTFMXRnSzktFkuoG3eHoMeFtpTu3S'\n",
    "interesting_addr = '1BBz9Z15YpELQ4QP5sEKb1SwxkcmPb5TMs'\n",
    "\n",
    "with SessionLocal() as session:\n",
    "    address = session.query(Address).filter_by(addr=interesting_addr).first()\n",
    "    \n",
    "if not address:\n",
    "    print(f\"address {interesting_addr} not found\")\n",
    "    sys.exit(1)\n",
    "\n",
    "print(f\"id of address {address.addr:4}: {address.id}\")\n",
    "\n",
    "\n",
    "my_hist = None\n",
    "graph = None\n",
    "\n",
    "def hist():\n",
    "    global my_hist, graph, analyzer\n",
    "    my_hist = analyzer.get_address_history(interesting_addr)\n",
    "    graph = analyzer.traversal_to_networkx(my_hist, include_data=True)\n",
    "\n",
    "hist()\n",
    "\n",
    "print(my_hist)\n",
    "print(graph)\n",
    "\n",
    "# dump graph to gexf file\n",
    "addr_hist_graph_path = Path('/', 'app', 'addr_hist_graph.gexf')\n",
    "nx.write_gexf(graph, addr_hist_graph_path)"
   ]
  },
  {
   "cell_type": "code",
   "execution_count": 5,
   "metadata": {},
   "outputs": [
    {
     "data": {
      "application/vnd.jupyter.widget-view+json": {
       "model_id": "e3553d635eb643879e341381b49b8530",
       "version_major": 2,
       "version_minor": 0
      },
      "text/plain": [
       "CytoscapeWidget(cytoscape_layout={'name': 'cola', 'nodeDimensionsIncludeLabels': True, 'rankDir': 'LR'}, cytos…"
      ]
     },
     "metadata": {},
     "output_type": "display_data"
    }
   ],
   "source": [
    "from ipycytoscape_graph_visualization import visualize_graph\n",
    "\n",
    "display(visualize_graph(graph))"
   ]
  },
  {
   "cell_type": "markdown",
   "metadata": {},
   "source": [
    "### Find Coin Sources"
   ]
  },
  {
   "cell_type": "code",
   "execution_count": 2,
   "metadata": {},
   "outputs": [
    {
     "name": "stdout",
     "output_type": "stream",
     "text": [
      "Sources for Bob:\n"
     ]
    },
    {
     "ename": "RuntimeError",
     "evalue": "Cannot run the event loop while another loop is running",
     "output_type": "error",
     "traceback": [
      "\u001b[0;31m---------------------------------------------------------------------------\u001b[0m",
      "\u001b[0;31mRuntimeError\u001b[0m                              Traceback (most recent call last)",
      "Cell \u001b[0;32mIn[2], line 26\u001b[0m\n\u001b[1;32m     23\u001b[0m     \u001b[38;5;28;01mreturn\u001b[39;00m source_record\n\u001b[1;32m     25\u001b[0m \u001b[38;5;28mprint\u001b[39m(\u001b[38;5;124m\"\u001b[39m\u001b[38;5;124mSources for Bob:\u001b[39m\u001b[38;5;124m\"\u001b[39m)\n\u001b[0;32m---> 26\u001b[0m \u001b[38;5;28mprint\u001b[39m(\u001b[43mget_sources\u001b[49m\u001b[43m(\u001b[49m\u001b[43mg\u001b[49m\u001b[43m,\u001b[49m\u001b[43m \u001b[49m\u001b[38;5;124;43m'\u001b[39;49m\u001b[38;5;124;43mBob\u001b[39;49m\u001b[38;5;124;43m'\u001b[39;49m\u001b[43m)\u001b[49m)\n",
      "Cell \u001b[0;32mIn[2], line 22\u001b[0m, in \u001b[0;36mget_sources\u001b[0;34m(g, node_name)\u001b[0m\n\u001b[1;32m     19\u001b[0m             traverse_sources(sender, amount_fraction)\n\u001b[1;32m     21\u001b[0m \u001b[38;5;66;03m# Start traversal\u001b[39;00m\n\u001b[0;32m---> 22\u001b[0m traverse_sources(\u001b[43mg\u001b[49m\u001b[38;5;241;43m.\u001b[39;49m\u001b[43mV\u001b[49m\u001b[43m(\u001b[49m\u001b[43m)\u001b[49m\u001b[38;5;241;43m.\u001b[39;49m\u001b[43mhas\u001b[49m\u001b[43m(\u001b[49m\u001b[38;5;124;43m'\u001b[39;49m\u001b[38;5;124;43mname\u001b[39;49m\u001b[38;5;124;43m'\u001b[39;49m\u001b[43m,\u001b[49m\u001b[43m \u001b[49m\u001b[43mnode_name\u001b[49m\u001b[43m)\u001b[49m\u001b[38;5;241;43m.\u001b[39;49m\u001b[43mnext\u001b[49m\u001b[43m(\u001b[49m\u001b[43m)\u001b[49m)\n\u001b[1;32m     23\u001b[0m \u001b[38;5;28;01mreturn\u001b[39;00m source_record\n",
      "File \u001b[0;32m~/.local/lib/python3.11/site-packages/gremlin_python/process/traversal.py:88\u001b[0m, in \u001b[0;36mTraversal.next\u001b[0;34m(self, amount)\u001b[0m\n\u001b[1;32m     86\u001b[0m \u001b[38;5;28;01mdef\u001b[39;00m \u001b[38;5;21mnext\u001b[39m(\u001b[38;5;28mself\u001b[39m, amount\u001b[38;5;241m=\u001b[39m\u001b[38;5;28;01mNone\u001b[39;00m):\n\u001b[1;32m     87\u001b[0m     \u001b[38;5;28;01mif\u001b[39;00m amount \u001b[38;5;129;01mis\u001b[39;00m \u001b[38;5;28;01mNone\u001b[39;00m:\n\u001b[0;32m---> 88\u001b[0m         \u001b[38;5;28;01mreturn\u001b[39;00m \u001b[38;5;28;43mself\u001b[39;49m\u001b[38;5;241;43m.\u001b[39;49m\u001b[38;5;21;43m__next__\u001b[39;49m\u001b[43m(\u001b[49m\u001b[43m)\u001b[49m\n\u001b[1;32m     89\u001b[0m     \u001b[38;5;28;01melse\u001b[39;00m:\n\u001b[1;32m     90\u001b[0m         count \u001b[38;5;241m=\u001b[39m \u001b[38;5;241m0\u001b[39m\n",
      "File \u001b[0;32m~/.local/lib/python3.11/site-packages/gremlin_python/process/traversal.py:47\u001b[0m, in \u001b[0;36mTraversal.__next__\u001b[0;34m(self)\u001b[0m\n\u001b[1;32m     45\u001b[0m \u001b[38;5;28;01mdef\u001b[39;00m \u001b[38;5;21m__next__\u001b[39m(\u001b[38;5;28mself\u001b[39m):\n\u001b[1;32m     46\u001b[0m     \u001b[38;5;28;01mif\u001b[39;00m \u001b[38;5;28mself\u001b[39m\u001b[38;5;241m.\u001b[39mtraversers \u001b[38;5;129;01mis\u001b[39;00m \u001b[38;5;28;01mNone\u001b[39;00m:\n\u001b[0;32m---> 47\u001b[0m         \u001b[38;5;28;43mself\u001b[39;49m\u001b[38;5;241;43m.\u001b[39;49m\u001b[43mtraversal_strategies\u001b[49m\u001b[38;5;241;43m.\u001b[39;49m\u001b[43mapply_strategies\u001b[49m\u001b[43m(\u001b[49m\u001b[38;5;28;43mself\u001b[39;49m\u001b[43m)\u001b[49m\n\u001b[1;32m     48\u001b[0m     \u001b[38;5;28;01mif\u001b[39;00m \u001b[38;5;28mself\u001b[39m\u001b[38;5;241m.\u001b[39mlast_traverser \u001b[38;5;129;01mis\u001b[39;00m \u001b[38;5;28;01mNone\u001b[39;00m:\n\u001b[1;32m     49\u001b[0m         \u001b[38;5;28mself\u001b[39m\u001b[38;5;241m.\u001b[39mlast_traverser \u001b[38;5;241m=\u001b[39m \u001b[38;5;28mnext\u001b[39m(\u001b[38;5;28mself\u001b[39m\u001b[38;5;241m.\u001b[39mtraversers)\n",
      "File \u001b[0;32m~/.local/lib/python3.11/site-packages/gremlin_python/process/traversal.py:548\u001b[0m, in \u001b[0;36mTraversalStrategies.apply_strategies\u001b[0;34m(self, traversal)\u001b[0m\n\u001b[1;32m    546\u001b[0m \u001b[38;5;28;01mdef\u001b[39;00m \u001b[38;5;21mapply_strategies\u001b[39m(\u001b[38;5;28mself\u001b[39m, traversal):\n\u001b[1;32m    547\u001b[0m     \u001b[38;5;28;01mfor\u001b[39;00m traversal_strategy \u001b[38;5;129;01min\u001b[39;00m \u001b[38;5;28mself\u001b[39m\u001b[38;5;241m.\u001b[39mtraversal_strategies:\n\u001b[0;32m--> 548\u001b[0m         \u001b[43mtraversal_strategy\u001b[49m\u001b[38;5;241;43m.\u001b[39;49m\u001b[43mapply\u001b[49m\u001b[43m(\u001b[49m\u001b[43mtraversal\u001b[49m\u001b[43m)\u001b[49m\n",
      "File \u001b[0;32m~/.local/lib/python3.11/site-packages/gremlin_python/driver/remote_connection.py:80\u001b[0m, in \u001b[0;36mRemoteStrategy.apply\u001b[0;34m(self, traversal)\u001b[0m\n\u001b[1;32m     78\u001b[0m \u001b[38;5;28;01mdef\u001b[39;00m \u001b[38;5;21mapply\u001b[39m(\u001b[38;5;28mself\u001b[39m, traversal):\n\u001b[1;32m     79\u001b[0m     \u001b[38;5;28;01mif\u001b[39;00m traversal\u001b[38;5;241m.\u001b[39mtraversers \u001b[38;5;129;01mis\u001b[39;00m \u001b[38;5;28;01mNone\u001b[39;00m:\n\u001b[0;32m---> 80\u001b[0m         remote_traversal \u001b[38;5;241m=\u001b[39m \u001b[38;5;28;43mself\u001b[39;49m\u001b[38;5;241;43m.\u001b[39;49m\u001b[43mremote_connection\u001b[49m\u001b[38;5;241;43m.\u001b[39;49m\u001b[43msubmit\u001b[49m\u001b[43m(\u001b[49m\u001b[43mtraversal\u001b[49m\u001b[38;5;241;43m.\u001b[39;49m\u001b[43mbytecode\u001b[49m\u001b[43m)\u001b[49m\n\u001b[1;32m     81\u001b[0m         traversal\u001b[38;5;241m.\u001b[39mremote_results \u001b[38;5;241m=\u001b[39m remote_traversal\n\u001b[1;32m     82\u001b[0m         traversal\u001b[38;5;241m.\u001b[39mtraversers \u001b[38;5;241m=\u001b[39m remote_traversal\u001b[38;5;241m.\u001b[39mtraversers\n",
      "File \u001b[0;32m~/.local/lib/python3.11/site-packages/gremlin_python/driver/driver_remote_connection.py:102\u001b[0m, in \u001b[0;36mDriverRemoteConnection.submit\u001b[0;34m(self, bytecode)\u001b[0m\n\u001b[1;32m    100\u001b[0m \u001b[38;5;28;01mdef\u001b[39;00m \u001b[38;5;21msubmit\u001b[39m(\u001b[38;5;28mself\u001b[39m, bytecode):\n\u001b[1;32m    101\u001b[0m     logging\u001b[38;5;241m.\u001b[39mdebug(\u001b[38;5;124m\"\u001b[39m\u001b[38;5;124msubmit with bytecode \u001b[39m\u001b[38;5;124m'\u001b[39m\u001b[38;5;132;01m%s\u001b[39;00m\u001b[38;5;124m'\u001b[39m\u001b[38;5;124m\"\u001b[39m, \u001b[38;5;28mstr\u001b[39m(bytecode))\n\u001b[0;32m--> 102\u001b[0m     result_set \u001b[38;5;241m=\u001b[39m \u001b[38;5;28;43mself\u001b[39;49m\u001b[38;5;241;43m.\u001b[39;49m\u001b[43m_client\u001b[49m\u001b[38;5;241;43m.\u001b[39;49m\u001b[43msubmit\u001b[49m\u001b[43m(\u001b[49m\u001b[43mbytecode\u001b[49m\u001b[43m,\u001b[49m\u001b[43m \u001b[49m\u001b[43mrequest_options\u001b[49m\u001b[38;5;241;43m=\u001b[39;49m\u001b[38;5;28;43mself\u001b[39;49m\u001b[38;5;241;43m.\u001b[39;49m\u001b[43m_extract_request_options\u001b[49m\u001b[43m(\u001b[49m\u001b[43mbytecode\u001b[49m\u001b[43m)\u001b[49m\u001b[43m)\u001b[49m\n\u001b[1;32m    103\u001b[0m     results \u001b[38;5;241m=\u001b[39m result_set\u001b[38;5;241m.\u001b[39mall()\u001b[38;5;241m.\u001b[39mresult()\n\u001b[1;32m    104\u001b[0m     \u001b[38;5;28;01mreturn\u001b[39;00m RemoteTraversal(\u001b[38;5;28miter\u001b[39m(results))\n",
      "File \u001b[0;32m~/.local/lib/python3.11/site-packages/gremlin_python/driver/client.py:151\u001b[0m, in \u001b[0;36mClient.submit\u001b[0;34m(self, message, bindings, request_options)\u001b[0m\n\u001b[1;32m    150\u001b[0m \u001b[38;5;28;01mdef\u001b[39;00m \u001b[38;5;21msubmit\u001b[39m(\u001b[38;5;28mself\u001b[39m, message, bindings\u001b[38;5;241m=\u001b[39m\u001b[38;5;28;01mNone\u001b[39;00m, request_options\u001b[38;5;241m=\u001b[39m\u001b[38;5;28;01mNone\u001b[39;00m):\n\u001b[0;32m--> 151\u001b[0m     \u001b[38;5;28;01mreturn\u001b[39;00m \u001b[38;5;28;43mself\u001b[39;49m\u001b[38;5;241;43m.\u001b[39;49m\u001b[43msubmit_async\u001b[49m\u001b[43m(\u001b[49m\u001b[43mmessage\u001b[49m\u001b[43m,\u001b[49m\u001b[43m \u001b[49m\u001b[43mbindings\u001b[49m\u001b[38;5;241;43m=\u001b[39;49m\u001b[43mbindings\u001b[49m\u001b[43m,\u001b[49m\u001b[43m \u001b[49m\u001b[43mrequest_options\u001b[49m\u001b[38;5;241;43m=\u001b[39;49m\u001b[43mrequest_options\u001b[49m\u001b[43m)\u001b[49m\u001b[38;5;241m.\u001b[39mresult()\n",
      "File \u001b[0;32m~/.local/lib/python3.11/site-packages/gremlin_python/driver/client.py:186\u001b[0m, in \u001b[0;36mClient.submit_async\u001b[0;34m(self, message, bindings, request_options)\u001b[0m\n\u001b[1;32m    184\u001b[0m \u001b[38;5;28;01mif\u001b[39;00m request_options:\n\u001b[1;32m    185\u001b[0m     message\u001b[38;5;241m.\u001b[39margs\u001b[38;5;241m.\u001b[39mupdate(request_options)\n\u001b[0;32m--> 186\u001b[0m \u001b[38;5;28;01mreturn\u001b[39;00m \u001b[43mconn\u001b[49m\u001b[38;5;241;43m.\u001b[39;49m\u001b[43mwrite\u001b[49m\u001b[43m(\u001b[49m\u001b[43mmessage\u001b[49m\u001b[43m)\u001b[49m\n",
      "File \u001b[0;32m~/.local/lib/python3.11/site-packages/gremlin_python/driver/connection.py:60\u001b[0m, in \u001b[0;36mConnection.write\u001b[0;34m(self, request_message)\u001b[0m\n\u001b[1;32m     58\u001b[0m \u001b[38;5;28;01mdef\u001b[39;00m \u001b[38;5;21mwrite\u001b[39m(\u001b[38;5;28mself\u001b[39m, request_message):\n\u001b[1;32m     59\u001b[0m     \u001b[38;5;28;01mif\u001b[39;00m \u001b[38;5;129;01mnot\u001b[39;00m \u001b[38;5;28mself\u001b[39m\u001b[38;5;241m.\u001b[39m_inited:\n\u001b[0;32m---> 60\u001b[0m         \u001b[38;5;28;43mself\u001b[39;49m\u001b[38;5;241;43m.\u001b[39;49m\u001b[43mconnect\u001b[49m\u001b[43m(\u001b[49m\u001b[43m)\u001b[49m\n\u001b[1;32m     61\u001b[0m     request_id \u001b[38;5;241m=\u001b[39m \u001b[38;5;28mstr\u001b[39m(uuid\u001b[38;5;241m.\u001b[39muuid4())\n\u001b[1;32m     62\u001b[0m     \u001b[38;5;28;01mif\u001b[39;00m request_message\u001b[38;5;241m.\u001b[39margs\u001b[38;5;241m.\u001b[39mget(\u001b[38;5;124m\"\u001b[39m\u001b[38;5;124mrequestId\u001b[39m\u001b[38;5;124m\"\u001b[39m):\n",
      "File \u001b[0;32m~/.local/lib/python3.11/site-packages/gremlin_python/driver/connection.py:50\u001b[0m, in \u001b[0;36mConnection.connect\u001b[0;34m(self)\u001b[0m\n\u001b[1;32m     48\u001b[0m     \u001b[38;5;28mself\u001b[39m\u001b[38;5;241m.\u001b[39m_transport\u001b[38;5;241m.\u001b[39mclose()\n\u001b[1;32m     49\u001b[0m \u001b[38;5;28mself\u001b[39m\u001b[38;5;241m.\u001b[39m_transport \u001b[38;5;241m=\u001b[39m \u001b[38;5;28mself\u001b[39m\u001b[38;5;241m.\u001b[39m_transport_factory()\n\u001b[0;32m---> 50\u001b[0m \u001b[38;5;28;43mself\u001b[39;49m\u001b[38;5;241;43m.\u001b[39;49m\u001b[43m_transport\u001b[49m\u001b[38;5;241;43m.\u001b[39;49m\u001b[43mconnect\u001b[49m\u001b[43m(\u001b[49m\u001b[38;5;28;43mself\u001b[39;49m\u001b[38;5;241;43m.\u001b[39;49m\u001b[43m_url\u001b[49m\u001b[43m,\u001b[49m\u001b[43m \u001b[49m\u001b[38;5;28;43mself\u001b[39;49m\u001b[38;5;241;43m.\u001b[39;49m\u001b[43m_headers\u001b[49m\u001b[43m)\u001b[49m\n\u001b[1;32m     51\u001b[0m \u001b[38;5;28mself\u001b[39m\u001b[38;5;241m.\u001b[39m_protocol\u001b[38;5;241m.\u001b[39mconnection_made(\u001b[38;5;28mself\u001b[39m\u001b[38;5;241m.\u001b[39m_transport)\n\u001b[1;32m     52\u001b[0m \u001b[38;5;28mself\u001b[39m\u001b[38;5;241m.\u001b[39m_inited \u001b[38;5;241m=\u001b[39m \u001b[38;5;28;01mTrue\u001b[39;00m\n",
      "File \u001b[0;32m~/.local/lib/python3.11/site-packages/gremlin_python/driver/aiohttp/transport.py:80\u001b[0m, in \u001b[0;36mAiohttpTransport.connect\u001b[0;34m(self, url, headers)\u001b[0m\n\u001b[1;32m     77\u001b[0m             \u001b[38;5;28;01mraise\u001b[39;00m\n\u001b[1;32m     79\u001b[0m \u001b[38;5;66;03m# Execute the async connect synchronously.\u001b[39;00m\n\u001b[0;32m---> 80\u001b[0m \u001b[38;5;28;43mself\u001b[39;49m\u001b[38;5;241;43m.\u001b[39;49m\u001b[43m_loop\u001b[49m\u001b[38;5;241;43m.\u001b[39;49m\u001b[43mrun_until_complete\u001b[49m\u001b[43m(\u001b[49m\u001b[43masync_connect\u001b[49m\u001b[43m(\u001b[49m\u001b[43m)\u001b[49m\u001b[43m)\u001b[49m\n",
      "File \u001b[0;32m/usr/local/lib/python3.11/asyncio/base_events.py:629\u001b[0m, in \u001b[0;36mBaseEventLoop.run_until_complete\u001b[0;34m(self, future)\u001b[0m\n\u001b[1;32m    618\u001b[0m \u001b[38;5;250m\u001b[39m\u001b[38;5;124;03m\"\"\"Run until the Future is done.\u001b[39;00m\n\u001b[1;32m    619\u001b[0m \n\u001b[1;32m    620\u001b[0m \u001b[38;5;124;03mIf the argument is a coroutine, it is wrapped in a Task.\u001b[39;00m\n\u001b[0;32m   (...)\u001b[0m\n\u001b[1;32m    626\u001b[0m \u001b[38;5;124;03mReturn the Future's result, or raise its exception.\u001b[39;00m\n\u001b[1;32m    627\u001b[0m \u001b[38;5;124;03m\"\"\"\u001b[39;00m\n\u001b[1;32m    628\u001b[0m \u001b[38;5;28mself\u001b[39m\u001b[38;5;241m.\u001b[39m_check_closed()\n\u001b[0;32m--> 629\u001b[0m \u001b[38;5;28;43mself\u001b[39;49m\u001b[38;5;241;43m.\u001b[39;49m\u001b[43m_check_running\u001b[49m\u001b[43m(\u001b[49m\u001b[43m)\u001b[49m\n\u001b[1;32m    631\u001b[0m new_task \u001b[38;5;241m=\u001b[39m \u001b[38;5;129;01mnot\u001b[39;00m futures\u001b[38;5;241m.\u001b[39misfuture(future)\n\u001b[1;32m    632\u001b[0m future \u001b[38;5;241m=\u001b[39m tasks\u001b[38;5;241m.\u001b[39mensure_future(future, loop\u001b[38;5;241m=\u001b[39m\u001b[38;5;28mself\u001b[39m)\n",
      "File \u001b[0;32m/usr/local/lib/python3.11/asyncio/base_events.py:590\u001b[0m, in \u001b[0;36mBaseEventLoop._check_running\u001b[0;34m(self)\u001b[0m\n\u001b[1;32m    588\u001b[0m     \u001b[38;5;28;01mraise\u001b[39;00m \u001b[38;5;167;01mRuntimeError\u001b[39;00m(\u001b[38;5;124m'\u001b[39m\u001b[38;5;124mThis event loop is already running\u001b[39m\u001b[38;5;124m'\u001b[39m)\n\u001b[1;32m    589\u001b[0m \u001b[38;5;28;01mif\u001b[39;00m events\u001b[38;5;241m.\u001b[39m_get_running_loop() \u001b[38;5;129;01mis\u001b[39;00m \u001b[38;5;129;01mnot\u001b[39;00m \u001b[38;5;28;01mNone\u001b[39;00m:\n\u001b[0;32m--> 590\u001b[0m     \u001b[38;5;28;01mraise\u001b[39;00m \u001b[38;5;167;01mRuntimeError\u001b[39;00m(\n\u001b[1;32m    591\u001b[0m         \u001b[38;5;124m'\u001b[39m\u001b[38;5;124mCannot run the event loop while another loop is running\u001b[39m\u001b[38;5;124m'\u001b[39m)\n",
      "\u001b[0;31mRuntimeError\u001b[0m: Cannot run the event loop while another loop is running"
     ]
    }
   ],
   "source": [
    "def get_sources(g, node_name):\n",
    "    source_record = {}\n",
    "    def traverse_sources(vertex, fraction=1.0):\n",
    "        # Traverse incoming edges\n",
    "        in_edges = g.V(vertex).inE('sent').toList()\n",
    "        for edge in in_edges:\n",
    "            sender = edge.outV().next()\n",
    "            amount_from_sender = edge['value']\n",
    "            if 'marked' in sender.properties:\n",
    "                # Add record if sender is marked\n",
    "                if sender['name'] in source_record:\n",
    "                    source_record[sender['name']] += amount_from_sender * fraction\n",
    "                else:\n",
    "                    source_record[sender['name']] = amount_from_sender * fraction\n",
    "            # Recursive case\n",
    "            if g.V(sender).inE('sent').hasNext():\n",
    "                sender_total_received = sum(e['value'] for e in g.V(sender).inE('sent').toList())\n",
    "                amount_fraction = (amount_from_sender / sender_total_received) * fraction\n",
    "                traverse_sources(sender, amount_fraction)\n",
    "\n",
    "    # Start traversal\n",
    "    traverse_sources(g.V().has('name', node_name).next())\n",
    "    return source_record\n",
    "\n",
    "print(\"Sources for Bob:\")\n",
    "print(get_sources(g, 'Bob'))"
   ]
  },
  {
   "cell_type": "markdown",
   "metadata": {},
   "source": [
    "### Execute Some Queries"
   ]
  },
  {
   "cell_type": "code",
   "execution_count": null,
   "metadata": {},
   "outputs": [
    {
     "name": "stdout",
     "output_type": "stream",
     "text": [
      "v[4288]\n"
     ]
    }
   ],
   "source": [
    "from concurrent.futures import ThreadPoolExecutor\n",
    "\n",
    "# def add_vertex():\n",
    "#     return g.addV('Address').property('addr', 'some_address').next()\n",
    "\n",
    "# with ThreadPoolExecutor() as executor:\n",
    "#     future = executor.submit(add_vertex)\n",
    "#     result = future.result()\n",
    "    # print(result)\n",
    "    \n",
    "with execute_gremlin_statements() as add_statement:\n",
    "    add_statement(lambda: g.addV('Address').property('addr', 'some_address').next())"
   ]
  }
 ],
 "metadata": {
  "kernelspec": {
   "display_name": "py9",
   "language": "python",
   "name": "python3"
  },
  "language_info": {
   "codemirror_mode": {
    "name": "ipython",
    "version": 3
   },
   "file_extension": ".py",
   "mimetype": "text/x-python",
   "name": "python",
   "nbconvert_exporter": "python",
   "pygments_lexer": "ipython3",
   "version": "3.12.1"
  }
 },
 "nbformat": 4,
 "nbformat_minor": 2
}
