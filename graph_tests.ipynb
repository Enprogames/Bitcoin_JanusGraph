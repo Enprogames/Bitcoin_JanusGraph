{
 "cells": [
  {
   "cell_type": "markdown",
   "metadata": {},
   "source": [
    "### Connect to Gremlin Server"
   ]
  },
  {
   "cell_type": "code",
   "execution_count": 5,
   "metadata": {},
   "outputs": [
    {
     "ename": "RuntimeError",
     "evalue": "Cannot run the event loop while another loop is running",
     "output_type": "error",
     "traceback": [
      "\u001b[0;31m---------------------------------------------------------------------------\u001b[0m",
      "\u001b[0;31mRuntimeError\u001b[0m                              Traceback (most recent call last)",
      "\u001b[1;32m/home/yellow_bright612/Dropbox/VSCodeProjects/Bitcoin/bitcoin_janusgraph/graph_tests.ipynb Cell 2\u001b[0m line \u001b[0;36m2\n\u001b[1;32m     <a href='vscode-notebook-cell:/home/yellow_bright612/Dropbox/VSCodeProjects/Bitcoin/bitcoin_janusgraph/graph_tests.ipynb#W1sZmlsZQ%3D%3D?line=16'>17</a>\u001b[0m \u001b[39mif\u001b[39;00m src_path_str \u001b[39mnot\u001b[39;00m \u001b[39min\u001b[39;00m sys\u001b[39m.\u001b[39mpath:\n\u001b[1;32m     <a href='vscode-notebook-cell:/home/yellow_bright612/Dropbox/VSCodeProjects/Bitcoin/bitcoin_janusgraph/graph_tests.ipynb#W1sZmlsZQ%3D%3D?line=17'>18</a>\u001b[0m     sys\u001b[39m.\u001b[39mpath\u001b[39m.\u001b[39minsert(\u001b[39m0\u001b[39m, src_path_str)\n\u001b[0;32m---> <a href='vscode-notebook-cell:/home/yellow_bright612/Dropbox/VSCodeProjects/Bitcoin/bitcoin_janusgraph/graph_tests.ipynb#W1sZmlsZQ%3D%3D?line=19'>20</a>\u001b[0m \u001b[39mfrom\u001b[39;00m \u001b[39mgraph\u001b[39;00m\u001b[39m.\u001b[39;00m\u001b[39mbase\u001b[39;00m \u001b[39mimport\u001b[39;00m g\n\u001b[1;32m     <a href='vscode-notebook-cell:/home/yellow_bright612/Dropbox/VSCodeProjects/Bitcoin/bitcoin_janusgraph/graph_tests.ipynb#W1sZmlsZQ%3D%3D?line=21'>22</a>\u001b[0m \u001b[39mfrom\u001b[39;00m \u001b[39mdotenv\u001b[39;00m \u001b[39mimport\u001b[39;00m load_dotenv\n\u001b[1;32m     <a href='vscode-notebook-cell:/home/yellow_bright612/Dropbox/VSCodeProjects/Bitcoin/bitcoin_janusgraph/graph_tests.ipynb#W1sZmlsZQ%3D%3D?line=23'>24</a>\u001b[0m load_dotenv()\n",
      "File \u001b[0;32m~/Dropbox/VSCodeProjects/Bitcoin/bitcoin_janusgraph/src/graph/base.py:22\u001b[0m\n\u001b[1;32m     18\u001b[0m JANUSGRAPH_URL \u001b[39m=\u001b[39m \u001b[39mf\u001b[39m\u001b[39m\"\u001b[39m\u001b[39mws://\u001b[39m\u001b[39m{\u001b[39;00mJANUSGRAPH_HOST\u001b[39m}\u001b[39;00m\u001b[39m:\u001b[39m\u001b[39m{\u001b[39;00mJANUSGRAPH_PORT\u001b[39m}\u001b[39;00m\u001b[39m/gremlin\u001b[39m\u001b[39m\"\u001b[39m\n\u001b[1;32m     20\u001b[0m graph \u001b[39m=\u001b[39m Graph()\n\u001b[0;32m---> 22\u001b[0m g \u001b[39m=\u001b[39m graph\u001b[39m.\u001b[39mtraversal()\u001b[39m.\u001b[39mwithRemote(DriverRemoteConnection(JANUSGRAPH_URL, \u001b[39m'\u001b[39;49m\u001b[39mg\u001b[39;49m\u001b[39m'\u001b[39;49m))\n",
      "File \u001b[0;32m~/miniconda3/envs/py92/lib/python3.9/site-packages/gremlin_python/driver/driver_remote_connection.py:38\u001b[0m, in \u001b[0;36mDriverRemoteConnection.__init__\u001b[0;34m(self, url, traversal_source, protocol_factory, transport_factory, pool_size, max_workers, username, password, message_serializer, graphson_reader, graphson_writer)\u001b[0m\n\u001b[1;32m     34\u001b[0m \u001b[39mif\u001b[39;00m message_serializer \u001b[39mis\u001b[39;00m \u001b[39mNone\u001b[39;00m:\n\u001b[1;32m     35\u001b[0m     message_serializer \u001b[39m=\u001b[39m serializer\u001b[39m.\u001b[39mGraphSONMessageSerializer(\n\u001b[1;32m     36\u001b[0m         reader\u001b[39m=\u001b[39mgraphson_reader,\n\u001b[1;32m     37\u001b[0m         writer\u001b[39m=\u001b[39mgraphson_writer)\n\u001b[0;32m---> 38\u001b[0m \u001b[39mself\u001b[39m\u001b[39m.\u001b[39m_client \u001b[39m=\u001b[39m client\u001b[39m.\u001b[39;49mClient(url, traversal_source,\n\u001b[1;32m     39\u001b[0m                              protocol_factory\u001b[39m=\u001b[39;49mprotocol_factory,\n\u001b[1;32m     40\u001b[0m                              transport_factory\u001b[39m=\u001b[39;49mtransport_factory,\n\u001b[1;32m     41\u001b[0m                              pool_size\u001b[39m=\u001b[39;49mpool_size,\n\u001b[1;32m     42\u001b[0m                              max_workers\u001b[39m=\u001b[39;49mmax_workers,\n\u001b[1;32m     43\u001b[0m                              message_serializer\u001b[39m=\u001b[39;49mmessage_serializer,\n\u001b[1;32m     44\u001b[0m                              username\u001b[39m=\u001b[39;49musername,\n\u001b[1;32m     45\u001b[0m                              password\u001b[39m=\u001b[39;49mpassword)\n\u001b[1;32m     46\u001b[0m \u001b[39mself\u001b[39m\u001b[39m.\u001b[39m_url \u001b[39m=\u001b[39m \u001b[39mself\u001b[39m\u001b[39m.\u001b[39m_client\u001b[39m.\u001b[39m_url\n\u001b[1;32m     47\u001b[0m \u001b[39mself\u001b[39m\u001b[39m.\u001b[39m_traversal_source \u001b[39m=\u001b[39m \u001b[39mself\u001b[39m\u001b[39m.\u001b[39m_client\u001b[39m.\u001b[39m_traversal_source\n",
      "File \u001b[0;32m~/miniconda3/envs/py92/lib/python3.9/site-packages/gremlin_python/driver/client.py:76\u001b[0m, in \u001b[0;36mClient.__init__\u001b[0;34m(self, url, traversal_source, protocol_factory, transport_factory, pool_size, max_workers, message_serializer, username, password)\u001b[0m\n\u001b[1;32m     74\u001b[0m \u001b[39m# Threadsafe queue\u001b[39;00m\n\u001b[1;32m     75\u001b[0m \u001b[39mself\u001b[39m\u001b[39m.\u001b[39m_pool \u001b[39m=\u001b[39m queue\u001b[39m.\u001b[39mQueue()\n\u001b[0;32m---> 76\u001b[0m \u001b[39mself\u001b[39;49m\u001b[39m.\u001b[39;49m_fill_pool()\n",
      "File \u001b[0;32m~/miniconda3/envs/py92/lib/python3.9/site-packages/gremlin_python/driver/client.py:88\u001b[0m, in \u001b[0;36mClient._fill_pool\u001b[0;34m(self)\u001b[0m\n\u001b[1;32m     86\u001b[0m \u001b[39mdef\u001b[39;00m \u001b[39m_fill_pool\u001b[39m(\u001b[39mself\u001b[39m):\n\u001b[1;32m     87\u001b[0m     \u001b[39mfor\u001b[39;00m i \u001b[39min\u001b[39;00m \u001b[39mrange\u001b[39m(\u001b[39mself\u001b[39m\u001b[39m.\u001b[39m_pool_size):\n\u001b[0;32m---> 88\u001b[0m         conn \u001b[39m=\u001b[39m \u001b[39mself\u001b[39;49m\u001b[39m.\u001b[39;49m_get_connection()\n\u001b[1;32m     89\u001b[0m         \u001b[39mself\u001b[39m\u001b[39m.\u001b[39m_pool\u001b[39m.\u001b[39mput_nowait(conn)\n",
      "File \u001b[0;32m~/miniconda3/envs/py92/lib/python3.9/site-packages/gremlin_python/driver/client.py:99\u001b[0m, in \u001b[0;36mClient._get_connection\u001b[0;34m(self)\u001b[0m\n\u001b[1;32m     97\u001b[0m \u001b[39mdef\u001b[39;00m \u001b[39m_get_connection\u001b[39m(\u001b[39mself\u001b[39m):\n\u001b[1;32m     98\u001b[0m     protocol \u001b[39m=\u001b[39m \u001b[39mself\u001b[39m\u001b[39m.\u001b[39m_protocol_factory()\n\u001b[0;32m---> 99\u001b[0m     \u001b[39mreturn\u001b[39;00m connection\u001b[39m.\u001b[39;49mConnection(\n\u001b[1;32m    100\u001b[0m         \u001b[39mself\u001b[39;49m\u001b[39m.\u001b[39;49m_url, \u001b[39mself\u001b[39;49m\u001b[39m.\u001b[39;49m_traversal_source, protocol,\n\u001b[1;32m    101\u001b[0m         \u001b[39mself\u001b[39;49m\u001b[39m.\u001b[39;49m_transport_factory, \u001b[39mself\u001b[39;49m\u001b[39m.\u001b[39;49m_executor, \u001b[39mself\u001b[39;49m\u001b[39m.\u001b[39;49m_pool)\n",
      "File \u001b[0;32m~/miniconda3/envs/py92/lib/python3.9/site-packages/gremlin_python/driver/connection.py:40\u001b[0m, in \u001b[0;36mConnection.__init__\u001b[0;34m(self, url, traversal_source, protocol, transport_factory, executor, pool)\u001b[0m\n\u001b[1;32m     38\u001b[0m \u001b[39mself\u001b[39m\u001b[39m.\u001b[39m_pool \u001b[39m=\u001b[39m pool\n\u001b[1;32m     39\u001b[0m \u001b[39mself\u001b[39m\u001b[39m.\u001b[39m_results \u001b[39m=\u001b[39m {}\n\u001b[0;32m---> 40\u001b[0m \u001b[39mself\u001b[39;49m\u001b[39m.\u001b[39;49mconnect()\n",
      "File \u001b[0;32m~/miniconda3/envs/py92/lib/python3.9/site-packages/gremlin_python/driver/connection.py:46\u001b[0m, in \u001b[0;36mConnection.connect\u001b[0;34m(self)\u001b[0m\n\u001b[1;32m     44\u001b[0m     \u001b[39mself\u001b[39m\u001b[39m.\u001b[39m_transport\u001b[39m.\u001b[39mclose()\n\u001b[1;32m     45\u001b[0m \u001b[39mself\u001b[39m\u001b[39m.\u001b[39m_transport \u001b[39m=\u001b[39m \u001b[39mself\u001b[39m\u001b[39m.\u001b[39m_transport_factory()\n\u001b[0;32m---> 46\u001b[0m \u001b[39mself\u001b[39;49m\u001b[39m.\u001b[39;49m_transport\u001b[39m.\u001b[39;49mconnect(\u001b[39mself\u001b[39;49m\u001b[39m.\u001b[39;49m_url)\n\u001b[1;32m     47\u001b[0m \u001b[39mself\u001b[39m\u001b[39m.\u001b[39m_protocol\u001b[39m.\u001b[39mconnection_made(\u001b[39mself\u001b[39m\u001b[39m.\u001b[39m_transport)\n",
      "File \u001b[0;32m~/miniconda3/envs/py92/lib/python3.9/site-packages/gremlin_python/driver/tornado/transport.py:32\u001b[0m, in \u001b[0;36mTornadoTransport.connect\u001b[0;34m(self, url)\u001b[0m\n\u001b[1;32m     31\u001b[0m \u001b[39mdef\u001b[39;00m \u001b[39mconnect\u001b[39m(\u001b[39mself\u001b[39m, url):\n\u001b[0;32m---> 32\u001b[0m     \u001b[39mself\u001b[39m\u001b[39m.\u001b[39m_ws \u001b[39m=\u001b[39m \u001b[39mself\u001b[39;49m\u001b[39m.\u001b[39;49m_loop\u001b[39m.\u001b[39;49mrun_sync(\n\u001b[1;32m     33\u001b[0m         \u001b[39mlambda\u001b[39;49;00m: websocket\u001b[39m.\u001b[39;49mwebsocket_connect(url))\n",
      "File \u001b[0;32m~/miniconda3/envs/py92/lib/python3.9/site-packages/tornado/ioloop.py:524\u001b[0m, in \u001b[0;36mIOLoop.run_sync\u001b[0;34m(self, func, timeout)\u001b[0m\n\u001b[1;32m    521\u001b[0m             \u001b[39mself\u001b[39m\u001b[39m.\u001b[39mstop()\n\u001b[1;32m    523\u001b[0m     timeout_handle \u001b[39m=\u001b[39m \u001b[39mself\u001b[39m\u001b[39m.\u001b[39madd_timeout(\u001b[39mself\u001b[39m\u001b[39m.\u001b[39mtime() \u001b[39m+\u001b[39m timeout, timeout_callback)\n\u001b[0;32m--> 524\u001b[0m \u001b[39mself\u001b[39;49m\u001b[39m.\u001b[39;49mstart()\n\u001b[1;32m    525\u001b[0m \u001b[39mif\u001b[39;00m timeout \u001b[39mis\u001b[39;00m \u001b[39mnot\u001b[39;00m \u001b[39mNone\u001b[39;00m:\n\u001b[1;32m    526\u001b[0m     \u001b[39mself\u001b[39m\u001b[39m.\u001b[39mremove_timeout(timeout_handle)\n",
      "File \u001b[0;32m~/miniconda3/envs/py92/lib/python3.9/site-packages/tornado/platform/asyncio.py:199\u001b[0m, in \u001b[0;36mBaseAsyncIOLoop.start\u001b[0;34m(self)\u001b[0m\n\u001b[1;32m    197\u001b[0m     \u001b[39mself\u001b[39m\u001b[39m.\u001b[39m_setup_logging()\n\u001b[1;32m    198\u001b[0m     asyncio\u001b[39m.\u001b[39mset_event_loop(\u001b[39mself\u001b[39m\u001b[39m.\u001b[39masyncio_loop)\n\u001b[0;32m--> 199\u001b[0m     \u001b[39mself\u001b[39;49m\u001b[39m.\u001b[39;49masyncio_loop\u001b[39m.\u001b[39;49mrun_forever()\n\u001b[1;32m    200\u001b[0m \u001b[39mfinally\u001b[39;00m:\n\u001b[1;32m    201\u001b[0m     asyncio\u001b[39m.\u001b[39mset_event_loop(old_loop)\n",
      "File \u001b[0;32m~/miniconda3/envs/py92/lib/python3.9/asyncio/base_events.py:591\u001b[0m, in \u001b[0;36mBaseEventLoop.run_forever\u001b[0;34m(self)\u001b[0m\n\u001b[1;32m    589\u001b[0m \u001b[39m\u001b[39m\u001b[39m\"\"\"Run until stop() is called.\"\"\"\u001b[39;00m\n\u001b[1;32m    590\u001b[0m \u001b[39mself\u001b[39m\u001b[39m.\u001b[39m_check_closed()\n\u001b[0;32m--> 591\u001b[0m \u001b[39mself\u001b[39;49m\u001b[39m.\u001b[39;49m_check_running()\n\u001b[1;32m    592\u001b[0m \u001b[39mself\u001b[39m\u001b[39m.\u001b[39m_set_coroutine_origin_tracking(\u001b[39mself\u001b[39m\u001b[39m.\u001b[39m_debug)\n\u001b[1;32m    593\u001b[0m \u001b[39mself\u001b[39m\u001b[39m.\u001b[39m_thread_id \u001b[39m=\u001b[39m threading\u001b[39m.\u001b[39mget_ident()\n",
      "File \u001b[0;32m~/miniconda3/envs/py92/lib/python3.9/asyncio/base_events.py:585\u001b[0m, in \u001b[0;36mBaseEventLoop._check_running\u001b[0;34m(self)\u001b[0m\n\u001b[1;32m    583\u001b[0m     \u001b[39mraise\u001b[39;00m \u001b[39mRuntimeError\u001b[39;00m(\u001b[39m'\u001b[39m\u001b[39mThis event loop is already running\u001b[39m\u001b[39m'\u001b[39m)\n\u001b[1;32m    584\u001b[0m \u001b[39mif\u001b[39;00m events\u001b[39m.\u001b[39m_get_running_loop() \u001b[39mis\u001b[39;00m \u001b[39mnot\u001b[39;00m \u001b[39mNone\u001b[39;00m:\n\u001b[0;32m--> 585\u001b[0m     \u001b[39mraise\u001b[39;00m \u001b[39mRuntimeError\u001b[39;00m(\n\u001b[1;32m    586\u001b[0m         \u001b[39m'\u001b[39m\u001b[39mCannot run the event loop while another loop is running\u001b[39m\u001b[39m'\u001b[39m)\n",
      "\u001b[0;31mRuntimeError\u001b[0m: Cannot run the event loop while another loop is running"
     ]
    }
   ],
   "source": [
    "import os\n",
    "import sys\n",
    "from pathlib import Path\n",
    "\n",
    "container_src_path = Path('/app/src/')\n",
    "local_src_path = Path(Path.cwd(), 'src/')\n",
    "\n",
    "# see if this src path exists.\n",
    "# if it does, we are in a container.\n",
    "# if not, we are in local.\n",
    "if not container_src_path.exists():\n",
    "    src_path = local_src_path\n",
    "else:\n",
    "    src_path = container_src_path\n",
    "\n",
    "src_path_str = str(src_path)\n",
    "if src_path_str not in sys.path:\n",
    "    sys.path.insert(0, src_path_str)\n",
    "    \n",
    "from graph.base import g\n",
    "\n",
    "from dotenv import load_dotenv\n",
    "\n",
    "load_dotenv()\n",
    "\n",
    "from concurrent.futures import ThreadPoolExecutor\n",
    "from contextlib import contextmanager\n",
    "from queue import Queue\n",
    "\n",
    "# Queue to hold statements\n",
    "statement_queue = Queue()\n",
    "\n",
    "# Function to add statement to queue\n",
    "def add_to_queue(statement):\n",
    "    statement_queue.put(statement)\n",
    "\n",
    "@contextmanager\n",
    "def execute_gremlin_statements():\n",
    "    try:\n",
    "        yield add_to_queue\n",
    "    finally:\n",
    "        statements = []\n",
    "        while not statement_queue.empty():\n",
    "            statements.append(statement_queue.get())\n",
    "        \n",
    "        with ThreadPoolExecutor() as executor:\n",
    "            futures = [executor.submit(statement) for statement in statements]\n",
    "            results = [future.result() for future in futures]\n",
    "\n",
    "        for result in results:\n",
    "            print(result)\n"
   ]
  },
  {
   "cell_type": "markdown",
   "metadata": {},
   "source": [
    "### Clear Database"
   ]
  },
  {
   "cell_type": "code",
   "execution_count": 2,
   "metadata": {},
   "outputs": [
    {
     "name": "stdout",
     "output_type": "stream",
     "text": [
      "[['V'], ['drop'], ['none']]\n"
     ]
    }
   ],
   "source": [
    "with execute_gremlin_statements() as add_statement:\n",
    "    add_statement(lambda: g.V().drop().iterate())"
   ]
  },
  {
   "cell_type": "markdown",
   "metadata": {},
   "source": [
    "### Add some Test Data"
   ]
  },
  {
   "cell_type": "code",
   "execution_count": 3,
   "metadata": {},
   "outputs": [
    {
     "name": "stdout",
     "output_type": "stream",
     "text": [
      "v[36992]\n",
      "v[28680]\n",
      "v[32776]\n",
      "v[28880]\n",
      "v[20576]\n",
      "v[32872]\n",
      "v[41088]\n"
     ]
    },
    {
     "ename": "KeyError",
     "evalue": "<DataType.custom: 0>",
     "output_type": "error",
     "traceback": [
      "\u001b[0;31m---------------------------------------------------------------------------\u001b[0m",
      "\u001b[0;31mKeyError\u001b[0m                                  Traceback (most recent call last)",
      "\u001b[1;32m/home/yellow_bright612/Dropbox/VSCodeProjects/Bitcoin/bitcoin_janusgraph/janus_graph_tests.ipynb Cell 6\u001b[0m line \u001b[0;36m2\n\u001b[1;32m     <a href='vscode-notebook-cell:/home/yellow_bright612/Dropbox/VSCodeProjects/Bitcoin/bitcoin_janusgraph/janus_graph_tests.ipynb#X10sZmlsZQ%3D%3D?line=24'>25</a>\u001b[0m add_statement(\u001b[39mlambda\u001b[39;00m: g\u001b[39m.\u001b[39mV()\u001b[39m.\u001b[39mhas(\u001b[39m'\u001b[39m\u001b[39mname\u001b[39m\u001b[39m'\u001b[39m, \u001b[39m'\u001b[39m\u001b[39mSally\u001b[39m\u001b[39m'\u001b[39m)\u001b[39m.\u001b[39maddE(\u001b[39m'\u001b[39m\u001b[39msent\u001b[39m\u001b[39m'\u001b[39m)\u001b[39m.\u001b[39mto(__\u001b[39m.\u001b[39mV()\u001b[39m.\u001b[39mhas(\u001b[39m'\u001b[39m\u001b[39mname\u001b[39m\u001b[39m'\u001b[39m, \u001b[39m'\u001b[39m\u001b[39mBob\u001b[39m\u001b[39m'\u001b[39m))\u001b[39m.\u001b[39mproperty(\u001b[39m'\u001b[39m\u001b[39mvalue\u001b[39m\u001b[39m'\u001b[39m, \u001b[39m3\u001b[39m)\u001b[39m.\u001b[39mnext())\n\u001b[1;32m     <a href='vscode-notebook-cell:/home/yellow_bright612/Dropbox/VSCodeProjects/Bitcoin/bitcoin_janusgraph/janus_graph_tests.ipynb#X10sZmlsZQ%3D%3D?line=25'>26</a>\u001b[0m add_statement(\u001b[39mlambda\u001b[39;00m: g\u001b[39m.\u001b[39mV()\u001b[39m.\u001b[39mhas(\u001b[39m'\u001b[39m\u001b[39mname\u001b[39m\u001b[39m'\u001b[39m, \u001b[39m'\u001b[39m\u001b[39mSally\u001b[39m\u001b[39m'\u001b[39m)\u001b[39m.\u001b[39maddE(\u001b[39m'\u001b[39m\u001b[39msent\u001b[39m\u001b[39m'\u001b[39m)\u001b[39m.\u001b[39mto(__\u001b[39m.\u001b[39mV()\u001b[39m.\u001b[39mhas(\u001b[39m'\u001b[39m\u001b[39mname\u001b[39m\u001b[39m'\u001b[39m, \u001b[39m'\u001b[39m\u001b[39mJohn\u001b[39m\u001b[39m'\u001b[39m))\u001b[39m.\u001b[39mproperty(\u001b[39m'\u001b[39m\u001b[39mvalue\u001b[39m\u001b[39m'\u001b[39m, \u001b[39m3\u001b[39m)\u001b[39m.\u001b[39mnext())\n\u001b[0;32m---> <a href='vscode-notebook-cell:/home/yellow_bright612/Dropbox/VSCodeProjects/Bitcoin/bitcoin_janusgraph/janus_graph_tests.ipynb#X10sZmlsZQ%3D%3D?line=26'>27</a>\u001b[0m add_statement(\u001b[39mlambda\u001b[39;00m: g\u001b[39m.\u001b[39mV()\u001b[39m.\u001b[39mhas(\u001b[39m'\u001b[39m\u001b[39mname\u001b[39m\u001b[39m'\u001b[39m, \u001b[39m'\u001b[39m\u001b[39mSal\u001b[39m\u001b[39m'\u001b[39m)\u001b[39m.\u001b[39maddE(\u001b[39m'\u001b[39m\u001b[39msent\u001b[39m\u001b[39m'\u001b[39m)\u001b[39m.\u001b[39mto(__\u001b[39m.\u001b[39mV()\u001b[39m.\u001b[39mhas(\u001b[39m'\u001b[39m\u001b[39mname\u001b[39m\u001b[39m'\u001b[39m, \u001b[39m'\u001b[39m\u001b[39mRob\u001b[39m\u001b[39m'\u001b[39m))\u001b[39m.\u001b[39mproperty(\u001b[39m'\u001b[39m\u001b[39mvalue\u001b[39m\u001b[39m'\u001b[39m, \u001b[39m17\u001b[39m)\u001b[39m.\u001b[39mnext())\n",
      "File \u001b[0;32m~/miniconda3/envs/py9/lib/python3.9/contextlib.py:126\u001b[0m, in \u001b[0;36m_GeneratorContextManager.__exit__\u001b[0;34m(self, typ, value, traceback)\u001b[0m\n\u001b[1;32m    124\u001b[0m \u001b[39mif\u001b[39;00m typ \u001b[39mis\u001b[39;00m \u001b[39mNone\u001b[39;00m:\n\u001b[1;32m    125\u001b[0m     \u001b[39mtry\u001b[39;00m:\n\u001b[0;32m--> 126\u001b[0m         \u001b[39mnext\u001b[39;49m(\u001b[39mself\u001b[39;49m\u001b[39m.\u001b[39;49mgen)\n\u001b[1;32m    127\u001b[0m     \u001b[39mexcept\u001b[39;00m \u001b[39mStopIteration\u001b[39;00m:\n\u001b[1;32m    128\u001b[0m         \u001b[39mreturn\u001b[39;00m \u001b[39mFalse\u001b[39;00m\n",
      "\u001b[1;32m/home/yellow_bright612/Dropbox/VSCodeProjects/Bitcoin/bitcoin_janusgraph/janus_graph_tests.ipynb Cell 6\u001b[0m line \u001b[0;36m4\n\u001b[1;32m     <a href='vscode-notebook-cell:/home/yellow_bright612/Dropbox/VSCodeProjects/Bitcoin/bitcoin_janusgraph/janus_graph_tests.ipynb#X10sZmlsZQ%3D%3D?line=45'>46</a>\u001b[0m \u001b[39mwith\u001b[39;00m ThreadPoolExecutor() \u001b[39mas\u001b[39;00m executor:\n\u001b[1;32m     <a href='vscode-notebook-cell:/home/yellow_bright612/Dropbox/VSCodeProjects/Bitcoin/bitcoin_janusgraph/janus_graph_tests.ipynb#X10sZmlsZQ%3D%3D?line=46'>47</a>\u001b[0m     futures \u001b[39m=\u001b[39m [executor\u001b[39m.\u001b[39msubmit(statement) \u001b[39mfor\u001b[39;00m statement \u001b[39min\u001b[39;00m statements]\n\u001b[0;32m---> <a href='vscode-notebook-cell:/home/yellow_bright612/Dropbox/VSCodeProjects/Bitcoin/bitcoin_janusgraph/janus_graph_tests.ipynb#X10sZmlsZQ%3D%3D?line=47'>48</a>\u001b[0m     results \u001b[39m=\u001b[39m [future\u001b[39m.\u001b[39mresult() \u001b[39mfor\u001b[39;00m future \u001b[39min\u001b[39;00m futures]\n\u001b[1;32m     <a href='vscode-notebook-cell:/home/yellow_bright612/Dropbox/VSCodeProjects/Bitcoin/bitcoin_janusgraph/janus_graph_tests.ipynb#X10sZmlsZQ%3D%3D?line=49'>50</a>\u001b[0m \u001b[39mfor\u001b[39;00m result \u001b[39min\u001b[39;00m results:\n\u001b[1;32m     <a href='vscode-notebook-cell:/home/yellow_bright612/Dropbox/VSCodeProjects/Bitcoin/bitcoin_janusgraph/janus_graph_tests.ipynb#X10sZmlsZQ%3D%3D?line=50'>51</a>\u001b[0m     \u001b[39mprint\u001b[39m(result)\n",
      "\u001b[1;32m/home/yellow_bright612/Dropbox/VSCodeProjects/Bitcoin/bitcoin_janusgraph/janus_graph_tests.ipynb Cell 6\u001b[0m line \u001b[0;36m4\n\u001b[1;32m     <a href='vscode-notebook-cell:/home/yellow_bright612/Dropbox/VSCodeProjects/Bitcoin/bitcoin_janusgraph/janus_graph_tests.ipynb#X10sZmlsZQ%3D%3D?line=45'>46</a>\u001b[0m \u001b[39mwith\u001b[39;00m ThreadPoolExecutor() \u001b[39mas\u001b[39;00m executor:\n\u001b[1;32m     <a href='vscode-notebook-cell:/home/yellow_bright612/Dropbox/VSCodeProjects/Bitcoin/bitcoin_janusgraph/janus_graph_tests.ipynb#X10sZmlsZQ%3D%3D?line=46'>47</a>\u001b[0m     futures \u001b[39m=\u001b[39m [executor\u001b[39m.\u001b[39msubmit(statement) \u001b[39mfor\u001b[39;00m statement \u001b[39min\u001b[39;00m statements]\n\u001b[0;32m---> <a href='vscode-notebook-cell:/home/yellow_bright612/Dropbox/VSCodeProjects/Bitcoin/bitcoin_janusgraph/janus_graph_tests.ipynb#X10sZmlsZQ%3D%3D?line=47'>48</a>\u001b[0m     results \u001b[39m=\u001b[39m [future\u001b[39m.\u001b[39;49mresult() \u001b[39mfor\u001b[39;00m future \u001b[39min\u001b[39;00m futures]\n\u001b[1;32m     <a href='vscode-notebook-cell:/home/yellow_bright612/Dropbox/VSCodeProjects/Bitcoin/bitcoin_janusgraph/janus_graph_tests.ipynb#X10sZmlsZQ%3D%3D?line=49'>50</a>\u001b[0m \u001b[39mfor\u001b[39;00m result \u001b[39min\u001b[39;00m results:\n\u001b[1;32m     <a href='vscode-notebook-cell:/home/yellow_bright612/Dropbox/VSCodeProjects/Bitcoin/bitcoin_janusgraph/janus_graph_tests.ipynb#X10sZmlsZQ%3D%3D?line=50'>51</a>\u001b[0m     \u001b[39mprint\u001b[39m(result)\n",
      "File \u001b[0;32m~/miniconda3/envs/py9/lib/python3.9/concurrent/futures/_base.py:446\u001b[0m, in \u001b[0;36mFuture.result\u001b[0;34m(self, timeout)\u001b[0m\n\u001b[1;32m    444\u001b[0m     \u001b[39mraise\u001b[39;00m CancelledError()\n\u001b[1;32m    445\u001b[0m \u001b[39melif\u001b[39;00m \u001b[39mself\u001b[39m\u001b[39m.\u001b[39m_state \u001b[39m==\u001b[39m FINISHED:\n\u001b[0;32m--> 446\u001b[0m     \u001b[39mreturn\u001b[39;00m \u001b[39mself\u001b[39;49m\u001b[39m.\u001b[39;49m__get_result()\n\u001b[1;32m    447\u001b[0m \u001b[39melse\u001b[39;00m:\n\u001b[1;32m    448\u001b[0m     \u001b[39mraise\u001b[39;00m \u001b[39mTimeoutError\u001b[39;00m()\n",
      "File \u001b[0;32m~/miniconda3/envs/py9/lib/python3.9/concurrent/futures/_base.py:391\u001b[0m, in \u001b[0;36mFuture.__get_result\u001b[0;34m(self)\u001b[0m\n\u001b[1;32m    389\u001b[0m \u001b[39mif\u001b[39;00m \u001b[39mself\u001b[39m\u001b[39m.\u001b[39m_exception:\n\u001b[1;32m    390\u001b[0m     \u001b[39mtry\u001b[39;00m:\n\u001b[0;32m--> 391\u001b[0m         \u001b[39mraise\u001b[39;00m \u001b[39mself\u001b[39m\u001b[39m.\u001b[39m_exception\n\u001b[1;32m    392\u001b[0m     \u001b[39mfinally\u001b[39;00m:\n\u001b[1;32m    393\u001b[0m         \u001b[39m# Break a reference cycle with the exception in self._exception\u001b[39;00m\n\u001b[1;32m    394\u001b[0m         \u001b[39mself\u001b[39m \u001b[39m=\u001b[39m \u001b[39mNone\u001b[39;00m\n",
      "File \u001b[0;32m~/miniconda3/envs/py9/lib/python3.9/concurrent/futures/thread.py:58\u001b[0m, in \u001b[0;36m_WorkItem.run\u001b[0;34m(self)\u001b[0m\n\u001b[1;32m     55\u001b[0m     \u001b[39mreturn\u001b[39;00m\n\u001b[1;32m     57\u001b[0m \u001b[39mtry\u001b[39;00m:\n\u001b[0;32m---> 58\u001b[0m     result \u001b[39m=\u001b[39m \u001b[39mself\u001b[39;49m\u001b[39m.\u001b[39;49mfn(\u001b[39m*\u001b[39;49m\u001b[39mself\u001b[39;49m\u001b[39m.\u001b[39;49margs, \u001b[39m*\u001b[39;49m\u001b[39m*\u001b[39;49m\u001b[39mself\u001b[39;49m\u001b[39m.\u001b[39;49mkwargs)\n\u001b[1;32m     59\u001b[0m \u001b[39mexcept\u001b[39;00m \u001b[39mBaseException\u001b[39;00m \u001b[39mas\u001b[39;00m exc:\n\u001b[1;32m     60\u001b[0m     \u001b[39mself\u001b[39m\u001b[39m.\u001b[39mfuture\u001b[39m.\u001b[39mset_exception(exc)\n",
      "\u001b[1;32m/home/yellow_bright612/Dropbox/VSCodeProjects/Bitcoin/bitcoin_janusgraph/janus_graph_tests.ipynb Cell 6\u001b[0m line \u001b[0;36m1\n\u001b[1;32m     <a href='vscode-notebook-cell:/home/yellow_bright612/Dropbox/VSCodeProjects/Bitcoin/bitcoin_janusgraph/janus_graph_tests.ipynb#X10sZmlsZQ%3D%3D?line=14'>15</a>\u001b[0m     add_statement(\u001b[39mlambda\u001b[39;00m: g\u001b[39m.\u001b[39maddV(\u001b[39m'\u001b[39m\u001b[39mperson\u001b[39m\u001b[39m'\u001b[39m)\u001b[39m.\u001b[39mproperty(\u001b[39m'\u001b[39m\u001b[39mname\u001b[39m\u001b[39m'\u001b[39m, \u001b[39m'\u001b[39m\u001b[39mSal\u001b[39m\u001b[39m'\u001b[39m)\u001b[39m.\u001b[39mproperty(\u001b[39m'\u001b[39m\u001b[39mmarked\u001b[39m\u001b[39m'\u001b[39m, \u001b[39mTrue\u001b[39;00m)\u001b[39m.\u001b[39mnext())\n\u001b[1;32m     <a href='vscode-notebook-cell:/home/yellow_bright612/Dropbox/VSCodeProjects/Bitcoin/bitcoin_janusgraph/janus_graph_tests.ipynb#X10sZmlsZQ%3D%3D?line=16'>17</a>\u001b[0m \u001b[39mwith\u001b[39;00m execute_gremlin_statements() \u001b[39mas\u001b[39;00m add_statement:\n\u001b[1;32m     <a href='vscode-notebook-cell:/home/yellow_bright612/Dropbox/VSCodeProjects/Bitcoin/bitcoin_janusgraph/janus_graph_tests.ipynb#X10sZmlsZQ%3D%3D?line=17'>18</a>\u001b[0m     \u001b[39m# Add edges\u001b[39;00m\n\u001b[0;32m---> <a href='vscode-notebook-cell:/home/yellow_bright612/Dropbox/VSCodeProjects/Bitcoin/bitcoin_janusgraph/janus_graph_tests.ipynb#X10sZmlsZQ%3D%3D?line=18'>19</a>\u001b[0m     add_statement(\u001b[39mlambda\u001b[39;00m: g\u001b[39m.\u001b[39;49mV()\u001b[39m.\u001b[39;49mhas(\u001b[39m'\u001b[39;49m\u001b[39mname\u001b[39;49m\u001b[39m'\u001b[39;49m, \u001b[39m'\u001b[39;49m\u001b[39mRob\u001b[39;49m\u001b[39m'\u001b[39;49m)\u001b[39m.\u001b[39;49maddE(\u001b[39m'\u001b[39;49m\u001b[39msent\u001b[39;49m\u001b[39m'\u001b[39;49m)\u001b[39m.\u001b[39;49mto(__\u001b[39m.\u001b[39;49mV()\u001b[39m.\u001b[39;49mhas(\u001b[39m'\u001b[39;49m\u001b[39mname\u001b[39;49m\u001b[39m'\u001b[39;49m, \u001b[39m'\u001b[39;49m\u001b[39mFrank\u001b[39;49m\u001b[39m'\u001b[39;49m))\u001b[39m.\u001b[39;49mproperty(\u001b[39m'\u001b[39;49m\u001b[39mvalue\u001b[39;49m\u001b[39m'\u001b[39;49m, \u001b[39m8\u001b[39;49m)\u001b[39m.\u001b[39;49mnext())\n\u001b[1;32m     <a href='vscode-notebook-cell:/home/yellow_bright612/Dropbox/VSCodeProjects/Bitcoin/bitcoin_janusgraph/janus_graph_tests.ipynb#X10sZmlsZQ%3D%3D?line=19'>20</a>\u001b[0m     add_statement(\u001b[39mlambda\u001b[39;00m: g\u001b[39m.\u001b[39mV()\u001b[39m.\u001b[39mhas(\u001b[39m'\u001b[39m\u001b[39mname\u001b[39m\u001b[39m'\u001b[39m, \u001b[39m'\u001b[39m\u001b[39mRob\u001b[39m\u001b[39m'\u001b[39m)\u001b[39m.\u001b[39maddE(\u001b[39m'\u001b[39m\u001b[39msent\u001b[39m\u001b[39m'\u001b[39m)\u001b[39m.\u001b[39mto(__\u001b[39m.\u001b[39mV()\u001b[39m.\u001b[39mhas(\u001b[39m'\u001b[39m\u001b[39mname\u001b[39m\u001b[39m'\u001b[39m, \u001b[39m'\u001b[39m\u001b[39mSally\u001b[39m\u001b[39m'\u001b[39m))\u001b[39m.\u001b[39mproperty(\u001b[39m'\u001b[39m\u001b[39mvalue\u001b[39m\u001b[39m'\u001b[39m, \u001b[39m7\u001b[39m)\u001b[39m.\u001b[39mnext())\n\u001b[1;32m     <a href='vscode-notebook-cell:/home/yellow_bright612/Dropbox/VSCodeProjects/Bitcoin/bitcoin_janusgraph/janus_graph_tests.ipynb#X10sZmlsZQ%3D%3D?line=20'>21</a>\u001b[0m     add_statement(\u001b[39mlambda\u001b[39;00m: g\u001b[39m.\u001b[39mV()\u001b[39m.\u001b[39mhas(\u001b[39m'\u001b[39m\u001b[39mname\u001b[39m\u001b[39m'\u001b[39m, \u001b[39m'\u001b[39m\u001b[39mBill\u001b[39m\u001b[39m'\u001b[39m)\u001b[39m.\u001b[39maddE(\u001b[39m'\u001b[39m\u001b[39msent\u001b[39m\u001b[39m'\u001b[39m)\u001b[39m.\u001b[39mto(__\u001b[39m.\u001b[39mV()\u001b[39m.\u001b[39mhas(\u001b[39m'\u001b[39m\u001b[39mname\u001b[39m\u001b[39m'\u001b[39m, \u001b[39m'\u001b[39m\u001b[39mFrank\u001b[39m\u001b[39m'\u001b[39m))\u001b[39m.\u001b[39mproperty(\u001b[39m'\u001b[39m\u001b[39mvalue\u001b[39m\u001b[39m'\u001b[39m, \u001b[39m3\u001b[39m)\u001b[39m.\u001b[39mnext())\n",
      "File \u001b[0;32m~/miniconda3/envs/py9/lib/python3.9/site-packages/gremlin_python/process/traversal.py:117\u001b[0m, in \u001b[0;36mTraversal.next\u001b[0;34m(self, amount)\u001b[0m\n\u001b[1;32m    115\u001b[0m \u001b[39mdef\u001b[39;00m \u001b[39mnext\u001b[39m(\u001b[39mself\u001b[39m, amount\u001b[39m=\u001b[39m\u001b[39mNone\u001b[39;00m):\n\u001b[1;32m    116\u001b[0m     \u001b[39mif\u001b[39;00m amount \u001b[39mis\u001b[39;00m \u001b[39mNone\u001b[39;00m:\n\u001b[0;32m--> 117\u001b[0m         \u001b[39mreturn\u001b[39;00m \u001b[39mself\u001b[39;49m\u001b[39m.\u001b[39;49m\u001b[39m__next__\u001b[39;49m()\n\u001b[1;32m    118\u001b[0m     \u001b[39melse\u001b[39;00m:\n\u001b[1;32m    119\u001b[0m         count \u001b[39m=\u001b[39m \u001b[39m0\u001b[39m\n",
      "File \u001b[0;32m~/miniconda3/envs/py9/lib/python3.9/site-packages/gremlin_python/process/traversal.py:48\u001b[0m, in \u001b[0;36mTraversal.__next__\u001b[0;34m(self)\u001b[0m\n\u001b[1;32m     46\u001b[0m \u001b[39mdef\u001b[39;00m \u001b[39m__next__\u001b[39m(\u001b[39mself\u001b[39m):\n\u001b[1;32m     47\u001b[0m     \u001b[39mif\u001b[39;00m \u001b[39mself\u001b[39m\u001b[39m.\u001b[39mtraversers \u001b[39mis\u001b[39;00m \u001b[39mNone\u001b[39;00m:\n\u001b[0;32m---> 48\u001b[0m         \u001b[39mself\u001b[39;49m\u001b[39m.\u001b[39;49mtraversal_strategies\u001b[39m.\u001b[39;49mapply_strategies(\u001b[39mself\u001b[39;49m)\n\u001b[1;32m     49\u001b[0m     \u001b[39mif\u001b[39;00m \u001b[39mself\u001b[39m\u001b[39m.\u001b[39mlast_traverser \u001b[39mis\u001b[39;00m \u001b[39mNone\u001b[39;00m:\n\u001b[1;32m     50\u001b[0m         \u001b[39mself\u001b[39m\u001b[39m.\u001b[39mlast_traverser \u001b[39m=\u001b[39m \u001b[39mnext\u001b[39m(\u001b[39mself\u001b[39m\u001b[39m.\u001b[39mtraversers)\n",
      "File \u001b[0;32m~/miniconda3/envs/py9/lib/python3.9/site-packages/gremlin_python/process/traversal.py:694\u001b[0m, in \u001b[0;36mTraversalStrategies.apply_strategies\u001b[0;34m(self, traversal)\u001b[0m\n\u001b[1;32m    692\u001b[0m \u001b[39mdef\u001b[39;00m \u001b[39mapply_strategies\u001b[39m(\u001b[39mself\u001b[39m, traversal):\n\u001b[1;32m    693\u001b[0m     \u001b[39mfor\u001b[39;00m traversal_strategy \u001b[39min\u001b[39;00m \u001b[39mself\u001b[39m\u001b[39m.\u001b[39mtraversal_strategies:\n\u001b[0;32m--> 694\u001b[0m         traversal_strategy\u001b[39m.\u001b[39;49mapply(traversal)\n",
      "File \u001b[0;32m~/miniconda3/envs/py9/lib/python3.9/site-packages/gremlin_python/driver/remote_connection.py:78\u001b[0m, in \u001b[0;36mRemoteStrategy.apply\u001b[0;34m(self, traversal)\u001b[0m\n\u001b[1;32m     76\u001b[0m \u001b[39mdef\u001b[39;00m \u001b[39mapply\u001b[39m(\u001b[39mself\u001b[39m, traversal):\n\u001b[1;32m     77\u001b[0m     \u001b[39mif\u001b[39;00m traversal\u001b[39m.\u001b[39mtraversers \u001b[39mis\u001b[39;00m \u001b[39mNone\u001b[39;00m:\n\u001b[0;32m---> 78\u001b[0m         remote_traversal \u001b[39m=\u001b[39m \u001b[39mself\u001b[39;49m\u001b[39m.\u001b[39;49mremote_connection\u001b[39m.\u001b[39;49msubmit(traversal\u001b[39m.\u001b[39;49mbytecode)\n\u001b[1;32m     79\u001b[0m         traversal\u001b[39m.\u001b[39mremote_results \u001b[39m=\u001b[39m remote_traversal\n\u001b[1;32m     80\u001b[0m         traversal\u001b[39m.\u001b[39mtraversers \u001b[39m=\u001b[39m remote_traversal\u001b[39m.\u001b[39mtraversers\n",
      "File \u001b[0;32m~/miniconda3/envs/py9/lib/python3.9/site-packages/gremlin_python/driver/driver_remote_connection.py:105\u001b[0m, in \u001b[0;36mDriverRemoteConnection.submit\u001b[0;34m(self, bytecode)\u001b[0m\n\u001b[1;32m    103\u001b[0m log\u001b[39m.\u001b[39mdebug(\u001b[39m\"\u001b[39m\u001b[39msubmit with bytecode \u001b[39m\u001b[39m'\u001b[39m\u001b[39m%s\u001b[39;00m\u001b[39m'\u001b[39m\u001b[39m\"\u001b[39m, \u001b[39mstr\u001b[39m(bytecode))\n\u001b[1;32m    104\u001b[0m result_set \u001b[39m=\u001b[39m \u001b[39mself\u001b[39m\u001b[39m.\u001b[39m_client\u001b[39m.\u001b[39msubmit(bytecode, request_options\u001b[39m=\u001b[39m\u001b[39mself\u001b[39m\u001b[39m.\u001b[39m_extract_request_options(bytecode))\n\u001b[0;32m--> 105\u001b[0m results \u001b[39m=\u001b[39m result_set\u001b[39m.\u001b[39;49mall()\u001b[39m.\u001b[39;49mresult()\n\u001b[1;32m    106\u001b[0m \u001b[39mreturn\u001b[39;00m RemoteTraversal(\u001b[39miter\u001b[39m(results))\n",
      "File \u001b[0;32m~/miniconda3/envs/py9/lib/python3.9/concurrent/futures/_base.py:446\u001b[0m, in \u001b[0;36mFuture.result\u001b[0;34m(self, timeout)\u001b[0m\n\u001b[1;32m    444\u001b[0m     \u001b[39mraise\u001b[39;00m CancelledError()\n\u001b[1;32m    445\u001b[0m \u001b[39melif\u001b[39;00m \u001b[39mself\u001b[39m\u001b[39m.\u001b[39m_state \u001b[39m==\u001b[39m FINISHED:\n\u001b[0;32m--> 446\u001b[0m     \u001b[39mreturn\u001b[39;00m \u001b[39mself\u001b[39;49m\u001b[39m.\u001b[39;49m__get_result()\n\u001b[1;32m    447\u001b[0m \u001b[39melse\u001b[39;00m:\n\u001b[1;32m    448\u001b[0m     \u001b[39mraise\u001b[39;00m \u001b[39mTimeoutError\u001b[39;00m()\n",
      "File \u001b[0;32m~/miniconda3/envs/py9/lib/python3.9/concurrent/futures/_base.py:391\u001b[0m, in \u001b[0;36mFuture.__get_result\u001b[0;34m(self)\u001b[0m\n\u001b[1;32m    389\u001b[0m \u001b[39mif\u001b[39;00m \u001b[39mself\u001b[39m\u001b[39m.\u001b[39m_exception:\n\u001b[1;32m    390\u001b[0m     \u001b[39mtry\u001b[39;00m:\n\u001b[0;32m--> 391\u001b[0m         \u001b[39mraise\u001b[39;00m \u001b[39mself\u001b[39m\u001b[39m.\u001b[39m_exception\n\u001b[1;32m    392\u001b[0m     \u001b[39mfinally\u001b[39;00m:\n\u001b[1;32m    393\u001b[0m         \u001b[39m# Break a reference cycle with the exception in self._exception\u001b[39;00m\n\u001b[1;32m    394\u001b[0m         \u001b[39mself\u001b[39m \u001b[39m=\u001b[39m \u001b[39mNone\u001b[39;00m\n",
      "File \u001b[0;32m~/miniconda3/envs/py9/lib/python3.9/site-packages/gremlin_python/driver/resultset.py:90\u001b[0m, in \u001b[0;36mResultSet.all.<locals>.cb\u001b[0;34m(f)\u001b[0m\n\u001b[1;32m     88\u001b[0m \u001b[39mdef\u001b[39;00m \u001b[39mcb\u001b[39m(f):\n\u001b[1;32m     89\u001b[0m     \u001b[39mtry\u001b[39;00m:\n\u001b[0;32m---> 90\u001b[0m         f\u001b[39m.\u001b[39;49mresult()\n\u001b[1;32m     91\u001b[0m     \u001b[39mexcept\u001b[39;00m \u001b[39mException\u001b[39;00m \u001b[39mas\u001b[39;00m e:\n\u001b[1;32m     92\u001b[0m         future\u001b[39m.\u001b[39mset_exception(e)\n",
      "File \u001b[0;32m~/miniconda3/envs/py9/lib/python3.9/concurrent/futures/_base.py:439\u001b[0m, in \u001b[0;36mFuture.result\u001b[0;34m(self, timeout)\u001b[0m\n\u001b[1;32m    437\u001b[0m     \u001b[39mraise\u001b[39;00m CancelledError()\n\u001b[1;32m    438\u001b[0m \u001b[39melif\u001b[39;00m \u001b[39mself\u001b[39m\u001b[39m.\u001b[39m_state \u001b[39m==\u001b[39m FINISHED:\n\u001b[0;32m--> 439\u001b[0m     \u001b[39mreturn\u001b[39;00m \u001b[39mself\u001b[39;49m\u001b[39m.\u001b[39;49m__get_result()\n\u001b[1;32m    441\u001b[0m \u001b[39mself\u001b[39m\u001b[39m.\u001b[39m_condition\u001b[39m.\u001b[39mwait(timeout)\n\u001b[1;32m    443\u001b[0m \u001b[39mif\u001b[39;00m \u001b[39mself\u001b[39m\u001b[39m.\u001b[39m_state \u001b[39min\u001b[39;00m [CANCELLED, CANCELLED_AND_NOTIFIED]:\n",
      "File \u001b[0;32m~/miniconda3/envs/py9/lib/python3.9/concurrent/futures/_base.py:391\u001b[0m, in \u001b[0;36mFuture.__get_result\u001b[0;34m(self)\u001b[0m\n\u001b[1;32m    389\u001b[0m \u001b[39mif\u001b[39;00m \u001b[39mself\u001b[39m\u001b[39m.\u001b[39m_exception:\n\u001b[1;32m    390\u001b[0m     \u001b[39mtry\u001b[39;00m:\n\u001b[0;32m--> 391\u001b[0m         \u001b[39mraise\u001b[39;00m \u001b[39mself\u001b[39m\u001b[39m.\u001b[39m_exception\n\u001b[1;32m    392\u001b[0m     \u001b[39mfinally\u001b[39;00m:\n\u001b[1;32m    393\u001b[0m         \u001b[39m# Break a reference cycle with the exception in self._exception\u001b[39;00m\n\u001b[1;32m    394\u001b[0m         \u001b[39mself\u001b[39m \u001b[39m=\u001b[39m \u001b[39mNone\u001b[39;00m\n",
      "File \u001b[0;32m~/miniconda3/envs/py9/lib/python3.9/concurrent/futures/thread.py:58\u001b[0m, in \u001b[0;36m_WorkItem.run\u001b[0;34m(self)\u001b[0m\n\u001b[1;32m     55\u001b[0m     \u001b[39mreturn\u001b[39;00m\n\u001b[1;32m     57\u001b[0m \u001b[39mtry\u001b[39;00m:\n\u001b[0;32m---> 58\u001b[0m     result \u001b[39m=\u001b[39m \u001b[39mself\u001b[39;49m\u001b[39m.\u001b[39;49mfn(\u001b[39m*\u001b[39;49m\u001b[39mself\u001b[39;49m\u001b[39m.\u001b[39;49margs, \u001b[39m*\u001b[39;49m\u001b[39m*\u001b[39;49m\u001b[39mself\u001b[39;49m\u001b[39m.\u001b[39;49mkwargs)\n\u001b[1;32m     59\u001b[0m \u001b[39mexcept\u001b[39;00m \u001b[39mBaseException\u001b[39;00m \u001b[39mas\u001b[39;00m exc:\n\u001b[1;32m     60\u001b[0m     \u001b[39mself\u001b[39m\u001b[39m.\u001b[39mfuture\u001b[39m.\u001b[39mset_exception(exc)\n",
      "File \u001b[0;32m~/miniconda3/envs/py9/lib/python3.9/site-packages/gremlin_python/driver/connection.py:90\u001b[0m, in \u001b[0;36mConnection._receive\u001b[0;34m(self)\u001b[0m\n\u001b[1;32m     88\u001b[0m \u001b[39mwhile\u001b[39;00m \u001b[39mTrue\u001b[39;00m:\n\u001b[1;32m     89\u001b[0m     data \u001b[39m=\u001b[39m \u001b[39mself\u001b[39m\u001b[39m.\u001b[39m_transport\u001b[39m.\u001b[39mread()\n\u001b[0;32m---> 90\u001b[0m     status_code \u001b[39m=\u001b[39m \u001b[39mself\u001b[39;49m\u001b[39m.\u001b[39;49m_protocol\u001b[39m.\u001b[39;49mdata_received(data, \u001b[39mself\u001b[39;49m\u001b[39m.\u001b[39;49m_results)\n\u001b[1;32m     91\u001b[0m     \u001b[39mif\u001b[39;00m status_code \u001b[39m!=\u001b[39m \u001b[39m206\u001b[39m:\n\u001b[1;32m     92\u001b[0m         \u001b[39mbreak\u001b[39;00m\n",
      "File \u001b[0;32m~/miniconda3/envs/py9/lib/python3.9/site-packages/gremlin_python/driver/protocol.py:96\u001b[0m, in \u001b[0;36mGremlinServerWSProtocol.data_received\u001b[0;34m(self, message, results_dict)\u001b[0m\n\u001b[1;32m     92\u001b[0m     log\u001b[39m.\u001b[39merror(\u001b[39m\"\u001b[39m\u001b[39mReceived empty message from server.\u001b[39m\u001b[39m\"\u001b[39m)\n\u001b[1;32m     93\u001b[0m     \u001b[39mraise\u001b[39;00m GremlinServerError({\u001b[39m'\u001b[39m\u001b[39mcode\u001b[39m\u001b[39m'\u001b[39m: \u001b[39m500\u001b[39m,\n\u001b[1;32m     94\u001b[0m                               \u001b[39m'\u001b[39m\u001b[39mmessage\u001b[39m\u001b[39m'\u001b[39m: \u001b[39m'\u001b[39m\u001b[39mServer disconnected - please try to reconnect\u001b[39m\u001b[39m'\u001b[39m, \u001b[39m'\u001b[39m\u001b[39mattributes\u001b[39m\u001b[39m'\u001b[39m: {}})\n\u001b[0;32m---> 96\u001b[0m message \u001b[39m=\u001b[39m \u001b[39mself\u001b[39;49m\u001b[39m.\u001b[39;49m_message_serializer\u001b[39m.\u001b[39;49mdeserialize_message(message)\n\u001b[1;32m     97\u001b[0m request_id \u001b[39m=\u001b[39m message[\u001b[39m'\u001b[39m\u001b[39mrequestId\u001b[39m\u001b[39m'\u001b[39m]\n\u001b[1;32m     98\u001b[0m result_set \u001b[39m=\u001b[39m results_dict[request_id] \u001b[39mif\u001b[39;00m request_id \u001b[39min\u001b[39;00m results_dict \u001b[39melse\u001b[39;00m ResultSet(\u001b[39mNone\u001b[39;00m, \u001b[39mNone\u001b[39;00m)\n",
      "File \u001b[0;32m~/miniconda3/envs/py9/lib/python3.9/site-packages/gremlin_python/driver/serializer.py:280\u001b[0m, in \u001b[0;36mGraphBinarySerializersV1.deserialize_message\u001b[0;34m(self, message)\u001b[0m\n\u001b[1;32m    278\u001b[0m status_attrs \u001b[39m=\u001b[39m \u001b[39mself\u001b[39m\u001b[39m.\u001b[39m_graphbinary_reader\u001b[39m.\u001b[39mto_object(b, graphbinaryV1\u001b[39m.\u001b[39mDataType\u001b[39m.\u001b[39mmap, nullable\u001b[39m=\u001b[39m\u001b[39mFalse\u001b[39;00m)\n\u001b[1;32m    279\u001b[0m meta_attrs \u001b[39m=\u001b[39m \u001b[39mself\u001b[39m\u001b[39m.\u001b[39m_graphbinary_reader\u001b[39m.\u001b[39mto_object(b, graphbinaryV1\u001b[39m.\u001b[39mDataType\u001b[39m.\u001b[39mmap, nullable\u001b[39m=\u001b[39m\u001b[39mFalse\u001b[39;00m)\n\u001b[0;32m--> 280\u001b[0m result \u001b[39m=\u001b[39m \u001b[39mself\u001b[39;49m\u001b[39m.\u001b[39;49m_graphbinary_reader\u001b[39m.\u001b[39;49mto_object(b)\n\u001b[1;32m    282\u001b[0m b\u001b[39m.\u001b[39mclose()\n\u001b[1;32m    284\u001b[0m msg \u001b[39m=\u001b[39m {\u001b[39m'\u001b[39m\u001b[39mrequestId\u001b[39m\u001b[39m'\u001b[39m: request_id,\n\u001b[1;32m    285\u001b[0m        \u001b[39m'\u001b[39m\u001b[39mstatus\u001b[39m\u001b[39m'\u001b[39m: {\u001b[39m'\u001b[39m\u001b[39mcode\u001b[39m\u001b[39m'\u001b[39m: status_code,\n\u001b[1;32m    286\u001b[0m                   \u001b[39m'\u001b[39m\u001b[39mmessage\u001b[39m\u001b[39m'\u001b[39m: status_msg,\n\u001b[1;32m    287\u001b[0m                   \u001b[39m'\u001b[39m\u001b[39mattributes\u001b[39m\u001b[39m'\u001b[39m: status_attrs},\n\u001b[1;32m    288\u001b[0m        \u001b[39m'\u001b[39m\u001b[39mresult\u001b[39m\u001b[39m'\u001b[39m: {\u001b[39m'\u001b[39m\u001b[39mmeta\u001b[39m\u001b[39m'\u001b[39m: meta_attrs,\n\u001b[1;32m    289\u001b[0m                   \u001b[39m'\u001b[39m\u001b[39mdata\u001b[39m\u001b[39m'\u001b[39m: result}}\n",
      "File \u001b[0;32m~/miniconda3/envs/py9/lib/python3.9/site-packages/gremlin_python/structure/io/graphbinaryV1.py:203\u001b[0m, in \u001b[0;36mGraphBinaryReader.to_object\u001b[0;34m(self, buff, data_type, nullable)\u001b[0m\n\u001b[1;32m    201\u001b[0m             buff\u001b[39m.\u001b[39mread(\u001b[39m1\u001b[39m)\n\u001b[1;32m    202\u001b[0m         \u001b[39mreturn\u001b[39;00m \u001b[39mNone\u001b[39;00m\n\u001b[0;32m--> 203\u001b[0m     \u001b[39mreturn\u001b[39;00m \u001b[39mself\u001b[39;49m\u001b[39m.\u001b[39;49mdeserializers[DataType(bt)]\u001b[39m.\u001b[39;49mobjectify(buff, \u001b[39mself\u001b[39;49m, nullable)\n\u001b[1;32m    204\u001b[0m \u001b[39melse\u001b[39;00m:\n\u001b[1;32m    205\u001b[0m     \u001b[39mreturn\u001b[39;00m \u001b[39mself\u001b[39m\u001b[39m.\u001b[39mdeserializers[data_type]\u001b[39m.\u001b[39mobjectify(buff, \u001b[39mself\u001b[39m, nullable)\n",
      "File \u001b[0;32m~/miniconda3/envs/py9/lib/python3.9/site-packages/gremlin_python/structure/io/graphbinaryV1.py:502\u001b[0m, in \u001b[0;36mListIO.objectify\u001b[0;34m(cls, buff, reader, nullable)\u001b[0m\n\u001b[1;32m    500\u001b[0m \u001b[39m@classmethod\u001b[39m\n\u001b[1;32m    501\u001b[0m \u001b[39mdef\u001b[39;00m \u001b[39mobjectify\u001b[39m(\u001b[39mcls\u001b[39m, buff, reader, nullable\u001b[39m=\u001b[39m\u001b[39mTrue\u001b[39;00m):\n\u001b[0;32m--> 502\u001b[0m     \u001b[39mreturn\u001b[39;00m \u001b[39mcls\u001b[39;49m\u001b[39m.\u001b[39;49mis_null(buff, reader, \u001b[39mcls\u001b[39;49m\u001b[39m.\u001b[39;49m_read_list, nullable)\n",
      "File \u001b[0;32m~/miniconda3/envs/py9/lib/python3.9/site-packages/gremlin_python/structure/io/graphbinaryV1.py:231\u001b[0m, in \u001b[0;36m_GraphBinaryTypeIO.is_null\u001b[0;34m(cls, buff, reader, else_opt, nullable)\u001b[0m\n\u001b[1;32m    229\u001b[0m \u001b[39m@classmethod\u001b[39m\n\u001b[1;32m    230\u001b[0m \u001b[39mdef\u001b[39;00m \u001b[39mis_null\u001b[39m(\u001b[39mcls\u001b[39m, buff, reader, else_opt, nullable\u001b[39m=\u001b[39m\u001b[39mTrue\u001b[39;00m):\n\u001b[0;32m--> 231\u001b[0m     \u001b[39mreturn\u001b[39;00m \u001b[39mNone\u001b[39;00m \u001b[39mif\u001b[39;00m nullable \u001b[39mand\u001b[39;00m buff\u001b[39m.\u001b[39mread(\u001b[39m1\u001b[39m)[\u001b[39m0\u001b[39m] \u001b[39m==\u001b[39m \u001b[39m0x01\u001b[39m \u001b[39melse\u001b[39;00m else_opt(buff, reader)\n",
      "File \u001b[0;32m~/miniconda3/envs/py9/lib/python3.9/site-packages/gremlin_python/structure/io/graphbinaryV1.py:509\u001b[0m, in \u001b[0;36mListIO._read_list\u001b[0;34m(cls, b, r)\u001b[0m\n\u001b[1;32m    507\u001b[0m the_list \u001b[39m=\u001b[39m []\n\u001b[1;32m    508\u001b[0m \u001b[39mwhile\u001b[39;00m size \u001b[39m>\u001b[39m \u001b[39m0\u001b[39m:\n\u001b[0;32m--> 509\u001b[0m     the_list\u001b[39m.\u001b[39mappend(r\u001b[39m.\u001b[39;49mread_object(b))\n\u001b[1;32m    510\u001b[0m     size \u001b[39m=\u001b[39m size \u001b[39m-\u001b[39m \u001b[39m1\u001b[39m\n\u001b[1;32m    512\u001b[0m \u001b[39mreturn\u001b[39;00m the_list\n",
      "File \u001b[0;32m~/miniconda3/envs/py9/lib/python3.9/site-packages/gremlin_python/structure/io/graphbinaryV1.py:194\u001b[0m, in \u001b[0;36mGraphBinaryReader.read_object\u001b[0;34m(self, b)\u001b[0m\n\u001b[1;32m    192\u001b[0m     \u001b[39mreturn\u001b[39;00m \u001b[39mself\u001b[39m\u001b[39m.\u001b[39mto_object(io\u001b[39m.\u001b[39mBytesIO(b))\n\u001b[1;32m    193\u001b[0m \u001b[39melif\u001b[39;00m \u001b[39misinstance\u001b[39m(b, io\u001b[39m.\u001b[39mBufferedIOBase):\n\u001b[0;32m--> 194\u001b[0m     \u001b[39mreturn\u001b[39;00m \u001b[39mself\u001b[39;49m\u001b[39m.\u001b[39;49mto_object(b)\n",
      "File \u001b[0;32m~/miniconda3/envs/py9/lib/python3.9/site-packages/gremlin_python/structure/io/graphbinaryV1.py:203\u001b[0m, in \u001b[0;36mGraphBinaryReader.to_object\u001b[0;34m(self, buff, data_type, nullable)\u001b[0m\n\u001b[1;32m    201\u001b[0m             buff\u001b[39m.\u001b[39mread(\u001b[39m1\u001b[39m)\n\u001b[1;32m    202\u001b[0m         \u001b[39mreturn\u001b[39;00m \u001b[39mNone\u001b[39;00m\n\u001b[0;32m--> 203\u001b[0m     \u001b[39mreturn\u001b[39;00m \u001b[39mself\u001b[39;49m\u001b[39m.\u001b[39;49mdeserializers[DataType(bt)]\u001b[39m.\u001b[39;49mobjectify(buff, \u001b[39mself\u001b[39;49m, nullable)\n\u001b[1;32m    204\u001b[0m \u001b[39melse\u001b[39;00m:\n\u001b[1;32m    205\u001b[0m     \u001b[39mreturn\u001b[39;00m \u001b[39mself\u001b[39m\u001b[39m.\u001b[39mdeserializers[data_type]\u001b[39m.\u001b[39mobjectify(buff, \u001b[39mself\u001b[39m, nullable)\n",
      "File \u001b[0;32m~/miniconda3/envs/py9/lib/python3.9/site-packages/gremlin_python/structure/io/graphbinaryV1.py:950\u001b[0m, in \u001b[0;36mTraverserIO.objectify\u001b[0;34m(cls, buff, reader, nullable)\u001b[0m\n\u001b[1;32m    948\u001b[0m \u001b[39m@classmethod\u001b[39m\n\u001b[1;32m    949\u001b[0m \u001b[39mdef\u001b[39;00m \u001b[39mobjectify\u001b[39m(\u001b[39mcls\u001b[39m, buff, reader, nullable\u001b[39m=\u001b[39m\u001b[39mTrue\u001b[39;00m):\n\u001b[0;32m--> 950\u001b[0m     \u001b[39mreturn\u001b[39;00m \u001b[39mcls\u001b[39;49m\u001b[39m.\u001b[39;49mis_null(buff, reader, \u001b[39mcls\u001b[39;49m\u001b[39m.\u001b[39;49m_read_traverser, nullable)\n",
      "File \u001b[0;32m~/miniconda3/envs/py9/lib/python3.9/site-packages/gremlin_python/structure/io/graphbinaryV1.py:231\u001b[0m, in \u001b[0;36m_GraphBinaryTypeIO.is_null\u001b[0;34m(cls, buff, reader, else_opt, nullable)\u001b[0m\n\u001b[1;32m    229\u001b[0m \u001b[39m@classmethod\u001b[39m\n\u001b[1;32m    230\u001b[0m \u001b[39mdef\u001b[39;00m \u001b[39mis_null\u001b[39m(\u001b[39mcls\u001b[39m, buff, reader, else_opt, nullable\u001b[39m=\u001b[39m\u001b[39mTrue\u001b[39;00m):\n\u001b[0;32m--> 231\u001b[0m     \u001b[39mreturn\u001b[39;00m \u001b[39mNone\u001b[39;00m \u001b[39mif\u001b[39;00m nullable \u001b[39mand\u001b[39;00m buff\u001b[39m.\u001b[39mread(\u001b[39m1\u001b[39m)[\u001b[39m0\u001b[39m] \u001b[39m==\u001b[39m \u001b[39m0x01\u001b[39m \u001b[39melse\u001b[39;00m else_opt(buff, reader)\n",
      "File \u001b[0;32m~/miniconda3/envs/py9/lib/python3.9/site-packages/gremlin_python/structure/io/graphbinaryV1.py:955\u001b[0m, in \u001b[0;36mTraverserIO._read_traverser\u001b[0;34m(cls, b, r)\u001b[0m\n\u001b[1;32m    952\u001b[0m \u001b[39m@classmethod\u001b[39m\n\u001b[1;32m    953\u001b[0m \u001b[39mdef\u001b[39;00m \u001b[39m_read_traverser\u001b[39m(\u001b[39mcls\u001b[39m, b, r):\n\u001b[1;32m    954\u001b[0m     bulk \u001b[39m=\u001b[39m int64_unpack(b\u001b[39m.\u001b[39mread(\u001b[39m8\u001b[39m))\n\u001b[0;32m--> 955\u001b[0m     obj \u001b[39m=\u001b[39m r\u001b[39m.\u001b[39;49mread_object(b)\n\u001b[1;32m    956\u001b[0m     \u001b[39mreturn\u001b[39;00m Traverser(obj, bulk\u001b[39m=\u001b[39mbulk)\n",
      "File \u001b[0;32m~/miniconda3/envs/py9/lib/python3.9/site-packages/gremlin_python/structure/io/graphbinaryV1.py:194\u001b[0m, in \u001b[0;36mGraphBinaryReader.read_object\u001b[0;34m(self, b)\u001b[0m\n\u001b[1;32m    192\u001b[0m     \u001b[39mreturn\u001b[39;00m \u001b[39mself\u001b[39m\u001b[39m.\u001b[39mto_object(io\u001b[39m.\u001b[39mBytesIO(b))\n\u001b[1;32m    193\u001b[0m \u001b[39melif\u001b[39;00m \u001b[39misinstance\u001b[39m(b, io\u001b[39m.\u001b[39mBufferedIOBase):\n\u001b[0;32m--> 194\u001b[0m     \u001b[39mreturn\u001b[39;00m \u001b[39mself\u001b[39;49m\u001b[39m.\u001b[39;49mto_object(b)\n",
      "File \u001b[0;32m~/miniconda3/envs/py9/lib/python3.9/site-packages/gremlin_python/structure/io/graphbinaryV1.py:203\u001b[0m, in \u001b[0;36mGraphBinaryReader.to_object\u001b[0;34m(self, buff, data_type, nullable)\u001b[0m\n\u001b[1;32m    201\u001b[0m             buff\u001b[39m.\u001b[39mread(\u001b[39m1\u001b[39m)\n\u001b[1;32m    202\u001b[0m         \u001b[39mreturn\u001b[39;00m \u001b[39mNone\u001b[39;00m\n\u001b[0;32m--> 203\u001b[0m     \u001b[39mreturn\u001b[39;00m \u001b[39mself\u001b[39;49m\u001b[39m.\u001b[39;49mdeserializers[DataType(bt)]\u001b[39m.\u001b[39;49mobjectify(buff, \u001b[39mself\u001b[39;49m, nullable)\n\u001b[1;32m    204\u001b[0m \u001b[39melse\u001b[39;00m:\n\u001b[1;32m    205\u001b[0m     \u001b[39mreturn\u001b[39;00m \u001b[39mself\u001b[39m\u001b[39m.\u001b[39mdeserializers[data_type]\u001b[39m.\u001b[39mobjectify(buff, \u001b[39mself\u001b[39m, nullable)\n",
      "File \u001b[0;32m~/miniconda3/envs/py9/lib/python3.9/site-packages/gremlin_python/structure/io/graphbinaryV1.py:596\u001b[0m, in \u001b[0;36mEdgeIO.objectify\u001b[0;34m(cls, buff, reader, nullable)\u001b[0m\n\u001b[1;32m    594\u001b[0m \u001b[39m@classmethod\u001b[39m\n\u001b[1;32m    595\u001b[0m \u001b[39mdef\u001b[39;00m \u001b[39mobjectify\u001b[39m(\u001b[39mcls\u001b[39m, buff, reader, nullable\u001b[39m=\u001b[39m\u001b[39mTrue\u001b[39;00m):\n\u001b[0;32m--> 596\u001b[0m     \u001b[39mreturn\u001b[39;00m \u001b[39mcls\u001b[39;49m\u001b[39m.\u001b[39;49mis_null(buff, reader, \u001b[39mcls\u001b[39;49m\u001b[39m.\u001b[39;49m_read_edge, nullable)\n",
      "File \u001b[0;32m~/miniconda3/envs/py9/lib/python3.9/site-packages/gremlin_python/structure/io/graphbinaryV1.py:231\u001b[0m, in \u001b[0;36m_GraphBinaryTypeIO.is_null\u001b[0;34m(cls, buff, reader, else_opt, nullable)\u001b[0m\n\u001b[1;32m    229\u001b[0m \u001b[39m@classmethod\u001b[39m\n\u001b[1;32m    230\u001b[0m \u001b[39mdef\u001b[39;00m \u001b[39mis_null\u001b[39m(\u001b[39mcls\u001b[39m, buff, reader, else_opt, nullable\u001b[39m=\u001b[39m\u001b[39mTrue\u001b[39;00m):\n\u001b[0;32m--> 231\u001b[0m     \u001b[39mreturn\u001b[39;00m \u001b[39mNone\u001b[39;00m \u001b[39mif\u001b[39;00m nullable \u001b[39mand\u001b[39;00m buff\u001b[39m.\u001b[39mread(\u001b[39m1\u001b[39m)[\u001b[39m0\u001b[39m] \u001b[39m==\u001b[39m \u001b[39m0x01\u001b[39m \u001b[39melse\u001b[39;00m else_opt(buff, reader)\n",
      "File \u001b[0;32m~/miniconda3/envs/py9/lib/python3.9/site-packages/gremlin_python/structure/io/graphbinaryV1.py:600\u001b[0m, in \u001b[0;36mEdgeIO._read_edge\u001b[0;34m(cls, b, r)\u001b[0m\n\u001b[1;32m    598\u001b[0m \u001b[39m@classmethod\u001b[39m\n\u001b[1;32m    599\u001b[0m \u001b[39mdef\u001b[39;00m \u001b[39m_read_edge\u001b[39m(\u001b[39mcls\u001b[39m, b, r):\n\u001b[0;32m--> 600\u001b[0m     edgeid \u001b[39m=\u001b[39m r\u001b[39m.\u001b[39;49mread_object(b)\n\u001b[1;32m    601\u001b[0m     edgelbl \u001b[39m=\u001b[39m r\u001b[39m.\u001b[39mto_object(b, DataType\u001b[39m.\u001b[39mstring, \u001b[39mFalse\u001b[39;00m)\n\u001b[1;32m    602\u001b[0m     inv \u001b[39m=\u001b[39m Vertex(r\u001b[39m.\u001b[39mread_object(b), r\u001b[39m.\u001b[39mto_object(b, DataType\u001b[39m.\u001b[39mstring, \u001b[39mFalse\u001b[39;00m))\n",
      "File \u001b[0;32m~/miniconda3/envs/py9/lib/python3.9/site-packages/gremlin_python/structure/io/graphbinaryV1.py:194\u001b[0m, in \u001b[0;36mGraphBinaryReader.read_object\u001b[0;34m(self, b)\u001b[0m\n\u001b[1;32m    192\u001b[0m     \u001b[39mreturn\u001b[39;00m \u001b[39mself\u001b[39m\u001b[39m.\u001b[39mto_object(io\u001b[39m.\u001b[39mBytesIO(b))\n\u001b[1;32m    193\u001b[0m \u001b[39melif\u001b[39;00m \u001b[39misinstance\u001b[39m(b, io\u001b[39m.\u001b[39mBufferedIOBase):\n\u001b[0;32m--> 194\u001b[0m     \u001b[39mreturn\u001b[39;00m \u001b[39mself\u001b[39;49m\u001b[39m.\u001b[39;49mto_object(b)\n",
      "File \u001b[0;32m~/miniconda3/envs/py9/lib/python3.9/site-packages/gremlin_python/structure/io/graphbinaryV1.py:203\u001b[0m, in \u001b[0;36mGraphBinaryReader.to_object\u001b[0;34m(self, buff, data_type, nullable)\u001b[0m\n\u001b[1;32m    201\u001b[0m             buff\u001b[39m.\u001b[39mread(\u001b[39m1\u001b[39m)\n\u001b[1;32m    202\u001b[0m         \u001b[39mreturn\u001b[39;00m \u001b[39mNone\u001b[39;00m\n\u001b[0;32m--> 203\u001b[0m     \u001b[39mreturn\u001b[39;00m \u001b[39mself\u001b[39;49m\u001b[39m.\u001b[39;49mdeserializers[DataType(bt)]\u001b[39m.\u001b[39mobjectify(buff, \u001b[39mself\u001b[39m, nullable)\n\u001b[1;32m    204\u001b[0m \u001b[39melse\u001b[39;00m:\n\u001b[1;32m    205\u001b[0m     \u001b[39mreturn\u001b[39;00m \u001b[39mself\u001b[39m\u001b[39m.\u001b[39mdeserializers[data_type]\u001b[39m.\u001b[39mobjectify(buff, \u001b[39mself\u001b[39m, nullable)\n",
      "\u001b[0;31mKeyError\u001b[0m: <DataType.custom: 0>"
     ]
    }
   ],
   "source": [
    "from gremlin_python import statics\n",
    "from gremlin_python.process.graph_traversal import __\n",
    "from gremlin_python.process.strategies import *\n",
    "\n",
    "\n",
    "with execute_gremlin_statements() as add_statement:\n",
    "    # Add vertices\n",
    "    add_statement(lambda: g.addV('person').property('name', 'Bob').next())\n",
    "    add_statement(lambda: g.addV('person').property('name', 'John').next())\n",
    "    add_statement(lambda: g.addV('person').property('name', 'Frank').next())\n",
    "    add_statement(lambda: g.addV('person').property('name', 'Sally').next())\n",
    "    add_statement(lambda: g.addV('person').property('name', 'Rob').property('marked', True).next())\n",
    "    add_statement(lambda: g.addV('person').property('name', 'Bill').property('marked', True).next())\n",
    "    add_statement(lambda: g.addV('person').property('name', 'Sal').property('marked', True).next())\n",
    "\n",
    "with execute_gremlin_statements() as add_statement:\n",
    "    # Add edges\n",
    "    add_statement(lambda: g.V().has('name', 'Rob').addE('sent').to(__.V().has('name', 'Frank')).property('value', 8).next())\n",
    "    add_statement(lambda: g.V().has('name', 'Rob').addE('sent').to(__.V().has('name', 'Sally')).property('value', 7).next())\n",
    "    add_statement(lambda: g.V().has('name', 'Bill').addE('sent').to(__.V().has('name', 'Frank')).property('value', 3).next())\n",
    "    add_statement(lambda: g.V().has('name', 'Bill').addE('sent').to(__.V().has('name', 'Sally')).property('value', 10).next())\n",
    "    add_statement(lambda: g.V().has('name', 'Frank').addE('sent').to(__.V().has('name', 'Bob')).property('value', 5).next())\n",
    "    add_statement(lambda: g.V().has('name', 'Frank').addE('sent').to(__.V().has('name', 'John')).property('value', 2).next())\n",
    "    add_statement(lambda: g.V().has('name', 'Sally').addE('sent').to(__.V().has('name', 'Bob')).property('value', 3).next())\n",
    "    add_statement(lambda: g.V().has('name', 'Sally').addE('sent').to(__.V().has('name', 'John')).property('value', 3).next())\n",
    "    add_statement(lambda: g.V().has('name', 'Sal').addE('sent').to(__.V().has('name', 'Rob')).property('value', 17).next())\n"
   ]
  },
  {
   "cell_type": "markdown",
   "metadata": {},
   "source": [
    "### Find Coin Sources"
   ]
  },
  {
   "cell_type": "code",
   "execution_count": null,
   "metadata": {},
   "outputs": [],
   "source": [
    "def get_sources(g, node_name):\n",
    "    source_record = {}\n",
    "    def traverse_sources(vertex, fraction=1.0):\n",
    "        # Traverse incoming edges\n",
    "        in_edges = g.V(vertex).inE('sent').toList()\n",
    "        for edge in in_edges:\n",
    "            sender = edge.outV().next()\n",
    "            amount_from_sender = edge['value']\n",
    "            if 'marked' in sender.properties:\n",
    "                # Add record if sender is marked\n",
    "                if sender['name'] in source_record:\n",
    "                    source_record[sender['name']] += amount_from_sender * fraction\n",
    "                else:\n",
    "                    source_record[sender['name']] = amount_from_sender * fraction\n",
    "            # Recursive case\n",
    "            if g.V(sender).inE('sent').hasNext():\n",
    "                sender_total_received = sum(e['value'] for e in g.V(sender).inE('sent').toList())\n",
    "                amount_fraction = (amount_from_sender / sender_total_received) * fraction\n",
    "                traverse_sources(sender, amount_fraction)\n",
    "\n",
    "    # Start traversal\n",
    "    traverse_sources(g.V().has('name', node_name).next())\n",
    "    return source_record\n",
    "\n",
    "print(\"Sources for Bob:\")\n",
    "print(get_sources(g, 'Bob'))"
   ]
  },
  {
   "cell_type": "markdown",
   "metadata": {},
   "source": [
    "### Execute Some Queries"
   ]
  },
  {
   "cell_type": "code",
   "execution_count": null,
   "metadata": {},
   "outputs": [
    {
     "name": "stdout",
     "output_type": "stream",
     "text": [
      "v[4288]\n"
     ]
    }
   ],
   "source": [
    "from concurrent.futures import ThreadPoolExecutor\n",
    "\n",
    "# def add_vertex():\n",
    "#     return g.addV('Address').property('addr', 'some_address').next()\n",
    "\n",
    "# with ThreadPoolExecutor() as executor:\n",
    "#     future = executor.submit(add_vertex)\n",
    "#     result = future.result()\n",
    "    # print(result)\n",
    "    \n",
    "with execute_gremlin_statements() as add_statement:\n",
    "    add_statement(lambda: g.addV('Address').property('addr', 'some_address').next())"
   ]
  }
 ],
 "metadata": {
  "kernelspec": {
   "display_name": "py9",
   "language": "python",
   "name": "python3"
  },
  "language_info": {
   "codemirror_mode": {
    "name": "ipython",
    "version": 3
   },
   "file_extension": ".py",
   "mimetype": "text/x-python",
   "name": "python",
   "nbconvert_exporter": "python",
   "pygments_lexer": "ipython3",
   "version": "3.9.18"
  }
 },
 "nbformat": 4,
 "nbformat_minor": 2
}
