{
 "cells": [
  {
   "cell_type": "markdown",
   "metadata": {},
   "source": [
    "### Connect to Gremlin Server"
   ]
  },
  {
   "cell_type": "code",
   "execution_count": 1,
   "metadata": {},
   "outputs": [
    {
     "data": {
      "text/plain": [
       "[v[53047360]]"
      ]
     },
     "execution_count": 1,
     "metadata": {},
     "output_type": "execute_result"
    }
   ],
   "source": [
    "import os\n",
    "import sys\n",
    "from pathlib import Path\n",
    "\n",
    "import nest_asyncio\n",
    "nest_asyncio.apply()\n",
    "\n",
    "container_src_path = Path('/app/src/')\n",
    "local_src_path = Path(Path.cwd(), 'src/')\n",
    "\n",
    "# see if this src path exists.\n",
    "# if it does, we are in a container.\n",
    "# if not, we are in local.\n",
    "if not container_src_path.exists():\n",
    "    src_path = local_src_path\n",
    "else:\n",
    "    src_path = container_src_path\n",
    "\n",
    "src_path_str = str(src_path)\n",
    "if src_path_str not in sys.path:\n",
    "    sys.path.insert(0, src_path_str)\n",
    "\n",
    "\n",
    "from gremlin_python import statics\n",
    "from gremlin_python.process.traversal import T, Direction\n",
    "from gremlin_python.process.anonymous_traversal import traversal\n",
    "from gremlin_python.process.graph_traversal import GraphTraversalSource\n",
    "from gremlin_python.process.graph_traversal import __\n",
    "\n",
    "from graph.base import g\n",
    "from ipycytoscape_graph_visualization import visualize_graph\n",
    "\n",
    "from dotenv import load_dotenv\n",
    "\n",
    "load_dotenv()\n",
    "\n",
    "from concurrent.futures import ThreadPoolExecutor\n",
    "from contextlib import contextmanager\n",
    "from queue import Queue\n",
    "\n",
    "# Queue to hold statements\n",
    "statement_queue = Queue()\n",
    "\n",
    "# Function to add statement to queue\n",
    "def add_to_queue(statement):\n",
    "    statement_queue.put(statement)\n",
    "\n",
    "@contextmanager\n",
    "def execute_gremlin_statements():\n",
    "    try:\n",
    "        yield add_to_queue\n",
    "    finally:\n",
    "        statements = []\n",
    "        while not statement_queue.empty():\n",
    "            statements.append(statement_queue.get())\n",
    "        \n",
    "        with ThreadPoolExecutor() as executor:\n",
    "            futures = [executor.submit(statement) for statement in statements]\n",
    "            results = [future.result() for future in futures]\n",
    "\n",
    "        for result in results:\n",
    "            print(result)\n",
    "\n",
    "# test connection to gremlin server\n",
    "g.V().limit(1).toList()"
   ]
  },
  {
   "cell_type": "markdown",
   "metadata": {},
   "source": [
    "### Analyze Address `1BBZ` and Export to .gexf"
   ]
  },
  {
   "cell_type": "code",
   "execution_count": 2,
   "metadata": {},
   "outputs": [
    {
     "name": "stdout",
     "output_type": "stream",
     "text": [
      "id of address 1BBz9Z15YpELQ4QP5sEKb1SwxkcmPb5TMs: 504\n",
      "[['withStrategies', OptionsStrategy], ['withStrategies', OptionsStrategy]][['V'], ['has', 'address_id', 504], ['repeat', [['inE', 'sent'], ['otherV']]], ['emit'], ['path'], ['by', [['elementMap']]], ['by', [['elementMap']]], ['unfold']]\n",
      "DiGraph with 10 nodes and 10 edges\n",
      "amount from 187:1:0 15NU (1.0) is 1.0\n",
      "amount from 183:1:0 13Ht (1.0) is 1.0\n",
      "amount from 182:1:1 12cb (29.0) is 11.0\n",
      "amount from 181:1:1 12cb (30.0) is 11.0\n",
      "amount from 170:1:1 12cb (40.0) is 11.0\n",
      "amount from 9:0:0 12cb (50.0) is 11.0\n",
      "amount from 248:1:0 1ByL (10.0) is 10.0\n",
      "amount from 183:1:1 12cb (28.0) is 10.0\n",
      "amount from 360:0:0 18SH (50.0) is 50.0\n"
     ]
    },
    {
     "data": {
      "application/vnd.jupyter.widget-view+json": {
       "model_id": "3716fe06b4394c90b461eee5125c47f6",
       "version_major": 2,
       "version_minor": 0
      },
      "text/plain": [
       "CytoscapeWidget(cytoscape_layout={'name': 'dagre', 'nodeDimensionsIncludeLabels': True, 'rankDir': 'LR'}, cyto…"
      ]
     },
     "metadata": {},
     "output_type": "display_data"
    }
   ],
   "source": [
    "import networkx as nx\n",
    "\n",
    "from models.base import SessionLocal\n",
    "from models.bitcoin_data import Block, Tx, Address, Input, Output\n",
    "from graph.base import g\n",
    "from graph_analyze import GraphAnalyzer\n",
    "\n",
    "\n",
    "analyzer = GraphAnalyzer(g, SessionLocal)\n",
    "\n",
    "# interesting_addr = '12higDjoCCNXSA95xZMWUdPvXNmkAduhWv'\n",
    "# interesting_addr = '12cbQLTFMXRnSzktFkuoG3eHoMeFtpTu3S'\n",
    "interesting_addr = '1BBz9Z15YpELQ4QP5sEKb1SwxkcmPb5TMs'\n",
    "# interesting_addr = '1KAD5EnzzLtrSo2Da2G4zzD7uZrjk8zRAv'\n",
    "# interesting_addr = '1DCbY2GYVaAMCBpuBNN5GVg3a47pNK1wdi'\n",
    "\n",
    "with SessionLocal() as session:\n",
    "    address = session.query(Address).filter_by(addr=interesting_addr).first()\n",
    "    \n",
    "if not address:\n",
    "    print(f\"address {interesting_addr} not found\")\n",
    "    sys.exit(1)\n",
    "\n",
    "print(f\"id of address {address.addr:4}: {address.id}\")\n",
    "\n",
    "my_hist = analyzer.get_address_history(interesting_addr)\n",
    "graph = analyzer.traversal_to_networkx(my_hist, include_data=True)\n",
    "# graph = analyzer.traversal_to_networkx(my_hist)\n",
    "\n",
    "print(my_hist)\n",
    "print(graph)\n",
    "\n",
    "# dump graph to gexf file\n",
    "addr_hist_graph_path = Path('/', 'app', 'addr_hist_graph.gexf')\n",
    "nx.write_gexf(graph, addr_hist_graph_path)\n",
    "\n",
    "coin_sources = analyzer.get_coin_traces(address.id, 'address', direction='incoming', graph=graph, pretty_labels=True)\n",
    "\n",
    "for source in coin_sources.values():\n",
    "    print(f\"amount from {source['label']} is {round(source['amount'], 10)}\")\n",
    "\n",
    "from ipycytoscape_graph_visualization import visualize_graph\n",
    "\n",
    "display(visualize_graph(graph, layout='dagre'))"
   ]
  },
  {
   "cell_type": "markdown",
   "metadata": {},
   "source": [
    "### Analyze Address `1KAD`"
   ]
  },
  {
   "cell_type": "code",
   "execution_count": 3,
   "metadata": {},
   "outputs": [
    {
     "name": "stdout",
     "output_type": "stream",
     "text": [
      "id of address 1KAD5EnzzLtrSo2Da2G4zzD7uZrjk8zRAv: 557\n",
      "DiGraph with 9 nodes and 13 edges\n",
      "amount from 546:2:0 1KAD (1.0) is 0.96\n",
      "amount from 546:1:0 1KAD (1.0) is 0.96\n",
      "amount from 545:1:0 1DZT (1.0) is 0.96\n",
      "amount from 524:1:0 1DCb (25.0) is 24.0\n",
      "amount from 286:0:0 1Jhk (50.0) is 24.0\n",
      "amount from 545:1:1 1DCb (24.0) is 23.04\n",
      "amount from 546:1:1 1DZT (24.0) is 23.04\n",
      "amount from 546:2:1 1KAD (24.0) is 23.04\n"
     ]
    },
    {
     "data": {
      "application/vnd.jupyter.widget-view+json": {
       "model_id": "747c327dddd748c49cc9824be783d1f5",
       "version_major": 2,
       "version_minor": 0
      },
      "text/plain": [
       "CytoscapeWidget(cytoscape_layout={'name': 'dagre', 'nodeDimensionsIncludeLabels': True, 'rankDir': 'LR'}, cyto…"
      ]
     },
     "metadata": {},
     "output_type": "display_data"
    }
   ],
   "source": [
    "import networkx as nx\n",
    "\n",
    "from models.base import SessionLocal\n",
    "from models.bitcoin_data import Block, Tx, Address, Input, Output\n",
    "from graph.base import g\n",
    "from graph_analyze import GraphAnalyzer\n",
    "\n",
    "\n",
    "analyzer = GraphAnalyzer(g, SessionLocal)\n",
    "\n",
    "# interesting_addr = '12higDjoCCNXSA95xZMWUdPvXNmkAduhWv'\n",
    "# interesting_addr = '12cbQLTFMXRnSzktFkuoG3eHoMeFtpTu3S'\n",
    "# interesting_addr = '1BBz9Z15YpELQ4QP5sEKb1SwxkcmPb5TMs'\n",
    "interesting_addr = '1KAD5EnzzLtrSo2Da2G4zzD7uZrjk8zRAv'\n",
    "# interesting_addr = '1DCbY2GYVaAMCBpuBNN5GVg3a47pNK1wdi'\n",
    "\n",
    "with SessionLocal() as session:\n",
    "    address = session.query(Address).filter_by(addr=interesting_addr).first()\n",
    "    \n",
    "if not address:\n",
    "    print(f\"address {interesting_addr} not found\")\n",
    "    sys.exit(1)\n",
    "\n",
    "print(f\"id of address {address.addr:4}: {address.id}\")\n",
    "\n",
    "my_hist = analyzer.get_address_history(interesting_addr)\n",
    "graph = analyzer.traversal_to_networkx(my_hist, include_data=True)\n",
    "\n",
    "print(graph)\n",
    "\n",
    "coin_sources = analyzer.get_coin_traces(address.id, 'address', direction='incoming', graph=graph, pretty_labels=True)\n",
    "\n",
    "for source in coin_sources.values():\n",
    "    print(f\"amount from {source['label']} is {round(source['amount'], 10)}\")\n",
    "\n",
    "from ipycytoscape_graph_visualization import visualize_graph\n",
    "\n",
    "display(visualize_graph(graph, layout='dagre'))"
   ]
  },
  {
   "cell_type": "markdown",
   "metadata": {},
   "source": [
    "### Trace Forwards from `1Jhk`"
   ]
  },
  {
   "cell_type": "code",
   "execution_count": 4,
   "metadata": {},
   "outputs": [
    {
     "name": "stdout",
     "output_type": "stream",
     "text": [
      "id of address 1Jhk2DHosaaZx1E4CbnTGcKM7FC88YHYv9: 293\n",
      "DiGraph with 11 nodes and 16 edges\n"
     ]
    },
    {
     "ename": "KeyError",
     "evalue": "52387992",
     "output_type": "error",
     "traceback": [
      "\u001b[0;31m---------------------------------------------------------------------------\u001b[0m",
      "\u001b[0;31mKeyError\u001b[0m                                  Traceback (most recent call last)",
      "Cell \u001b[0;32mIn[4], line 27\u001b[0m\n\u001b[1;32m     23\u001b[0m graph \u001b[38;5;241m=\u001b[39m analyzer\u001b[38;5;241m.\u001b[39mtraversal_to_networkx(my_hist, include_data\u001b[38;5;241m=\u001b[39m\u001b[38;5;28;01mTrue\u001b[39;00m)\n\u001b[1;32m     25\u001b[0m \u001b[38;5;28mprint\u001b[39m(graph)\n\u001b[0;32m---> 27\u001b[0m coin_sources \u001b[38;5;241m=\u001b[39m \u001b[43manalyzer\u001b[49m\u001b[38;5;241;43m.\u001b[39;49m\u001b[43mget_coin_traces\u001b[49m\u001b[43m(\u001b[49m\u001b[43maddress\u001b[49m\u001b[38;5;241;43m.\u001b[39;49m\u001b[43mid\u001b[49m\u001b[43m,\u001b[49m\u001b[43m \u001b[49m\u001b[38;5;124;43m'\u001b[39;49m\u001b[38;5;124;43maddress\u001b[39;49m\u001b[38;5;124;43m'\u001b[39;49m\u001b[43m,\u001b[49m\u001b[43m \u001b[49m\u001b[43mdirection\u001b[49m\u001b[38;5;241;43m=\u001b[39;49m\u001b[38;5;124;43m'\u001b[39;49m\u001b[38;5;124;43moutgoing\u001b[39;49m\u001b[38;5;124;43m'\u001b[39;49m\u001b[43m,\u001b[49m\u001b[43m \u001b[49m\u001b[43mgraph\u001b[49m\u001b[38;5;241;43m=\u001b[39;49m\u001b[43mgraph\u001b[49m\u001b[43m,\u001b[49m\u001b[43m \u001b[49m\u001b[43mpretty_labels\u001b[49m\u001b[38;5;241;43m=\u001b[39;49m\u001b[38;5;28;43;01mTrue\u001b[39;49;00m\u001b[43m)\u001b[49m\n\u001b[1;32m     29\u001b[0m \u001b[38;5;28;01mfor\u001b[39;00m source \u001b[38;5;129;01min\u001b[39;00m coin_sources\u001b[38;5;241m.\u001b[39mvalues():\n\u001b[1;32m     30\u001b[0m     \u001b[38;5;28mprint\u001b[39m(\u001b[38;5;124mf\u001b[39m\u001b[38;5;124m\"\u001b[39m\u001b[38;5;124mamount from \u001b[39m\u001b[38;5;132;01m{\u001b[39;00msource[\u001b[38;5;124m'\u001b[39m\u001b[38;5;124mlabel\u001b[39m\u001b[38;5;124m'\u001b[39m]\u001b[38;5;132;01m}\u001b[39;00m\u001b[38;5;124m is \u001b[39m\u001b[38;5;132;01m{\u001b[39;00m\u001b[38;5;28mround\u001b[39m(source[\u001b[38;5;124m'\u001b[39m\u001b[38;5;124mamount\u001b[39m\u001b[38;5;124m'\u001b[39m],\u001b[38;5;250m \u001b[39m\u001b[38;5;241m10\u001b[39m)\u001b[38;5;132;01m}\u001b[39;00m\u001b[38;5;124m\"\u001b[39m)\n",
      "File \u001b[0;32m/app/src/graph_analyze.py:251\u001b[0m, in \u001b[0;36mGraphAnalyzer.get_coin_traces\u001b[0;34m(self, vertex_id, vertex_type, direction, graph, pretty_labels)\u001b[0m\n\u001b[1;32m    249\u001b[0m     \u001b[38;5;28;01mfor\u001b[39;00m vertex \u001b[38;5;129;01min\u001b[39;00m vertices:\n\u001b[1;32m    250\u001b[0m         \u001b[38;5;28;01mif\u001b[39;00m graph\u001b[38;5;241m.\u001b[39mnodes[vertex][\u001b[38;5;124m'\u001b[39m\u001b[38;5;124mvalue\u001b[39m\u001b[38;5;124m'\u001b[39m] \u001b[38;5;241m>\u001b[39m \u001b[38;5;241m0\u001b[39m:\n\u001b[0;32m--> 251\u001b[0m             \u001b[43mtraverse_sources\u001b[49m\u001b[43m(\u001b[49m\u001b[43mvertex\u001b[49m\u001b[43m,\u001b[49m\u001b[43m \u001b[49m\u001b[43mfraction\u001b[49m\u001b[38;5;241;43m=\u001b[39;49m\u001b[43mgraph\u001b[49m\u001b[38;5;241;43m.\u001b[39;49m\u001b[43mnodes\u001b[49m\u001b[43m[\u001b[49m\u001b[43mvertex\u001b[49m\u001b[43m]\u001b[49m\u001b[43m[\u001b[49m\u001b[38;5;124;43m'\u001b[39;49m\u001b[38;5;124;43mvalue\u001b[39;49m\u001b[38;5;124;43m'\u001b[39;49m\u001b[43m]\u001b[49m\u001b[43m \u001b[49m\u001b[38;5;241;43m/\u001b[39;49m\u001b[43m \u001b[49m\u001b[43mtotal_contribution\u001b[49m\u001b[43m)\u001b[49m\n\u001b[1;32m    252\u001b[0m \u001b[38;5;28;01mfinally\u001b[39;00m:\n\u001b[1;32m    253\u001b[0m     \u001b[38;5;28;01mif\u001b[39;00m direction \u001b[38;5;241m==\u001b[39m \u001b[38;5;124m'\u001b[39m\u001b[38;5;124mincoming\u001b[39m\u001b[38;5;124m'\u001b[39m:\n",
      "File \u001b[0;32m/app/src/graph_analyze.py:218\u001b[0m, in \u001b[0;36mGraphAnalyzer.get_coin_traces.<locals>.traverse_sources\u001b[0;34m(vertex, fraction)\u001b[0m\n\u001b[1;32m    216\u001b[0m \u001b[38;5;66;03m# if traversing forwards, subtract the child transfer from the parent\u001b[39;00m\n\u001b[1;32m    217\u001b[0m \u001b[38;5;28;01mif\u001b[39;00m direction \u001b[38;5;241m==\u001b[39m \u001b[38;5;124m'\u001b[39m\u001b[38;5;124moutgoing\u001b[39m\u001b[38;5;124m'\u001b[39m:\n\u001b[0;32m--> 218\u001b[0m     \u001b[43msources_record\u001b[49m\u001b[43m[\u001b[49m\u001b[43mvertex\u001b[49m\u001b[43m]\u001b[49m \u001b[38;5;241m-\u001b[39m\u001b[38;5;241m=\u001b[39m child_transfer \u001b[38;5;241m*\u001b[39m fraction\n\u001b[1;32m    219\u001b[0m \u001b[38;5;66;03m# Recursive case\u001b[39;00m\n\u001b[1;32m    220\u001b[0m grandchildren \u001b[38;5;241m=\u001b[39m graph\u001b[38;5;241m.\u001b[39msuccessors(child)\n",
      "\u001b[0;31mKeyError\u001b[0m: 52387992"
     ]
    }
   ],
   "source": [
    "import networkx as nx\n",
    "\n",
    "from models.base import SessionLocal\n",
    "from models.bitcoin_data import Block, Tx, Address, Input, Output\n",
    "from graph.base import g\n",
    "from graph_analyze import GraphAnalyzer\n",
    "\n",
    "\n",
    "analyzer = GraphAnalyzer(g, SessionLocal)\n",
    "\n",
    "interesting_addr = '1Jhk2DHosaaZx1E4CbnTGcKM7FC88YHYv9'\n",
    "\n",
    "with SessionLocal() as session:\n",
    "    address = session.query(Address).filter_by(addr=interesting_addr).first()\n",
    "    \n",
    "if not address:\n",
    "    print(f\"address {interesting_addr} not found\")\n",
    "    sys.exit(1)\n",
    "\n",
    "print(f\"id of address {address.addr:4}: {address.id}\")\n",
    "\n",
    "my_hist = analyzer.get_vertex_path(address.id, 'address')\n",
    "graph = analyzer.traversal_to_networkx(my_hist, include_data=True)\n",
    "\n",
    "print(graph)\n",
    "\n",
    "coin_sources = analyzer.get_coin_traces(address.id, 'address', direction='outgoing', graph=graph, pretty_labels=True)\n",
    "\n",
    "for source in coin_sources.values():\n",
    "    print(f\"amount from {source['label']} is {round(source['amount'], 10)}\")\n",
    "\n",
    "from ipycytoscape_graph_visualization import visualize_graph\n",
    "\n",
    "display(visualize_graph(graph, layout='dagre'))"
   ]
  },
  {
   "cell_type": "markdown",
   "metadata": {},
   "source": [
    "### Analyzing an Output"
   ]
  },
  {
   "cell_type": "code",
   "execution_count": null,
   "metadata": {},
   "outputs": [
    {
     "name": "stdout",
     "output_type": "stream",
     "text": [
      "DiGraph with 3 nodes and 2 edges\n",
      "Received 1.0 of 100000000 from 545:1:0 1DZT (1.0)\n",
      "amount from 524:1:0 1DCb (25.0) is 1.0\n",
      "amount from 286:0:0 1Jhk (50.0) is 1.0\n"
     ]
    },
    {
     "data": {
      "application/vnd.jupyter.widget-view+json": {
       "model_id": "e34204b8f21a44a5aef1554686d6e77c",
       "version_major": 2,
       "version_minor": 0
      },
      "text/plain": [
       "CytoscapeWidget(cytoscape_layout={'name': 'dagre', 'nodeDimensionsIncludeLabels': True, 'rankDir': 'LR'}, cyto…"
      ]
     },
     "metadata": {},
     "output_type": "display_data"
    }
   ],
   "source": [
    "import networkx as nx\n",
    "\n",
    "from models.base import SessionLocal\n",
    "from models.bitcoin_data import Block, Tx, Address, Input, Output\n",
    "from graph.base import g\n",
    "from graph_analyze import GraphAnalyzer\n",
    "\n",
    "\n",
    "analyzer = GraphAnalyzer(g, SessionLocal)\n",
    "\n",
    "interesting_output = 561\n",
    "\n",
    "my_hist = analyzer.get_output_history(interesting_output)\n",
    "graph = analyzer.traversal_to_networkx(my_hist, include_data=True)\n",
    "\n",
    "print(graph)\n",
    "\n",
    "coin_sources = analyzer.get_coin_traces(interesting_output, 'output', graph, pretty_labels=True)\n",
    "\n",
    "for source in coin_sources.values():\n",
    "    print(f\"amount from {source['label']} is {source['amount']}\")\n",
    "\n",
    "from ipycytoscape_graph_visualization import visualize_graph\n",
    "\n",
    "display(visualize_graph(graph, layout='dagre'))"
   ]
  },
  {
   "cell_type": "markdown",
   "metadata": {},
   "source": [
    "### Traverse Forward"
   ]
  },
  {
   "cell_type": "code",
   "execution_count": null,
   "metadata": {},
   "outputs": [
    {
     "name": "stdout",
     "output_type": "stream",
     "text": [
      "id of address 12cbQLTFMXRnSzktFkuoG3eHoMeFtpTu3S: 9\n",
      "DiGraph with 110 nodes and 115 edges\n"
     ]
    },
    {
     "data": {
      "application/vnd.jupyter.widget-view+json": {
       "model_id": "08036fc7c694423bb364b5ea0994dbf5",
       "version_major": 2,
       "version_minor": 0
      },
      "text/plain": [
       "CytoscapeWidget(cytoscape_layout={'name': 'dagre', 'nodeDimensionsIncludeLabels': True, 'rankDir': 'LR'}, cyto…"
      ]
     },
     "metadata": {},
     "output_type": "display_data"
    }
   ],
   "source": [
    "import networkx as nx\n",
    "\n",
    "from models.base import SessionLocal\n",
    "from models.bitcoin_data import Block, Tx, Address, Input, Output\n",
    "from graph.base import g\n",
    "from graph_analyze import GraphAnalyzer\n",
    "\n",
    "\n",
    "analyzer = GraphAnalyzer(g, SessionLocal)\n",
    "\n",
    "# interesting_addr = '12higDjoCCNXSA95xZMWUdPvXNmkAduhWv'\n",
    "interesting_addr = '12cbQLTFMXRnSzktFkuoG3eHoMeFtpTu3S'\n",
    "# interesting_addr = '1BBz9Z15YpELQ4QP5sEKb1SwxkcmPb5TMs'\n",
    "# interesting_addr = '1KAD5EnzzLtrSo2Da2G4zzD7uZrjk8zRAv'\n",
    "# interesting_addr = '1DCbY2GYVaAMCBpuBNN5GVg3a47pNK1wdi'\n",
    "\n",
    "with SessionLocal() as session:\n",
    "    address = session.query(Address).filter_by(addr=interesting_addr).first()\n",
    "    \n",
    "if not address:\n",
    "    print(f\"address {interesting_addr} not found\")\n",
    "    sys.exit(1)\n",
    "\n",
    "print(f\"id of address {address.addr:4}: {address.id}\")\n",
    "\n",
    "my_path = analyzer.get_vertex_path(address.id, 'address')\n",
    "graph = analyzer.traversal_to_networkx(my_path, include_data=True)\n",
    "\n",
    "print(graph)\n",
    "\n",
    "# print(analyzer.get_coin_destinations(address.id, 'address', graph, pretty_labels=True))\n",
    "\n",
    "from ipycytoscape_graph_visualization import visualize_graph\n",
    "\n",
    "display(visualize_graph(graph, layout='dagre'))"
   ]
  }
 ],
 "metadata": {
  "kernelspec": {
   "display_name": "py9",
   "language": "python",
   "name": "python3"
  },
  "language_info": {
   "codemirror_mode": {
    "name": "ipython",
    "version": 3
   },
   "file_extension": ".py",
   "mimetype": "text/x-python",
   "name": "python",
   "nbconvert_exporter": "python",
   "pygments_lexer": "ipython3",
   "version": "3.12.1"
  }
 },
 "nbformat": 4,
 "nbformat_minor": 2
}
