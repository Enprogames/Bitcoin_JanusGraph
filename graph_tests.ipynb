{
 "cells": [
  {
   "cell_type": "markdown",
   "metadata": {},
   "source": [
    "### Connect to Gremlin Server"
   ]
  },
  {
   "cell_type": "code",
   "execution_count": 1,
   "metadata": {},
   "outputs": [
    {
     "data": {
      "text/plain": [
       "[v[53047360]]"
      ]
     },
     "execution_count": 1,
     "metadata": {},
     "output_type": "execute_result"
    }
   ],
   "source": [
    "import os\n",
    "import sys\n",
    "from pathlib import Path\n",
    "\n",
    "import nest_asyncio\n",
    "nest_asyncio.apply()\n",
    "\n",
    "container_src_path = Path('/app/src/')\n",
    "local_src_path = Path(Path.cwd(), 'src/')\n",
    "\n",
    "# see if this src path exists.\n",
    "# if it does, we are in a container.\n",
    "# if not, we are in local.\n",
    "if not container_src_path.exists():\n",
    "    src_path = local_src_path\n",
    "else:\n",
    "    src_path = container_src_path\n",
    "\n",
    "src_path_str = str(src_path)\n",
    "if src_path_str not in sys.path:\n",
    "    sys.path.insert(0, src_path_str)\n",
    "\n",
    "\n",
    "from gremlin_python import statics\n",
    "from gremlin_python.process.traversal import T, Direction\n",
    "from gremlin_python.process.anonymous_traversal import traversal\n",
    "from gremlin_python.process.graph_traversal import GraphTraversalSource\n",
    "from gremlin_python.process.graph_traversal import __\n",
    "\n",
    "from graph.base import g\n",
    "from ipycytoscape_graph_visualization import visualize_graph\n",
    "\n",
    "from dotenv import load_dotenv\n",
    "\n",
    "load_dotenv()\n",
    "\n",
    "from concurrent.futures import ThreadPoolExecutor\n",
    "from contextlib import contextmanager\n",
    "from queue import Queue\n",
    "\n",
    "# Queue to hold statements\n",
    "statement_queue = Queue()\n",
    "\n",
    "# Function to add statement to queue\n",
    "def add_to_queue(statement):\n",
    "    statement_queue.put(statement)\n",
    "\n",
    "@contextmanager\n",
    "def execute_gremlin_statements():\n",
    "    try:\n",
    "        yield add_to_queue\n",
    "    finally:\n",
    "        statements = []\n",
    "        while not statement_queue.empty():\n",
    "            statements.append(statement_queue.get())\n",
    "        \n",
    "        with ThreadPoolExecutor() as executor:\n",
    "            futures = [executor.submit(statement) for statement in statements]\n",
    "            results = [future.result() for future in futures]\n",
    "\n",
    "        for result in results:\n",
    "            print(result)\n",
    "\n",
    "# test connection to gremlin server\n",
    "g.V().limit(1).toList()"
   ]
  },
  {
   "cell_type": "markdown",
   "metadata": {},
   "source": [
    "### Get Networkx Graph"
   ]
  },
  {
   "cell_type": "code",
   "execution_count": 2,
   "metadata": {},
   "outputs": [
    {
     "name": "stdout",
     "output_type": "stream",
     "text": [
      "id of address 1BBz9Z15YpELQ4QP5sEKb1SwxkcmPb5TMs: 504\n",
      "[['withStrategies', OptionsStrategy], ['withStrategies', OptionsStrategy]][['V'], ['has', 'address_id', 504], ['repeat', [['inE', 'sent'], ['otherV']]], ['emit'], ['path'], ['by', [['elementMap']]], ['by', [['elementMap']]], ['unfold']]\n",
      "DiGraph with 10 nodes and 10 edges\n",
      "{196: {'amount': 1.0, 'label': '187:1:0 15NU (1.0)'}, 190: {'amount': 1.0, 'label': '183:1:0 13Ht (1.0)'}, 188: {'amount': 11.0, 'label': '182:1:1 12cb (29.0)'}, 185: {'amount': 11.0, 'label': '181:1:1 12cb (30.0)'}, 172: {'amount': 11.0, 'label': '170:1:1 12cb (40.0)'}, 9: {'amount': 11.0, 'label': '9:0:0 12cb (50.0)'}, 259: {'amount': 9.999999999999998, 'label': '248:1:0 1ByL (10.0)'}, 191: {'amount': 9.999999999999998, 'label': '183:1:1 12cb (28.0)'}, 372: {'amount': 50.0, 'label': '360:0:0 18SH (50.0)'}}\n"
     ]
    },
    {
     "data": {
      "application/vnd.jupyter.widget-view+json": {
       "model_id": "5a922f8d1bb74959b5a6c79784fa27a2",
       "version_major": 2,
       "version_minor": 0
      },
      "text/plain": [
       "CytoscapeWidget(cytoscape_layout={'name': 'dagre', 'nodeDimensionsIncludeLabels': True, 'rankDir': 'LR'}, cyto…"
      ]
     },
     "metadata": {},
     "output_type": "display_data"
    }
   ],
   "source": [
    "import networkx as nx\n",
    "\n",
    "from models.base import SessionLocal\n",
    "from models.bitcoin_data import Block, Tx, Address, Input, Output\n",
    "from graph.base import g\n",
    "from graph_analyze import GraphAnalyzer\n",
    "\n",
    "\n",
    "analyzer = GraphAnalyzer(g, SessionLocal)\n",
    "\n",
    "# interesting_addr = '12higDjoCCNXSA95xZMWUdPvXNmkAduhWv'\n",
    "# interesting_addr = '12cbQLTFMXRnSzktFkuoG3eHoMeFtpTu3S'\n",
    "interesting_addr = '1BBz9Z15YpELQ4QP5sEKb1SwxkcmPb5TMs'\n",
    "# interesting_addr = '1KAD5EnzzLtrSo2Da2G4zzD7uZrjk8zRAv'\n",
    "# interesting_addr = '1DCbY2GYVaAMCBpuBNN5GVg3a47pNK1wdi'\n",
    "\n",
    "with SessionLocal() as session:\n",
    "    address = session.query(Address).filter_by(addr=interesting_addr).first()\n",
    "    \n",
    "if not address:\n",
    "    print(f\"address {interesting_addr} not found\")\n",
    "    sys.exit(1)\n",
    "\n",
    "print(f\"id of address {address.addr:4}: {address.id}\")\n",
    "\n",
    "my_hist = analyzer.get_address_history(interesting_addr)\n",
    "graph = analyzer.traversal_to_networkx(my_hist, include_data=True)\n",
    "# graph = analyzer.traversal_to_networkx(my_hist)\n",
    "\n",
    "print(my_hist)\n",
    "print(graph)\n",
    "\n",
    "# dump graph to gexf file\n",
    "addr_hist_graph_path = Path('/', 'app', 'addr_hist_graph.gexf')\n",
    "nx.write_gexf(graph, addr_hist_graph_path)\n",
    "\n",
    "print(analyzer.get_coin_sources(address.id, 'address', graph, pretty_labels=True))\n",
    "\n",
    "from ipycytoscape_graph_visualization import visualize_graph\n",
    "\n",
    "display(visualize_graph(graph, layout='dagre'))"
   ]
  },
  {
   "cell_type": "markdown",
   "metadata": {},
   "source": [
    "### Analyzing an Output"
   ]
  },
  {
   "cell_type": "code",
   "execution_count": 6,
   "metadata": {},
   "outputs": [
    {
     "name": "stdout",
     "output_type": "stream",
     "text": [
      "DiGraph with 3 nodes and 2 edges\n",
      "amount from 524:1:0 1DCb (25.0) is 1.0\n",
      "amount from 286:0:0 1Jhk (50.0) is 1.0\n"
     ]
    },
    {
     "data": {
      "application/vnd.jupyter.widget-view+json": {
       "model_id": "6be8898524a44850a93ca7056315c2ca",
       "version_major": 2,
       "version_minor": 0
      },
      "text/plain": [
       "CytoscapeWidget(cytoscape_layout={'name': 'dagre', 'nodeDimensionsIncludeLabels': True, 'rankDir': 'LR'}, cyto…"
      ]
     },
     "metadata": {},
     "output_type": "display_data"
    }
   ],
   "source": [
    "import networkx as nx\n",
    "\n",
    "from models.base import SessionLocal\n",
    "from models.bitcoin_data import Block, Tx, Address, Input, Output\n",
    "from graph.base import g\n",
    "from graph_analyze import GraphAnalyzer\n",
    "\n",
    "\n",
    "analyzer = GraphAnalyzer(g, SessionLocal)\n",
    "\n",
    "interesting_output = 561\n",
    "\n",
    "my_hist = analyzer.get_output_history(interesting_output)\n",
    "graph = analyzer.traversal_to_networkx(my_hist, include_data=True)\n",
    "\n",
    "print(graph)\n",
    "\n",
    "coin_sources = analyzer.get_coin_sources(interesting_output, 'output', graph, pretty_labels=True)\n",
    "\n",
    "for source in coin_sources.values():\n",
    "    print(f\"amount from {source['label']} is {source['amount']}\")\n",
    "\n",
    "from ipycytoscape_graph_visualization import visualize_graph\n",
    "\n",
    "display(visualize_graph(graph, layout='dagre'))"
   ]
  }
 ],
 "metadata": {
  "kernelspec": {
   "display_name": "py9",
   "language": "python",
   "name": "python3"
  },
  "language_info": {
   "codemirror_mode": {
    "name": "ipython",
    "version": 3
   },
   "file_extension": ".py",
   "mimetype": "text/x-python",
   "name": "python",
   "nbconvert_exporter": "python",
   "pygments_lexer": "ipython3",
   "version": "3.12.1"
  }
 },
 "nbformat": 4,
 "nbformat_minor": 2
}
