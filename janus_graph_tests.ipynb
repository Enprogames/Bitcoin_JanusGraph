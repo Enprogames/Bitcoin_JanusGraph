{
 "cells": [
  {
   "cell_type": "markdown",
   "metadata": {},
   "source": [
    "### Connect to Gremlin Server"
   ]
  },
  {
   "cell_type": "code",
   "execution_count": 3,
   "metadata": {},
   "outputs": [],
   "source": [
    "import os\n",
    "import sys\n",
    "from pathlib import Path\n",
    "\n",
    "container_src_path = Path('/app/src/')\n",
    "local_src_path = Path(Path.cwd(), 'src/')\n",
    "\n",
    "# see if this src path exists.\n",
    "# if it does, we are in a container.\n",
    "# if not, we are in local.\n",
    "if not container_src_path.exists():\n",
    "    src_path = local_src_path\n",
    "else:\n",
    "    src_path = container_src_path\n",
    "\n",
    "src_path_str = str(src_path)\n",
    "if src_path_str not in sys.path:\n",
    "    sys.path.insert(0, src_path_str)\n",
    "\n",
    "from dotenv import load_dotenv\n",
    "\n",
    "from graph_populate import g\n",
    "\n",
    "load_dotenv()\n",
    "\n",
    "from concurrent.futures import ThreadPoolExecutor\n",
    "from contextlib import contextmanager\n",
    "from queue import Queue\n",
    "\n",
    "# Queue to hold statements\n",
    "statement_queue = Queue()\n",
    "\n",
    "# Function to add statement to queue\n",
    "def add_to_queue(statement):\n",
    "    statement_queue.put(statement)\n",
    "\n",
    "@contextmanager\n",
    "def execute_gremlin_statements():\n",
    "    try:\n",
    "        yield add_to_queue\n",
    "    finally:\n",
    "        statements = []\n",
    "        while not statement_queue.empty():\n",
    "            statements.append(statement_queue.get())\n",
    "        \n",
    "        with ThreadPoolExecutor() as executor:\n",
    "            futures = [executor.submit(statement) for statement in statements]\n",
    "            results = [future.result() for future in futures]\n",
    "\n",
    "        for result in results:\n",
    "            print(result)"
   ]
  },
  {
   "cell_type": "markdown",
   "metadata": {},
   "source": [
    "### Clear Database"
   ]
  },
  {
   "cell_type": "code",
   "execution_count": 4,
   "metadata": {},
   "outputs": [
    {
     "name": "stdout",
     "output_type": "stream",
     "text": [
      "[['V'], ['drop'], ['none']]\n"
     ]
    }
   ],
   "source": [
    "with execute_gremlin_statements() as add_statement:\n",
    "\n",
    "    add_statement(lambda: g.V().drop().iterate())"
   ]
  },
  {
   "cell_type": "markdown",
   "metadata": {},
   "source": [
    "### Execute Some Queries"
   ]
  },
  {
   "cell_type": "code",
   "execution_count": 5,
   "metadata": {},
   "outputs": [
    {
     "name": "stdout",
     "output_type": "stream",
     "text": [
      "v[4288]\n"
     ]
    }
   ],
   "source": [
    "from concurrent.futures import ThreadPoolExecutor\n",
    "\n",
    "# def add_vertex():\n",
    "#     return g.addV('Address').property('addr', 'some_address').next()\n",
    "\n",
    "# with ThreadPoolExecutor() as executor:\n",
    "#     future = executor.submit(add_vertex)\n",
    "#     result = future.result()\n",
    "    # print(result)\n",
    "    \n",
    "with execute_gremlin_statements() as add_statement:\n",
    "    add_statement(lambda: g.addV('Address').property('addr', 'some_address').next())"
   ]
  }
 ],
 "metadata": {
  "kernelspec": {
   "display_name": "py9",
   "language": "python",
   "name": "python3"
  },
  "language_info": {
   "codemirror_mode": {
    "name": "ipython",
    "version": 3
   },
   "file_extension": ".py",
   "mimetype": "text/x-python",
   "name": "python",
   "nbconvert_exporter": "python",
   "pygments_lexer": "ipython3",
   "version": "3.9.18"
  }
 },
 "nbformat": 4,
 "nbformat_minor": 2
}
